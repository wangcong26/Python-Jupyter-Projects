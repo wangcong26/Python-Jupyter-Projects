{
 "cells": [
  {
   "cell_type": "code",
   "execution_count": null,
   "metadata": {},
   "outputs": [],
   "source": [
    "x=[\"-1\"]"
   ]
  },
  {
   "cell_type": "code",
   "execution_count": 1,
   "metadata": {},
   "outputs": [],
   "source": [
    "import scipy.stats as spst\n",
    "import scipy\n",
    "from scipy import optimize\n",
    "import seaborn as sns\n",
    "import numpy as np\n",
    "import pandas as pd\n",
    "import qrbook_funcs as qf\n",
    "from scipy import stats\n",
    "from tabulate import tabulate\n",
    "from arch import arch_model\n",
    "import math\n",
    "import statistics \n",
    "import matplotlib.pyplot as plt\n",
    "%matplotlib inline"
   ]
  },
  {
   "cell_type": "markdown",
   "metadata": {},
   "source": [
    "#### Q1 a) What's OAS"
   ]
  },
  {
   "cell_type": "code",
   "execution_count": 2,
   "metadata": {},
   "outputs": [],
   "source": [
    "def rate_curve(t):\n",
    "    return (6-5*math.exp(-t/30))/100"
   ]
  },
  {
   "cell_type": "code",
   "execution_count": 3,
   "metadata": {},
   "outputs": [],
   "source": [
    "def bondPrice(t,OAS):\n",
    "    time_array=np.arange(1,t+1)\n",
    "    coupon_list_dis=[]\n",
    "    for time in time_array:\n",
    "        r=(6-5*math.exp(-time/30))/100\n",
    "        coupon_dis=(100*r+3)*math.exp(-time*(r+OAS/100))\n",
    "        coupon_list_dis.append(coupon_dis)\n",
    "    \n",
    "    r_end=(6-5*math.exp(-t/30))/100\n",
    "    coupon_list_dis.append(100*math.exp(-1*t*(r_end+OAS/100)))\n",
    "    return sum(coupon_list_dis)"
   ]
  },
  {
   "cell_type": "code",
   "execution_count": 4,
   "metadata": {},
   "outputs": [
    {
     "data": {
      "text/plain": [
       "82.45374686877977"
      ]
     },
     "execution_count": 4,
     "metadata": {},
     "output_type": "execute_result"
    }
   ],
   "source": [
    "bondPrice(30,3.1415926)"
   ]
  },
  {
   "cell_type": "code",
   "execution_count": 5,
   "metadata": {},
   "outputs": [],
   "source": [
    "current_price=82.4537464147"
   ]
  },
  {
   "cell_type": "code",
   "execution_count": 6,
   "metadata": {},
   "outputs": [],
   "source": [
    "def bondPriceDiff(OAS):\n",
    "    return abs(bondPrice(30,OAS)-current_price)"
   ]
  },
  {
   "cell_type": "code",
   "execution_count": 7,
   "metadata": {},
   "outputs": [
    {
     "data": {
      "text/plain": [
       "3.141592657730998"
      ]
     },
     "execution_count": 7,
     "metadata": {},
     "output_type": "execute_result"
    }
   ],
   "source": [
    "x=scipy.optimize.minimize_scalar(bondPriceDiff)\n",
    "OAS=x.x\n",
    "OAS"
   ]
  },
  {
   "cell_type": "markdown",
   "metadata": {},
   "source": [
    "#### The OAS is 3.141592657730998%"
   ]
  },
  {
   "cell_type": "markdown",
   "metadata": {},
   "source": [
    "#### Q1 b) What's effective duration and spread duration"
   ]
  },
  {
   "cell_type": "code",
   "execution_count": 8,
   "metadata": {},
   "outputs": [],
   "source": [
    "def bondPrice2(T,OAS,delta):\n",
    "    time_array=np.arange(1,T+1)\n",
    "    coupon_list_dis=[]\n",
    "    for time in time_array:\n",
    "        r=(6-5*math.exp(-time/30))/100+delta\n",
    "        coupon_dis=(100*r+3)*math.exp(-time*(r+OAS/100))\n",
    "        coupon_list_dis.append(coupon_dis)\n",
    "    \n",
    "    r_end=(6-5*math.exp(-T/30))/100\n",
    "    coupon_list_dis.append(100*math.exp(-1*T*(r_end+OAS/100+delta)))\n",
    "    return sum(coupon_list_dis)"
   ]
  },
  {
   "cell_type": "code",
   "execution_count": 9,
   "metadata": {},
   "outputs": [
    {
     "name": "stdout",
     "output_type": "stream",
     "text": [
      "Effective duration rate is:  -1.9303379385854385\n"
     ]
    }
   ],
   "source": [
    "delta=0.0001\n",
    "price_increase_delta=bondPrice2(30,OAS,delta)\n",
    "price_decrease_delta=bondPrice2(30,OAS,-delta)\n",
    "effective_DR=(price_decrease_delta-price_increase_delta)/(2*delta*current_price)\n",
    "print(\"Effective duration rate is: \", effective_DR)"
   ]
  },
  {
   "cell_type": "code",
   "execution_count": 10,
   "metadata": {},
   "outputs": [
    {
     "name": "stdout",
     "output_type": "stream",
     "text": [
      "Option-adjusted spread duration rate is:  -0.14300003261835548\n"
     ]
    }
   ],
   "source": [
    "spread=1\n",
    "price_increase_sp=bondPrice2(30,OAS-spread,delta)\n",
    "price_decrease_sp=bondPrice2(30,OAS+spread,-delta)\n",
    "sp_DR=(price_decrease_sp-price_increase_sp)/(2*spread*current_price)\n",
    "print(\"Option-adjusted spread duration rate is: \", sp_DR)"
   ]
  },
  {
   "cell_type": "markdown",
   "metadata": {},
   "source": [
    "#### Q1 c) Why effective rate duration is not close to 0"
   ]
  },
  {
   "cell_type": "markdown",
   "metadata": {},
   "source": [
    "#### Because the rate curve in our question is not flat. Also the coupon in the nominator is dependent on the rate curve which is not flat"
   ]
  },
  {
   "cell_type": "markdown",
   "metadata": {},
   "source": [
    "#### Q2 (a) Find the price"
   ]
  },
  {
   "cell_type": "code",
   "execution_count": 11,
   "metadata": {},
   "outputs": [],
   "source": [
    "def bondPrice_default(T, coupon, p_def, R, OAS):\n",
    "    \n",
    "    # time period\n",
    "    time_array=np.arange(1,T+1)\n",
    "    \n",
    "    # first term\n",
    "    first_term_sum=0    \n",
    "    for time in time_array:\n",
    "        first_term_sum=first_term_sum+((1-p_def)**time)/((1+(rate_curve(time)+OAS))**time)\n",
    "    \n",
    "    first_term=first_term_sum*(R*p_def/(1-p_def))\n",
    "    \n",
    "    # second term\n",
    "    second_term=coupon*first_term_sum\n",
    "    \n",
    "    # third term\n",
    "    last_term=100*((1-p_def)**T/((1+(rate_curve(T)+OAS))**T))\n",
    "    \n",
    "    # result\n",
    "    res=first_term+second_term+last_term\n",
    "        \n",
    "    return res"
   ]
  },
  {
   "cell_type": "code",
   "execution_count": 12,
   "metadata": {},
   "outputs": [
    {
     "data": {
      "text/plain": [
       "61.560233352571075"
      ]
     },
     "execution_count": 12,
     "metadata": {},
     "output_type": "execute_result"
    }
   ],
   "source": [
    "bondPrice_default(30,2,0.02,50,0)"
   ]
  },
  {
   "cell_type": "code",
   "execution_count": 13,
   "metadata": {},
   "outputs": [],
   "source": [
    "def bondPrice_default2(T,coupon, p_def, R):\n",
    "    # time period\n",
    "    time_array=np.arange(1,T+1)\n",
    "    \n",
    "    # first term\n",
    "    first_term_sum=0\n",
    "    for time in time_array:\n",
    "        v=(1+rate_curve(time))/(1-p_def)-1\n",
    "        first_term_sum=first_term_sum+1/((1+v)**time)\n",
    "    first_term=(R*p_def/(1-p_def)+coupon)*first_term_sum\n",
    "    \n",
    "    v_last=(1+rate_curve(T))/(1-p_def)-1\n",
    "    last_term=100*(1/((1+v_last)**T))   \n",
    "        \n",
    "    return first_term+last_term"
   ]
  },
  {
   "cell_type": "code",
   "execution_count": 14,
   "metadata": {},
   "outputs": [
    {
     "data": {
      "text/plain": [
       "True"
      ]
     },
     "execution_count": 14,
     "metadata": {},
     "output_type": "execute_result"
    }
   ],
   "source": [
    "bondPrice_default(30,2,0.02,50,0)==bondPrice_default2(30,2,0.02,50)"
   ]
  },
  {
   "cell_type": "code",
   "execution_count": 15,
   "metadata": {
    "scrolled": true
   },
   "outputs": [
    {
     "name": "stdout",
     "output_type": "stream",
     "text": [
      "The price with default is:  61.560233352571075\n"
     ]
    }
   ],
   "source": [
    "price_def=bondPrice_default(30,2,0.02,50,0)\n",
    "print(\"The price with default is: \", price_def)"
   ]
  },
  {
   "cell_type": "markdown",
   "metadata": {},
   "source": [
    "#### Q2 (b) Then assume the credit risk in the bond is accounted for by a spread as in (10.2a)"
   ]
  },
  {
   "cell_type": "code",
   "execution_count": 16,
   "metadata": {},
   "outputs": [],
   "source": [
    "def bondPriceDiffDef(spread):\n",
    "    return abs(bondPrice(30,spread)-price_def)"
   ]
  },
  {
   "cell_type": "code",
   "execution_count": 17,
   "metadata": {},
   "outputs": [
    {
     "data": {
      "text/plain": [
       "     fun: 2.5183309304566137e-07\n",
       "    nfev: 31\n",
       "     nit: 25\n",
       " success: True\n",
       "       x: 5.359786685454795"
      ]
     },
     "execution_count": 17,
     "metadata": {},
     "output_type": "execute_result"
    }
   ],
   "source": [
    "scipy.optimize.minimize_scalar(bondPriceDiffDef)"
   ]
  },
  {
   "cell_type": "markdown",
   "metadata": {},
   "source": [
    "#### The spread is 5.359786685454795%"
   ]
  },
  {
   "cell_type": "markdown",
   "metadata": {},
   "source": [
    "### The spread now is higher than the one in the Q1 because now it's possible that the bond will default. So the spread is higher to compenstate the risk"
   ]
  },
  {
   "cell_type": "markdown",
   "metadata": {},
   "source": [
    "#### Q3 Compute the risk-neutral default probability"
   ]
  },
  {
   "cell_type": "code",
   "execution_count": 18,
   "metadata": {},
   "outputs": [],
   "source": [
    "def rate_curve_linear(t):\n",
    "    return (1+(6-1)/10*t)/100"
   ]
  },
  {
   "cell_type": "code",
   "execution_count": 19,
   "metadata": {},
   "outputs": [],
   "source": [
    "def bondPriceDefaultFree(T):\n",
    "    time_array=np.arange(1,T+1)\n",
    "    \n",
    "    # compute the discounted cash flow\n",
    "    price_sum=0\n",
    "    for time in time_array:\n",
    "        r=rate_curve_linear(time)\n",
    "        price_sum=price_sum+2/((1+r)**time)\n",
    "        #print(r,time,1/((1+r)**time))\n",
    "    \n",
    "    r_end=rate_curve_linear(T)\n",
    "    last=100/((1+r_end)**T)\n",
    "    #print(last)\n",
    "    #print(price_sum,last)\n",
    "    price=price_sum+last\n",
    "    return price"
   ]
  },
  {
   "cell_type": "code",
   "execution_count": 20,
   "metadata": {},
   "outputs": [
    {
     "data": {
      "text/plain": [
       "71.80639062243445"
      ]
     },
     "execution_count": 20,
     "metadata": {},
     "output_type": "execute_result"
    }
   ],
   "source": [
    "price_default_free=bondPriceDefaultFree(10)\n",
    "price_default_free"
   ]
  },
  {
   "cell_type": "code",
   "execution_count": 21,
   "metadata": {},
   "outputs": [],
   "source": [
    "def bondPriceWithDefault(p_def):\n",
    "    \n",
    "    # time period\n",
    "    time_array=np.arange(1,11)\n",
    "    \n",
    "    # first term\n",
    "    first_term_sum=0    \n",
    "    for time in time_array:\n",
    "        first_term_sum=first_term_sum+((1-p_def)**time)/((1+(rate_curve_linear(time)))**time)\n",
    "        #print(time,((1-p_def)**time)/((1+(rate_curve_linear(time)))**time))\n",
    "    \n",
    "    first_term=first_term_sum*(40*p_def/(1-p_def))\n",
    "    \n",
    "    # second term\n",
    "    second_term=2*first_term_sum\n",
    "    \n",
    "    # third term\n",
    "    last_term=100*((1-p_def)**10)/(1+(rate_curve_linear(10)))**10\n",
    "    \n",
    "    #print(first_term, second_term, last_term)\n",
    "    \n",
    "    # result\n",
    "    res=first_term+second_term+last_term\n",
    "        \n",
    "    return res"
   ]
  },
  {
   "cell_type": "code",
   "execution_count": 22,
   "metadata": {},
   "outputs": [
    {
     "data": {
      "text/plain": [
       "71.80639062243445"
      ]
     },
     "execution_count": 22,
     "metadata": {},
     "output_type": "execute_result"
    }
   ],
   "source": [
    "price_no_default=bondPriceWithDefault(0)\n",
    "price_no_default"
   ]
  },
  {
   "cell_type": "code",
   "execution_count": 23,
   "metadata": {},
   "outputs": [],
   "source": [
    "price_2_less=price_no_default*(1-0.02)\n",
    "price_5_less=price_no_default*(1-0.05)\n",
    "price_10_less=price_no_default*(1-0.1)"
   ]
  },
  {
   "cell_type": "code",
   "execution_count": 24,
   "metadata": {},
   "outputs": [],
   "source": [
    "def bondPriceDiffDefProbability2(P_def):\n",
    "    return abs(bondPriceWithDefault(P_def)-price_2_less)\n",
    "\n",
    "def bondPriceDiffDefProbability5(P_def):\n",
    "    return abs(bondPriceWithDefault(P_def)-price_5_less)\n",
    "\n",
    "def bondPriceDiffDefProbability10(P_def):\n",
    "    return abs(bondPriceWithDefault(P_def)-price_10_less)"
   ]
  },
  {
   "cell_type": "code",
   "execution_count": 25,
   "metadata": {
    "scrolled": true
   },
   "outputs": [],
   "source": [
    "res2=scipy.optimize.minimize_scalar(bondPriceDiffDefProbability2,bounds=(0,1),method='bounded')\n",
    "res5=scipy.optimize.minimize_scalar(bondPriceDiffDefProbability5,bounds=(0,1),method='bounded')\n",
    "res10=scipy.optimize.minimize_scalar(bondPriceDiffDefProbability10,bounds=(0,1),method='bounded')"
   ]
  },
  {
   "cell_type": "code",
   "execution_count": 26,
   "metadata": {},
   "outputs": [
    {
     "name": "stdout",
     "output_type": "stream",
     "text": [
      "Risk-neutral probability of default when the price of bond is 2% less than default-free bond is:  0.004600277354546295\n",
      "Risk-neutral probability of default when the price of bond is 5% less than default-free bond is:  0.011884622653573885\n",
      "Risk-neutral probability of default when the price of bond is 10% less than default-free bond is:  0.0252424875285637\n"
     ]
    }
   ],
   "source": [
    "print(\"Risk-neutral probability of default when the price of bond is 2% less than default-free bond is: \",res2.x)\n",
    "print(\"Risk-neutral probability of default when the price of bond is 5% less than default-free bond is: \",res5.x)\n",
    "print(\"Risk-neutral probability of default when the price of bond is 10% less than default-free bond is: \",res10.x)"
   ]
  },
  {
   "cell_type": "code",
   "execution_count": 27,
   "metadata": {},
   "outputs": [],
   "source": [
    "# checking\n",
    "# price_2_less,price_5_less,price_10_less"
   ]
  },
  {
   "cell_type": "code",
   "execution_count": 28,
   "metadata": {},
   "outputs": [],
   "source": [
    "# checking\n",
    "# bondPriceWithDefault(res2.x),bondPriceWithDefault(res5.x),bondPriceWithDefault(res10.x)"
   ]
  }
 ],
 "metadata": {
  "kernelspec": {
   "display_name": "Python 3",
   "language": "python",
   "name": "python3"
  },
  "language_info": {
   "codemirror_mode": {
    "name": "ipython",
    "version": 3
   },
   "file_extension": ".py",
   "mimetype": "text/x-python",
   "name": "python",
   "nbconvert_exporter": "python",
   "pygments_lexer": "ipython3",
   "version": "3.6.5"
  }
 },
 "nbformat": 4,
 "nbformat_minor": 2
}
