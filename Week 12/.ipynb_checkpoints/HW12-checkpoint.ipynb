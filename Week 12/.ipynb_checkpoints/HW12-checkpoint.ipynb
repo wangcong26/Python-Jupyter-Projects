{
 "cells": [
  {
   "cell_type": "code",
   "execution_count": 84,
   "metadata": {},
   "outputs": [],
   "source": [
    "import scipy.stats as spst\n",
    "import scipy\n",
    "from scipy import optimize\n",
    "import seaborn as sns\n",
    "import numpy as np\n",
    "import pandas as pd\n",
    "import qrbook_funcs as qf\n",
    "from scipy import stats\n",
    "from tabulate import tabulate\n",
    "from arch import arch_model\n",
    "import math\n",
    "import statistics \n",
    "import matplotlib.pyplot as plt\n",
    "%matplotlib inline"
   ]
  },
  {
   "cell_type": "code",
   "execution_count": 60,
   "metadata": {},
   "outputs": [],
   "source": [
    "def bondPrice(t,OAS):\n",
    "    time_array=np.arange(1,t+1)\n",
    "    coupon_list_dis=[]\n",
    "    for time in time_array:\n",
    "        r=(6-5*math.exp(-time/30))/100\n",
    "        coupon_dis=(100*r+3)*math.exp(-time*(r+OAS/100))\n",
    "        coupon_list_dis.append(coupon_dis)\n",
    "    \n",
    "    r_end=(6-5*math.exp(-t/30))/100\n",
    "    coupon_list_dis.append(100*math.exp(-1*t*(r_end+OAS/100)))\n",
    "    return sum(coupon_list_dis)"
   ]
  },
  {
   "cell_type": "code",
   "execution_count": 61,
   "metadata": {},
   "outputs": [
    {
     "data": {
      "text/plain": [
       "82.45374686877977"
      ]
     },
     "execution_count": 61,
     "metadata": {},
     "output_type": "execute_result"
    }
   ],
   "source": [
    "bondPrice(30,3.1415926)"
   ]
  },
  {
   "cell_type": "code",
   "execution_count": 92,
   "metadata": {},
   "outputs": [],
   "source": [
    "def bondPriceDiff(OAS):\n",
    "    return abs(bondPrice(30,OAS)-82.4537464147)"
   ]
  },
  {
   "cell_type": "code",
   "execution_count": 93,
   "metadata": {},
   "outputs": [
    {
     "data": {
      "text/plain": [
       "     fun: 2.2014076250798098e-07\n",
       "    nfev: 29\n",
       "     nit: 24\n",
       " success: True\n",
       "       x: 3.141592657730998"
      ]
     },
     "execution_count": 93,
     "metadata": {},
     "output_type": "execute_result"
    }
   ],
   "source": [
    "scipy.optimize.minimize_scalar(bondPriceDiff)"
   ]
  },
  {
   "cell_type": "code",
   "execution_count": 79,
   "metadata": {
    "scrolled": false
   },
   "outputs": [],
   "source": [
    "# difference=1\n",
    "# price_market=82.453746414\n",
    "# OAS=3\n",
    "# diff=1\n",
    "# while(abs(diff)>0.001):\n",
    "#     price_formula=bondPrice(30,OAS)\n",
    "#     #print(price_formula, OAS)\n",
    "#     diff=price_formula-price_market\n",
    "#     if diff>0:\n",
    "#         OAS=OAS+0.001\n",
    "#     elif diff<0:\n",
    "#         OAS=OAS-0.001\n",
    "#     else:\n",
    "#         break "
   ]
  },
  {
   "cell_type": "code",
   "execution_count": null,
   "metadata": {},
   "outputs": [],
   "source": []
  },
  {
   "cell_type": "code",
   "execution_count": null,
   "metadata": {},
   "outputs": [],
   "source": []
  },
  {
   "cell_type": "code",
   "execution_count": null,
   "metadata": {},
   "outputs": [],
   "source": []
  },
  {
   "cell_type": "code",
   "execution_count": null,
   "metadata": {},
   "outputs": [],
   "source": []
  },
  {
   "cell_type": "code",
   "execution_count": null,
   "metadata": {},
   "outputs": [],
   "source": []
  },
  {
   "cell_type": "code",
   "execution_count": null,
   "metadata": {},
   "outputs": [],
   "source": []
  },
  {
   "cell_type": "code",
   "execution_count": null,
   "metadata": {},
   "outputs": [],
   "source": []
  },
  {
   "cell_type": "code",
   "execution_count": null,
   "metadata": {},
   "outputs": [],
   "source": []
  },
  {
   "cell_type": "code",
   "execution_count": null,
   "metadata": {},
   "outputs": [],
   "source": []
  }
 ],
 "metadata": {
  "kernelspec": {
   "display_name": "Python 3",
   "language": "python",
   "name": "python3"
  },
  "language_info": {
   "codemirror_mode": {
    "name": "ipython",
    "version": 3
   },
   "file_extension": ".py",
   "mimetype": "text/x-python",
   "name": "python",
   "nbconvert_exporter": "python",
   "pygments_lexer": "ipython3",
   "version": "3.6.5"
  }
 },
 "nbformat": 4,
 "nbformat_minor": 2
}
