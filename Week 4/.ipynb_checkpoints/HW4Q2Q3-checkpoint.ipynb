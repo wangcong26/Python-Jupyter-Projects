{
 "cells": [
  {
   "cell_type": "markdown",
   "metadata": {},
   "source": [
    "# Q2\n"
   ]
  },
  {
   "cell_type": "markdown",
   "metadata": {},
   "source": [
    "Get the 249 days of 2018 US Treasury yield curve from FRED using the code two slides below. (qrbook_funcs.py is in Resources). Compute the covariance matrix of day-over-day arithmetic changes in yields. Compute the principal components of this covariance matrix. What is the percentage of the trace from the first 3 PC’s? Graph the first 3 eigenvectors. Do they look like the Frye eigenvectors shown in the lecture? Why or why not?\n"
   ]
  },
  {
   "cell_type": "markdown",
   "metadata": {},
   "source": [
    "### Solution: "
   ]
  },
  {
   "cell_type": "code",
   "execution_count": 13,
   "metadata": {},
   "outputs": [],
   "source": [
    "import qrbook_funcs as qf\n",
    "import numpy as np\n",
    "import pandas as pd\n",
    "import matplotlib.pyplot as plt"
   ]
  },
  {
   "cell_type": "code",
   "execution_count": 4,
   "metadata": {},
   "outputs": [],
   "source": [
    "#FRED codes for US Treasury constant maturity rates\n",
    "seriesnames=['DGS1MO','DGS3MO','DGS6MO','DGS1','DGS2','DGS3','DGS5','DGS7','DGS10','DGS20','DGS30']\n",
    "maturities=qf.TenorsFromNames(seriesnames)\n",
    "\n",
    "dates, prices=qf.GetFREDMatrix(seriesnames, startdate='2018-01-02', enddate='2018-12-31')\n",
    "#remove no-data periods\n",
    "nobs, t = len(dates), 0\n",
    "while t<nobs:\n",
    "    if all(np.isnan(prices[t])):\n",
    "        del prices[t]\n",
    "        del dates[t]\n",
    "        nobs -= 1\n",
    "    else:\n",
    "        t += 1"
   ]
  },
  {
   "cell_type": "markdown",
   "metadata": {},
   "source": [
    "**Note: PCA Step by Step**\n",
    "\n",
    "Ref: http://www.sthda.com/english/wiki/print.php?id=206\n",
    "\n",
    "The formula to compute the covariance matrix: \n",
    "$$ C = \\frac{1}{n-1}\\Sigma^{n}_{i=1}(X_{i} - \\bar{X})(X_{i} - \\bar{X})^{T} $$\n",
    "\n",
    "**The aim of PCA is to minimize this distortions and to summarize the essential information in the data**\n",
    "\n",
    "**Interpretation of Covariance Matrix**\n",
    "1. The diagonal elements are the variances of the different variables. A large diagonal values correspond to strong signal.\n",
    "2. The off-diagonal values are the covariances between variables. They reflect distortions in the data (noise, redundancy, …). Large off-diagonal values correspond to high distortions in our data.\n",
    "\n",
    "** Minimize the Distortion **\n",
    "1. The off-diagonal values are different from zero. This indicates the presence of redundancy in the data. In other words, there is a certain amount of correlation between variables.\n",
    "\n",
    "** Steps **\n",
    "1. Prepare the data\n",
    "    - centered: substract the mean\n",
    "    - scaling: divide by the standard deviation\n",
    "2. Calculate the Covariance matrix\n",
    "3. Calculate the eigen values and the eigen vectors\n",
    "4. Choose principle components, e.t. the number of eigen values or eigen vectors\n",
    "5. project the data to the eigen vectors and get the new dataset\n",
    "\n",
    "$$ C\\nu = \\lambda \\nu$$\n",
    "where \n",
    "- $C$: the covariance matrix \n",
    "- $\\lambda$: Eigen values \n",
    "- $\\nu$: Eigen vectors"
   ]
  },
  {
   "cell_type": "code",
   "execution_count": 5,
   "metadata": {},
   "outputs": [
    {
     "data": {
      "text/html": [
       "<div>\n",
       "<style scoped>\n",
       "    .dataframe tbody tr th:only-of-type {\n",
       "        vertical-align: middle;\n",
       "    }\n",
       "\n",
       "    .dataframe tbody tr th {\n",
       "        vertical-align: top;\n",
       "    }\n",
       "\n",
       "    .dataframe thead th {\n",
       "        text-align: right;\n",
       "    }\n",
       "</style>\n",
       "<table border=\"1\" class=\"dataframe\">\n",
       "  <thead>\n",
       "    <tr style=\"text-align: right;\">\n",
       "      <th></th>\n",
       "      <th>2018-01-02</th>\n",
       "      <th>2018-01-03</th>\n",
       "      <th>2018-01-04</th>\n",
       "      <th>2018-01-05</th>\n",
       "      <th>2018-01-08</th>\n",
       "      <th>2018-01-09</th>\n",
       "      <th>2018-01-10</th>\n",
       "      <th>2018-01-11</th>\n",
       "      <th>2018-01-12</th>\n",
       "      <th>2018-01-16</th>\n",
       "      <th>...</th>\n",
       "      <th>2018-12-17</th>\n",
       "      <th>2018-12-18</th>\n",
       "      <th>2018-12-19</th>\n",
       "      <th>2018-12-20</th>\n",
       "      <th>2018-12-21</th>\n",
       "      <th>2018-12-24</th>\n",
       "      <th>2018-12-26</th>\n",
       "      <th>2018-12-27</th>\n",
       "      <th>2018-12-28</th>\n",
       "      <th>2018-12-31</th>\n",
       "    </tr>\n",
       "  </thead>\n",
       "  <tbody>\n",
       "    <tr>\n",
       "      <th>DGS1MO</th>\n",
       "      <td>1.29</td>\n",
       "      <td>1.29</td>\n",
       "      <td>1.28</td>\n",
       "      <td>1.27</td>\n",
       "      <td>1.30</td>\n",
       "      <td>1.27</td>\n",
       "      <td>1.31</td>\n",
       "      <td>1.32</td>\n",
       "      <td>1.31</td>\n",
       "      <td>1.33</td>\n",
       "      <td>...</td>\n",
       "      <td>2.36</td>\n",
       "      <td>2.35</td>\n",
       "      <td>2.35</td>\n",
       "      <td>2.42</td>\n",
       "      <td>2.41</td>\n",
       "      <td>2.42</td>\n",
       "      <td>2.41</td>\n",
       "      <td>2.43</td>\n",
       "      <td>2.39</td>\n",
       "      <td>2.44</td>\n",
       "    </tr>\n",
       "    <tr>\n",
       "      <th>DGS3MO</th>\n",
       "      <td>1.44</td>\n",
       "      <td>1.41</td>\n",
       "      <td>1.41</td>\n",
       "      <td>1.39</td>\n",
       "      <td>1.45</td>\n",
       "      <td>1.44</td>\n",
       "      <td>1.42</td>\n",
       "      <td>1.43</td>\n",
       "      <td>1.43</td>\n",
       "      <td>1.45</td>\n",
       "      <td>...</td>\n",
       "      <td>2.40</td>\n",
       "      <td>2.39</td>\n",
       "      <td>2.40</td>\n",
       "      <td>2.39</td>\n",
       "      <td>2.39</td>\n",
       "      <td>2.45</td>\n",
       "      <td>2.44</td>\n",
       "      <td>2.41</td>\n",
       "      <td>2.40</td>\n",
       "      <td>2.45</td>\n",
       "    </tr>\n",
       "    <tr>\n",
       "      <th>DGS6MO</th>\n",
       "      <td>1.61</td>\n",
       "      <td>1.59</td>\n",
       "      <td>1.60</td>\n",
       "      <td>1.58</td>\n",
       "      <td>1.60</td>\n",
       "      <td>1.60</td>\n",
       "      <td>1.59</td>\n",
       "      <td>1.58</td>\n",
       "      <td>1.59</td>\n",
       "      <td>1.63</td>\n",
       "      <td>...</td>\n",
       "      <td>2.54</td>\n",
       "      <td>2.53</td>\n",
       "      <td>2.54</td>\n",
       "      <td>2.55</td>\n",
       "      <td>2.54</td>\n",
       "      <td>2.52</td>\n",
       "      <td>2.54</td>\n",
       "      <td>2.49</td>\n",
       "      <td>2.48</td>\n",
       "      <td>2.56</td>\n",
       "    </tr>\n",
       "  </tbody>\n",
       "</table>\n",
       "<p>3 rows × 249 columns</p>\n",
       "</div>"
      ],
      "text/plain": [
       "        2018-01-02  2018-01-03  2018-01-04  2018-01-05  2018-01-08  \\\n",
       "DGS1MO        1.29        1.29        1.28        1.27        1.30   \n",
       "DGS3MO        1.44        1.41        1.41        1.39        1.45   \n",
       "DGS6MO        1.61        1.59        1.60        1.58        1.60   \n",
       "\n",
       "        2018-01-09  2018-01-10  2018-01-11  2018-01-12  2018-01-16  \\\n",
       "DGS1MO        1.27        1.31        1.32        1.31        1.33   \n",
       "DGS3MO        1.44        1.42        1.43        1.43        1.45   \n",
       "DGS6MO        1.60        1.59        1.58        1.59        1.63   \n",
       "\n",
       "           ...      2018-12-17  2018-12-18  2018-12-19  2018-12-20  \\\n",
       "DGS1MO     ...            2.36        2.35        2.35        2.42   \n",
       "DGS3MO     ...            2.40        2.39        2.40        2.39   \n",
       "DGS6MO     ...            2.54        2.53        2.54        2.55   \n",
       "\n",
       "        2018-12-21  2018-12-24  2018-12-26  2018-12-27  2018-12-28  2018-12-31  \n",
       "DGS1MO        2.41        2.42        2.41        2.43        2.39        2.44  \n",
       "DGS3MO        2.39        2.45        2.44        2.41        2.40        2.45  \n",
       "DGS6MO        2.54        2.52        2.54        2.49        2.48        2.56  \n",
       "\n",
       "[3 rows x 249 columns]"
      ]
     },
     "execution_count": 5,
     "metadata": {},
     "output_type": "execute_result"
    }
   ],
   "source": [
    "# Prices nested lists as numpy array\n",
    "arrPricesDxS = np.asarray(prices)\n",
    "arrPricesSxD = arrPricesDxS.T\n",
    "\n",
    "# dfPriceDxS = pd.DataFrame(data=arrPricesDxS, index=dates, columns=seriesnames)\n",
    "# dfPriceDxS.head(3)\n",
    "dfPriceSxD = pd.DataFrame(data=arrPricesSxD, index=seriesnames, columns=dates)\n",
    "dfPriceSxD.head(3)"
   ]
  },
  {
   "cell_type": "code",
   "execution_count": 7,
   "metadata": {},
   "outputs": [],
   "source": [
    "# day-to-day arithmetic changes in yields\n",
    "arrPricesSxDDiff = np.diff(arrPricesSxD, axis=1)\n",
    "# Covariance matrix of day-over-day arithmetic changes in yields\n",
    "covPricesSxDDiff = np.cov(arrPricesSxDDiff)"
   ]
  },
  {
   "cell_type": "code",
   "execution_count": 10,
   "metadata": {},
   "outputs": [],
   "source": [
    "# eigenvalues & eigenvectors\n",
    "eigVals, eigVecs = np.linalg.eig(covPricesSxDDiff)"
   ]
  },
  {
   "cell_type": "code",
   "execution_count": 11,
   "metadata": {},
   "outputs": [
    {
     "name": "stdout",
     "output_type": "stream",
     "text": [
      "Top 3 pinciple components:\n",
      "\n",
      "#1 princeple component: 0.0071846216520539165\n",
      "\n",
      "#2 princeple component: 0.0010950746039160974\n",
      "\n",
      "#3 princeple component: 0.0006944384291891291\n",
      "\n",
      "Percentatge of the top 3 principle components : 90.25296103123884%\n"
     ]
    }
   ],
   "source": [
    "# Top 3 principle components\n",
    "print(\"Top 3 pinciple components:\")\n",
    "print()\n",
    "for i in range(0,3):\n",
    "    print(\"#{} princeple component: {}\".format(i+1, eigVals[i]))\n",
    "    print()\n",
    "    \n",
    "# percentage of the trace from the first 3 PC's \n",
    "pctTop3PC = sum(eigVals[0:3]) / sum(eigVals)\n",
    "print(\"Percentatge of the top 3 principle components : {}%\".format(pctTop3PC.real*100))"
   ]
  },
  {
   "cell_type": "code",
   "execution_count": 43,
   "metadata": {},
   "outputs": [
    {
     "data": {
      "image/png": "[encoded data removed]",
      "text/plain": [
       "<matplotlib.figure.Figure at 0x11be81da0>"
      ]
     },
     "metadata": {},
     "output_type": "display_data"
    }
   ],
   "source": [
    "figEigenVals = plt.figure(figsize=(7,7))\n",
    "ax1 = plt.axes()\n",
    "ax1.plot(np.arange(0, 11), eigVals[0:11].real, '--o--')\n",
    "ax1.set_xlabel(\"# of EigenValues\")\n",
    "ax1.set_ylabel(\"Level\")\n",
    "plt.title('Values of Eigen Values')\n",
    "plt.show()"
   ]
  },
  {
   "cell_type": "code",
   "execution_count": 44,
   "metadata": {},
   "outputs": [
    {
     "name": "stdout",
     "output_type": "stream",
     "text": [
      "Cv = \\lambda * v checking successful.\n"
     ]
    },
    {
     "data": {
      "text/html": [
       "<div>\n",
       "<style scoped>\n",
       "    .dataframe tbody tr th:only-of-type {\n",
       "        vertical-align: middle;\n",
       "    }\n",
       "\n",
       "    .dataframe tbody tr th {\n",
       "        vertical-align: top;\n",
       "    }\n",
       "\n",
       "    .dataframe thead th {\n",
       "        text-align: right;\n",
       "    }\n",
       "</style>\n",
       "<table border=\"1\" class=\"dataframe\">\n",
       "  <thead>\n",
       "    <tr style=\"text-align: right;\">\n",
       "      <th></th>\n",
       "      <th>PCOne</th>\n",
       "      <th>PCTwo</th>\n",
       "      <th>PCThree</th>\n",
       "    </tr>\n",
       "  </thead>\n",
       "  <tbody>\n",
       "    <tr>\n",
       "      <th>DGS1MO</th>\n",
       "      <td>-0.000223</td>\n",
       "      <td>0.000375</td>\n",
       "      <td>0.000086</td>\n",
       "    </tr>\n",
       "    <tr>\n",
       "      <th>DGS3MO</th>\n",
       "      <td>-0.000387</td>\n",
       "      <td>0.000249</td>\n",
       "      <td>0.000082</td>\n",
       "    </tr>\n",
       "    <tr>\n",
       "      <th>DGS6MO</th>\n",
       "      <td>-0.000291</td>\n",
       "      <td>0.000329</td>\n",
       "      <td>0.000150</td>\n",
       "    </tr>\n",
       "    <tr>\n",
       "      <th>DGS1</th>\n",
       "      <td>-0.000213</td>\n",
       "      <td>0.000749</td>\n",
       "      <td>0.000094</td>\n",
       "    </tr>\n",
       "    <tr>\n",
       "      <th>DGS2</th>\n",
       "      <td>-0.000359</td>\n",
       "      <td>0.001431</td>\n",
       "      <td>0.000110</td>\n",
       "    </tr>\n",
       "  </tbody>\n",
       "</table>\n",
       "</div>"
      ],
      "text/plain": [
       "           PCOne     PCTwo   PCThree\n",
       "DGS1MO -0.000223  0.000375  0.000086\n",
       "DGS3MO -0.000387  0.000249  0.000082\n",
       "DGS6MO -0.000291  0.000329  0.000150\n",
       "DGS1   -0.000213  0.000749  0.000094\n",
       "DGS2   -0.000359  0.001431  0.000110"
      ]
     },
     "execution_count": 44,
     "metadata": {},
     "output_type": "execute_result"
    }
   ],
   "source": [
    "# Ref: http://sebastianraschka.com/Articles/2014_pca_step_by_step.html\n",
    "# Test Cv = lambda * v\n",
    "try:\n",
    "    for i in range(0, len(eigVals)):\n",
    "        eigVec = eigVecs[:, i].reshape(1, len(eigVals)).T\n",
    "        np.testing.assert_array_almost_equal(covPricesSxDDiff.dot(eigVec), eigVals[i] * eigVec,\n",
    "                                             decimal=6, err_msg='', verbose=True)\n",
    "    print(\"Cv = \\lambda * v checking successful.\")\n",
    "except:\n",
    "    raise ValueError\n",
    "    \n",
    "# Project to the first three principle components \n",
    "arrPricesSx3PCDiff = covPricesSxDDiff.dot(eigVecs[:, 0:3].reshape(3, len(eigVals)).T.real)\n",
    "dfPricesSx3PCDiff = pd.DataFrame(arrPricesSx3PCDiff, index=seriesnames, columns=[\"PCOne\", \"PCTwo\", \"PCThree\"])\n",
    "dfPricesSx3PCDiff.head(5)"
   ]
  },
  {
   "cell_type": "code",
   "execution_count": 55,
   "metadata": {},
   "outputs": [
    {
     "data": {
      "image/png": "[encoded data removed]",
      "text/plain": [
       "<matplotlib.figure.Figure at 0x119e40ba8>"
      ]
     },
     "metadata": {},
     "output_type": "display_data"
    }
   ],
   "source": [
    "# Graph the first 3 eigenvectors\n",
    "xTicks = ['1mo', '3mo', '6mo', '1y', '2y', '3y', '5y', '7y', '10y', '20y', '30y']\n",
    "Xs = np.arange(0, len(seriesnames))\n",
    "\n",
    "fig = plt.figure(figsize=(15,7))\n",
    "ax = plt.axes()\n",
    "ax.plot(Xs, dfPricesSx3PCDiff.PCOne, '-o', color='blue', label='PC1')\n",
    "ax.plot(Xs, dfPricesSx3PCDiff.PCTwo, '-o', color='orange', label='PC2')\n",
    "ax.plot(Xs, dfPricesSx3PCDiff.PCThree, '-o', color='green', label='PC3')\n",
    "# ax.set_xticklabels(xTicks)\n",
    "plt.xticks(Xs, xTicks)\n",
    "ax.set_xlabel('Tenor')\n",
    "ax.set_ylabel('Level')\n",
    "plt.title('UST Curve Principle Components')\n",
    "plt.legend()\n",
    "plt.show()\n"
   ]
  },
  {
   "cell_type": "code",
   "execution_count": null,
   "metadata": {},
   "outputs": [],
   "source": []
  },
  {
   "cell_type": "markdown",
   "metadata": {},
   "source": [
    "# Q3"
   ]
  },
  {
   "cell_type": "markdown",
   "metadata": {},
   "source": [
    "From the previous problem, you will have the 2018-12-31 US Treasury yield curve. Using straight-line interpolation between the 11 given maturities, generate the 360 levels of that yield curve for each maturity month from 1 month to 30 years. Fit the parameters of a Nelson-Siegel curve to this so that the sum of the absolute differences between each month’s straight-line curve rate and the Nelson-Siegel rate is minimized. Graph the original curve and the Nelson-Siegel curve. What does the Nelson-Siegel curve imply about the perpetual interest rate, i.e. the rate paid on infinite maturity bonds? \n",
    "\n",
    "Cont’d. Hint: There are many ways to find the best fit curve, but one that works is to define a “mad” function that computes a mean absolute deviation between the curves as a function of the four Nelson-Siegel parameters. Compute starting guesses for the parameters, and then run the given code."
   ]
  },
  {
   "cell_type": "code",
   "execution_count": null,
   "metadata": {},
   "outputs": [],
   "source": []
  },
  {
   "cell_type": "code",
   "execution_count": null,
   "metadata": {},
   "outputs": [],
   "source": []
  },
  {
   "cell_type": "code",
   "execution_count": null,
   "metadata": {},
   "outputs": [],
   "source": []
  },
  {
   "cell_type": "code",
   "execution_count": null,
   "metadata": {},
   "outputs": [],
   "source": []
  },
  {
   "cell_type": "markdown",
   "metadata": {},
   "source": [
    "<div class=\"alert alert-block alert-danger\">\n",
    "<b>Just don't run:</b> Some PCA Scatter plots for personal trials\n",
    "</div>"
   ]
  },
  {
   "cell_type": "code",
   "execution_count": 17,
   "metadata": {},
   "outputs": [],
   "source": [
    "# # Ref: http://sebastianraschka.com/Articles/2014_pca_step_by_step.html\n",
    "# from mpl_toolkits.mplot3d import Axes3D\n",
    "# import matplotlib.pyplot as plt\n",
    "# from mpl_toolkits.mplot3d import proj3d\n",
    "# from matplotlib.patches import FancyArrowPatch\n",
    "\n",
    "# class Arrow3D(FancyArrowPatch):\n",
    "#     def __init__(self, xs, ys, zs, *args, **kwargs):\n",
    "#         FancyArrowPatch.__init__(self, (0,0), (0,0), *args, **kwargs)\n",
    "#         self._verts3d = xs, ys, zs\n",
    "\n",
    "#     def draw(self, renderer):\n",
    "#         xs3d, ys3d, zs3d = self._verts3d\n",
    "#         xs, ys, zs = proj3d.proj_transform(xs3d, ys3d, zs3d, renderer.M)\n",
    "#         self.set_positions((xs[0],ys[0]),(xs[1],ys[1]))\n",
    "#         FancyArrowPatch.draw(self, renderer)"
   ]
  },
  {
   "cell_type": "code",
   "execution_count": null,
   "metadata": {},
   "outputs": [],
   "source": [
    "# # Graph the first 3 eigenvectors\n",
    "# fig = plt.figure(figsize=(7,7))\n",
    "# ax = fig.add_subplot(111, projection='3d')\n",
    "# # Only keep real part for 0j in complex part\n",
    "# pcx = arrPricesDx3PCDiff[:, 0].reshape(1, 248).real\n",
    "# pcy = arrPricesDx3PCDiff[:, 1].reshape(1,248).real\n",
    "# pcz = arrPricesDx3PCDiff[:, 2].reshape(1,248).real\n",
    "# meanx = np.mean(pcx)\n",
    "# meany = np.mean(pcy)\n",
    "# meanz = np.mean(pcz)\n",
    "# centroid = np.array([meanx, meany, meanz])\n",
    "\n",
    "# ax.scatter(pcx, pcy, pcz, c='green', marker='o')\n",
    "# ax.plot([meanx], [meany], [meanz], 'o', markersize=10, color='red', alpha=0.5)\n",
    "# for v in eigVecs[:, 0:3].T.real:\n",
    "# #     vStd = (v - np.mean(v)) / np.std(v)\n",
    "# #     a = Arrow3D([meanx, vStd[0]], [meany, vStd[1]], [meanz, vStd[2]], mutation_scale=20, lw=3, arrowstyle=\"-|>\", color=\"r\")\n",
    "# #     v += centroid\n",
    "#     a = Arrow3D([meanx, v[0]], [meany, v[1]], [meanz, v[2]], mutation_scale=20, lw=3, arrowstyle=\"-|>\", color=\"r\")\n",
    "#     ax.add_artist(a)\n",
    "# ax.set_xlabel('1st PC')\n",
    "# ax.set_ylabel('2nd PC')\n",
    "# ax.set_zlabel('3rd PC')\n",
    "# # thre = 0.01\n",
    "# # ax.set_xbound(-thre, thre)\n",
    "# # ax.set_ybound(-thre, thre)\n",
    "# # ax.set_zbound(-thre, thre)\n",
    "\n",
    "\n",
    "# plt.title('First 3 Principle Components')\n",
    "\n",
    "# plt.show()\n"
   ]
  }
 ],
 "metadata": {
  "kernelspec": {
   "display_name": "Python 3",
   "language": "python",
   "name": "python3"
  },
  "language_info": {
   "codemirror_mode": {
    "name": "ipython",
    "version": 3
   },
   "file_extension": ".py",
   "mimetype": "text/x-python",
   "name": "python",
   "nbconvert_exporter": "python",
   "pygments_lexer": "ipython3",
   "version": "3.6.5"
  }
 },
 "nbformat": 4,
 "nbformat_minor": 2
}
