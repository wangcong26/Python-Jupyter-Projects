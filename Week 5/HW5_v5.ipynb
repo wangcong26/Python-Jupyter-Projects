{
 "cells": [
  {
   "cell_type": "code",
   "execution_count": 2,
   "metadata": {},
   "outputs": [
    {
     "name": "stdout",
     "output_type": "stream",
     "text": [
      "Requirement already satisfied: fredapi in c:\\users\\swang\\appdata\\local\\continuum\\anaconda3\\lib\\site-packages (0.4.2)\n",
      "Requirement already satisfied: pandas in c:\\users\\swang\\appdata\\local\\continuum\\anaconda3\\lib\\site-packages (from fredapi) (0.22.0)\n",
      "Requirement already satisfied: python-dateutil>=2 in c:\\users\\swang\\appdata\\local\\continuum\\anaconda3\\lib\\site-packages (from pandas->fredapi) (2.6.1)\n",
      "Requirement already satisfied: pytz>=2011k in c:\\users\\swang\\appdata\\local\\continuum\\anaconda3\\lib\\site-packages (from pandas->fredapi) (2017.3)\n",
      "Requirement already satisfied: numpy>=1.9.0 in c:\\users\\swang\\appdata\\local\\continuum\\anaconda3\\lib\\site-packages (from pandas->fredapi) (1.14.0)\n",
      "Requirement already satisfied: six>=1.5 in c:\\users\\swang\\appdata\\local\\continuum\\anaconda3\\lib\\site-packages (from python-dateutil>=2->pandas->fredapi) (1.11.0)\n"
     ]
    },
    {
     "name": "stderr",
     "output_type": "stream",
     "text": [
      "You are using pip version 18.1, however version 19.2.3 is available.\n",
      "You should consider upgrading via the 'python -m pip install --upgrade pip' command.\n"
     ]
    }
   ],
   "source": [
    "#!pip install fredapi"
   ]
  },
  {
   "cell_type": "code",
   "execution_count": 54,
   "metadata": {},
   "outputs": [],
   "source": [
    "import pandas as pd\n",
    "import numpy as np\n",
    "import qrbook_funcs as qf\n",
    "import datetime\n",
    "import datetime\n",
    "import matplotlib.pyplot as plt\n",
    "%matplotlib inline"
   ]
  },
  {
   "cell_type": "markdown",
   "metadata": {},
   "source": [
    "## (1) Use data up to 2017-12-29"
   ]
  },
  {
   "cell_type": "code",
   "execution_count": 157,
   "metadata": {},
   "outputs": [],
   "source": [
    "# Set last day of the data\n",
    "lastday2017='2017-12-29'"
   ]
  },
  {
   "cell_type": "code",
   "execution_count": 158,
   "metadata": {},
   "outputs": [
    {
     "data": {
      "text/plain": [
       "'2017-12-29'"
      ]
     },
     "execution_count": 158,
     "metadata": {},
     "output_type": "execute_result"
    }
   ],
   "source": [
    "lastday2017"
   ]
  },
  {
   "cell_type": "code",
   "execution_count": 159,
   "metadata": {},
   "outputs": [],
   "source": [
    "# Fetch data for Swiss franc, pound sterling, Japanese Yen, up to 2017 Dec 29\n",
    "seriesnames=['DEXSZUS','DEXUSUK','DEXJPUS']\n",
    "cdates,ratematrix=qf.GetFREDMatrix(seriesnames,enddate=lastday2017)"
   ]
  },
  {
   "cell_type": "code",
   "execution_count": 160,
   "metadata": {},
   "outputs": [],
   "source": [
    "data2017 = pd.DataFrame(ratematrix, index =cdates, columns = seriesnames)"
   ]
  },
  {
   "cell_type": "code",
   "execution_count": 161,
   "metadata": {},
   "outputs": [],
   "source": [
    "data2017 = data2017.set_index(pd.DatetimeIndex(data2017.index))"
   ]
  },
  {
   "cell_type": "code",
   "execution_count": 162,
   "metadata": {},
   "outputs": [],
   "source": [
    "data2017_clean=data2017.dropna()"
   ]
  },
  {
   "cell_type": "code",
   "execution_count": 163,
   "metadata": {},
   "outputs": [
    {
     "data": {
      "text/plain": [
       "11788"
      ]
     },
     "execution_count": 163,
     "metadata": {},
     "output_type": "execute_result"
    }
   ],
   "source": [
    "len(data2017_clean)"
   ]
  },
  {
   "cell_type": "code",
   "execution_count": 164,
   "metadata": {},
   "outputs": [],
   "source": [
    "## Use this method to subset dataset\n",
    "# data2017.loc['2017-12-2':'2017-12-29']\n",
    "## Use this to index any rows\n",
    "# data2017.loc['1971-01-04']>0"
   ]
  },
  {
   "cell_type": "code",
   "execution_count": 165,
   "metadata": {},
   "outputs": [
    {
     "data": {
      "text/html": [
       "<div>\n",
       "<style scoped>\n",
       "    .dataframe tbody tr th:only-of-type {\n",
       "        vertical-align: middle;\n",
       "    }\n",
       "\n",
       "    .dataframe tbody tr th {\n",
       "        vertical-align: top;\n",
       "    }\n",
       "\n",
       "    .dataframe thead th {\n",
       "        text-align: right;\n",
       "    }\n",
       "</style>\n",
       "<table border=\"1\" class=\"dataframe\">\n",
       "  <thead>\n",
       "    <tr style=\"text-align: right;\">\n",
       "      <th></th>\n",
       "      <th>DEXSZUS</th>\n",
       "      <th>DEXUSUK</th>\n",
       "      <th>DEXJPUS</th>\n",
       "    </tr>\n",
       "  </thead>\n",
       "  <tbody>\n",
       "    <tr>\n",
       "      <th>1971-01-04</th>\n",
       "      <td>4.3180</td>\n",
       "      <td>2.3938</td>\n",
       "      <td>357.73</td>\n",
       "    </tr>\n",
       "    <tr>\n",
       "      <th>1971-01-05</th>\n",
       "      <td>4.3117</td>\n",
       "      <td>2.3949</td>\n",
       "      <td>357.81</td>\n",
       "    </tr>\n",
       "    <tr>\n",
       "      <th>1971-01-06</th>\n",
       "      <td>4.3113</td>\n",
       "      <td>2.3967</td>\n",
       "      <td>357.86</td>\n",
       "    </tr>\n",
       "    <tr>\n",
       "      <th>1971-01-07</th>\n",
       "      <td>4.3103</td>\n",
       "      <td>2.3963</td>\n",
       "      <td>357.87</td>\n",
       "    </tr>\n",
       "    <tr>\n",
       "      <th>1971-01-08</th>\n",
       "      <td>4.3109</td>\n",
       "      <td>2.3972</td>\n",
       "      <td>357.82</td>\n",
       "    </tr>\n",
       "  </tbody>\n",
       "</table>\n",
       "</div>"
      ],
      "text/plain": [
       "            DEXSZUS  DEXUSUK  DEXJPUS\n",
       "1971-01-04   4.3180   2.3938   357.73\n",
       "1971-01-05   4.3117   2.3949   357.81\n",
       "1971-01-06   4.3113   2.3967   357.86\n",
       "1971-01-07   4.3103   2.3963   357.87\n",
       "1971-01-08   4.3109   2.3972   357.82"
      ]
     },
     "execution_count": 165,
     "metadata": {},
     "output_type": "execute_result"
    }
   ],
   "source": [
    "data2017_clean.head()"
   ]
  },
  {
   "cell_type": "code",
   "execution_count": 166,
   "metadata": {},
   "outputs": [
    {
     "name": "stdout",
     "output_type": "stream",
     "text": [
      "0\n",
      "0\n",
      "0\n"
     ]
    }
   ],
   "source": [
    "# check if there is any row that has negative value in data2017_clean\n",
    "for each in seriesnames:\n",
    "    print(len(data2017_clean[data2017_clean[each] < 0]))"
   ]
  },
  {
   "cell_type": "code",
   "execution_count": 167,
   "metadata": {},
   "outputs": [
    {
     "name": "stderr",
     "output_type": "stream",
     "text": [
      "C:\\Users\\swang\\AppData\\Local\\Continuum\\anaconda3\\lib\\site-packages\\ipykernel_launcher.py:1: SettingWithCopyWarning: \n",
      "A value is trying to be set on a copy of a slice from a DataFrame.\n",
      "Try using .loc[row_indexer,col_indexer] = value instead\n",
      "\n",
      "See the caveats in the documentation: http://pandas.pydata.org/pandas-docs/stable/indexing.html#indexing-view-versus-copy\n",
      "  \"\"\"Entry point for launching an IPython kernel.\n",
      "C:\\Users\\swang\\AppData\\Local\\Continuum\\anaconda3\\lib\\site-packages\\ipykernel_launcher.py:2: SettingWithCopyWarning: \n",
      "A value is trying to be set on a copy of a slice from a DataFrame.\n",
      "Try using .loc[row_indexer,col_indexer] = value instead\n",
      "\n",
      "See the caveats in the documentation: http://pandas.pydata.org/pandas-docs/stable/indexing.html#indexing-view-versus-copy\n",
      "  \n"
     ]
    }
   ],
   "source": [
    "data2017_clean['DEXSZUS']=data2017_clean['DEXSZUS'].apply(lambda x: 1/x)\n",
    "data2017_clean['DEXJPUS']=data2017_clean['DEXJPUS'].apply(lambda x: 1/x)"
   ]
  },
  {
   "cell_type": "code",
   "execution_count": 170,
   "metadata": {},
   "outputs": [
    {
     "data": {
      "text/html": [
       "<div>\n",
       "<style scoped>\n",
       "    .dataframe tbody tr th:only-of-type {\n",
       "        vertical-align: middle;\n",
       "    }\n",
       "\n",
       "    .dataframe tbody tr th {\n",
       "        vertical-align: top;\n",
       "    }\n",
       "\n",
       "    .dataframe thead th {\n",
       "        text-align: right;\n",
       "    }\n",
       "</style>\n",
       "<table border=\"1\" class=\"dataframe\">\n",
       "  <thead>\n",
       "    <tr style=\"text-align: right;\">\n",
       "      <th></th>\n",
       "      <th>DEXSZUS</th>\n",
       "      <th>DEXUSUK</th>\n",
       "      <th>DEXJPUS</th>\n",
       "    </tr>\n",
       "  </thead>\n",
       "  <tbody>\n",
       "    <tr>\n",
       "      <th>1971-01-04</th>\n",
       "      <td>0.231589</td>\n",
       "      <td>2.3938</td>\n",
       "      <td>0.002795</td>\n",
       "    </tr>\n",
       "    <tr>\n",
       "      <th>1971-01-05</th>\n",
       "      <td>0.231927</td>\n",
       "      <td>2.3949</td>\n",
       "      <td>0.002795</td>\n",
       "    </tr>\n",
       "    <tr>\n",
       "      <th>1971-01-06</th>\n",
       "      <td>0.231949</td>\n",
       "      <td>2.3967</td>\n",
       "      <td>0.002794</td>\n",
       "    </tr>\n",
       "    <tr>\n",
       "      <th>1971-01-07</th>\n",
       "      <td>0.232002</td>\n",
       "      <td>2.3963</td>\n",
       "      <td>0.002794</td>\n",
       "    </tr>\n",
       "    <tr>\n",
       "      <th>1971-01-08</th>\n",
       "      <td>0.231970</td>\n",
       "      <td>2.3972</td>\n",
       "      <td>0.002795</td>\n",
       "    </tr>\n",
       "  </tbody>\n",
       "</table>\n",
       "</div>"
      ],
      "text/plain": [
       "             DEXSZUS  DEXUSUK   DEXJPUS\n",
       "1971-01-04  0.231589   2.3938  0.002795\n",
       "1971-01-05  0.231927   2.3949  0.002795\n",
       "1971-01-06  0.231949   2.3967  0.002794\n",
       "1971-01-07  0.232002   2.3963  0.002794\n",
       "1971-01-08  0.231970   2.3972  0.002795"
      ]
     },
     "execution_count": 170,
     "metadata": {},
     "output_type": "execute_result"
    }
   ],
   "source": [
    "# check\n",
    "data2017_clean.head()"
   ]
  },
  {
   "cell_type": "code",
   "execution_count": 171,
   "metadata": {},
   "outputs": [
    {
     "data": {
      "text/html": [
       "<div>\n",
       "<style scoped>\n",
       "    .dataframe tbody tr th:only-of-type {\n",
       "        vertical-align: middle;\n",
       "    }\n",
       "\n",
       "    .dataframe tbody tr th {\n",
       "        vertical-align: top;\n",
       "    }\n",
       "\n",
       "    .dataframe thead th {\n",
       "        text-align: right;\n",
       "    }\n",
       "</style>\n",
       "<table border=\"1\" class=\"dataframe\">\n",
       "  <thead>\n",
       "    <tr style=\"text-align: right;\">\n",
       "      <th></th>\n",
       "      <th>DEXSZUS</th>\n",
       "      <th>DEXUSUK</th>\n",
       "      <th>DEXJPUS</th>\n",
       "    </tr>\n",
       "  </thead>\n",
       "  <tbody>\n",
       "    <tr>\n",
       "      <th>1971-01-04</th>\n",
       "      <td>-1.462792</td>\n",
       "      <td>0.872882</td>\n",
       "      <td>-5.879779</td>\n",
       "    </tr>\n",
       "    <tr>\n",
       "      <th>1971-01-05</th>\n",
       "      <td>-1.461332</td>\n",
       "      <td>0.873341</td>\n",
       "      <td>-5.880002</td>\n",
       "    </tr>\n",
       "    <tr>\n",
       "      <th>1971-01-06</th>\n",
       "      <td>-1.461239</td>\n",
       "      <td>0.874093</td>\n",
       "      <td>-5.880142</td>\n",
       "    </tr>\n",
       "    <tr>\n",
       "      <th>1971-01-07</th>\n",
       "      <td>-1.461008</td>\n",
       "      <td>0.873926</td>\n",
       "      <td>-5.880170</td>\n",
       "    </tr>\n",
       "    <tr>\n",
       "      <th>1971-01-08</th>\n",
       "      <td>-1.461147</td>\n",
       "      <td>0.874301</td>\n",
       "      <td>-5.880030</td>\n",
       "    </tr>\n",
       "  </tbody>\n",
       "</table>\n",
       "</div>"
      ],
      "text/plain": [
       "             DEXSZUS   DEXUSUK   DEXJPUS\n",
       "1971-01-04 -1.462792  0.872882 -5.879779\n",
       "1971-01-05 -1.461332  0.873341 -5.880002\n",
       "1971-01-06 -1.461239  0.874093 -5.880142\n",
       "1971-01-07 -1.461008  0.873926 -5.880170\n",
       "1971-01-08 -1.461147  0.874301 -5.880030"
      ]
     },
     "execution_count": 171,
     "metadata": {},
     "output_type": "execute_result"
    }
   ],
   "source": [
    "# compute log to all the values in the dataset\n",
    "data2017_new1=data2017_clean.apply(lambda x: np.log(x))\n",
    "data2017_new1.head()"
   ]
  },
  {
   "cell_type": "code",
   "execution_count": 186,
   "metadata": {},
   "outputs": [
    {
     "data": {
      "text/html": [
       "<div>\n",
       "<style scoped>\n",
       "    .dataframe tbody tr th:only-of-type {\n",
       "        vertical-align: middle;\n",
       "    }\n",
       "\n",
       "    .dataframe tbody tr th {\n",
       "        vertical-align: top;\n",
       "    }\n",
       "\n",
       "    .dataframe thead th {\n",
       "        text-align: right;\n",
       "    }\n",
       "</style>\n",
       "<table border=\"1\" class=\"dataframe\">\n",
       "  <thead>\n",
       "    <tr style=\"text-align: right;\">\n",
       "      <th></th>\n",
       "      <th>DEXSZUS</th>\n",
       "      <th>DEXUSUK</th>\n",
       "      <th>DEXJPUS</th>\n",
       "    </tr>\n",
       "  </thead>\n",
       "  <tbody>\n",
       "    <tr>\n",
       "      <th>2017-12-01</th>\n",
       "      <td>0.007755</td>\n",
       "      <td>-0.000074</td>\n",
       "      <td>0.003747</td>\n",
       "    </tr>\n",
       "    <tr>\n",
       "      <th>2017-12-04</th>\n",
       "      <td>-0.009786</td>\n",
       "      <td>-0.002966</td>\n",
       "      <td>-0.008189</td>\n",
       "    </tr>\n",
       "    <tr>\n",
       "      <th>2017-12-05</th>\n",
       "      <td>-0.001014</td>\n",
       "      <td>-0.001115</td>\n",
       "      <td>0.000355</td>\n",
       "    </tr>\n",
       "    <tr>\n",
       "      <th>2017-12-06</th>\n",
       "      <td>-0.003642</td>\n",
       "      <td>-0.005069</td>\n",
       "      <td>0.003910</td>\n",
       "    </tr>\n",
       "    <tr>\n",
       "      <th>2017-12-07</th>\n",
       "      <td>-0.001715</td>\n",
       "      <td>0.003729</td>\n",
       "      <td>-0.003377</td>\n",
       "    </tr>\n",
       "    <tr>\n",
       "      <th>2017-12-08</th>\n",
       "      <td>-0.000705</td>\n",
       "      <td>-0.004851</td>\n",
       "      <td>-0.007514</td>\n",
       "    </tr>\n",
       "    <tr>\n",
       "      <th>2017-12-11</th>\n",
       "      <td>0.002824</td>\n",
       "      <td>-0.000299</td>\n",
       "      <td>0.001851</td>\n",
       "    </tr>\n",
       "    <tr>\n",
       "      <th>2017-12-12</th>\n",
       "      <td>-0.002623</td>\n",
       "      <td>-0.002998</td>\n",
       "      <td>-0.002467</td>\n",
       "    </tr>\n",
       "    <tr>\n",
       "      <th>2017-12-13</th>\n",
       "      <td>0.003229</td>\n",
       "      <td>0.003147</td>\n",
       "      <td>0.003792</td>\n",
       "    </tr>\n",
       "    <tr>\n",
       "      <th>2017-12-14</th>\n",
       "      <td>-0.000606</td>\n",
       "      <td>0.005596</td>\n",
       "      <td>0.005581</td>\n",
       "    </tr>\n",
       "    <tr>\n",
       "      <th>2017-12-15</th>\n",
       "      <td>-0.000303</td>\n",
       "      <td>-0.009269</td>\n",
       "      <td>-0.001066</td>\n",
       "    </tr>\n",
       "    <tr>\n",
       "      <th>2017-12-18</th>\n",
       "      <td>0.004757</td>\n",
       "      <td>0.006139</td>\n",
       "      <td>0.002488</td>\n",
       "    </tr>\n",
       "    <tr>\n",
       "      <th>2017-12-19</th>\n",
       "      <td>-0.000101</td>\n",
       "      <td>-0.003140</td>\n",
       "      <td>-0.005147</td>\n",
       "    </tr>\n",
       "    <tr>\n",
       "      <th>2017-12-20</th>\n",
       "      <td>-0.000203</td>\n",
       "      <td>0.003886</td>\n",
       "      <td>-0.002740</td>\n",
       "    </tr>\n",
       "    <tr>\n",
       "      <th>2017-12-21</th>\n",
       "      <td>-0.003139</td>\n",
       "      <td>-0.002689</td>\n",
       "      <td>-0.001147</td>\n",
       "    </tr>\n",
       "    <tr>\n",
       "      <th>2017-12-22</th>\n",
       "      <td>-0.000809</td>\n",
       "      <td>0.000523</td>\n",
       "      <td>0.001059</td>\n",
       "    </tr>\n",
       "    <tr>\n",
       "      <th>2017-12-26</th>\n",
       "      <td>0.000707</td>\n",
       "      <td>-0.000748</td>\n",
       "      <td>0.000883</td>\n",
       "    </tr>\n",
       "    <tr>\n",
       "      <th>2017-12-27</th>\n",
       "      <td>0.002125</td>\n",
       "      <td>0.002540</td>\n",
       "      <td>-0.000706</td>\n",
       "    </tr>\n",
       "    <tr>\n",
       "      <th>2017-12-28</th>\n",
       "      <td>0.009774</td>\n",
       "      <td>0.003501</td>\n",
       "      <td>0.003803</td>\n",
       "    </tr>\n",
       "    <tr>\n",
       "      <th>2017-12-29</th>\n",
       "      <td>0.003690</td>\n",
       "      <td>0.005856</td>\n",
       "      <td>0.001419</td>\n",
       "    </tr>\n",
       "  </tbody>\n",
       "</table>\n",
       "</div>"
      ],
      "text/plain": [
       "             DEXSZUS   DEXUSUK   DEXJPUS\n",
       "2017-12-01  0.007755 -0.000074  0.003747\n",
       "2017-12-04 -0.009786 -0.002966 -0.008189\n",
       "2017-12-05 -0.001014 -0.001115  0.000355\n",
       "2017-12-06 -0.003642 -0.005069  0.003910\n",
       "2017-12-07 -0.001715  0.003729 -0.003377\n",
       "2017-12-08 -0.000705 -0.004851 -0.007514\n",
       "2017-12-11  0.002824 -0.000299  0.001851\n",
       "2017-12-12 -0.002623 -0.002998 -0.002467\n",
       "2017-12-13  0.003229  0.003147  0.003792\n",
       "2017-12-14 -0.000606  0.005596  0.005581\n",
       "2017-12-15 -0.000303 -0.009269 -0.001066\n",
       "2017-12-18  0.004757  0.006139  0.002488\n",
       "2017-12-19 -0.000101 -0.003140 -0.005147\n",
       "2017-12-20 -0.000203  0.003886 -0.002740\n",
       "2017-12-21 -0.003139 -0.002689 -0.001147\n",
       "2017-12-22 -0.000809  0.000523  0.001059\n",
       "2017-12-26  0.000707 -0.000748  0.000883\n",
       "2017-12-27  0.002125  0.002540 -0.000706\n",
       "2017-12-28  0.009774  0.003501  0.003803\n",
       "2017-12-29  0.003690  0.005856  0.001419"
      ]
     },
     "execution_count": 186,
     "metadata": {},
     "output_type": "execute_result"
    }
   ],
   "source": [
    "# compute the first difference and drop NA\n",
    "data2017_final=data2017_new1.diff()\n",
    "data2017_final.dropna(inplace=True)\n",
    "data2017_final.tail(20)"
   ]
  },
  {
   "cell_type": "code",
   "execution_count": 231,
   "metadata": {},
   "outputs": [
    {
     "data": {
      "text/plain": [
       "11787"
      ]
     },
     "execution_count": 231,
     "metadata": {},
     "output_type": "execute_result"
    }
   ],
   "source": [
    "# check length\n",
    "len(data2017_final)"
   ]
  },
  {
   "cell_type": "code",
   "execution_count": 232,
   "metadata": {},
   "outputs": [],
   "source": [
    "#Mean vector and covariance matrix are inputs to efficient frontier calculations\n",
    "d=np.array(data2017_final[seriesnames])\n",
    "m=np.mean(d,axis=0)\n",
    "c=np.cov(d.T)"
   ]
  },
  {
   "cell_type": "code",
   "execution_count": 233,
   "metadata": {},
   "outputs": [
    {
     "name": "stdout",
     "output_type": "stream",
     "text": [
      "Means: [ 1.2635 -0.4841  0.98  ] bps/day\n",
      "(CHF, GBP, JPY)\n",
      "\n",
      "   [0.5278 0.253  0.2247]\n",
      "C= [0.253  0.3594 0.1191]     (4.20)\n",
      "   [0.2247 0.1191 0.4209]\n",
      "(%/day)² units\n",
      "  \n",
      "From 1971-01-05 00:00:00 to 2017-12-29 00:00:00 ( 11787 observations)\n"
     ]
    }
   ],
   "source": [
    "#display the output\n",
    "#vectors and matrices are in fractional units;\n",
    "#    fraction*100=percent\n",
    "#    fraction*10000=basis point\n",
    "#    (fraction^2)*10000=percent^2\n",
    "np.set_printoptions(precision=4)\n",
    "print(\"Means:\",m*10000,\"bps/day\")\n",
    "print(\"(CHF, GBP, JPY)\\n\")\n",
    "print(\"  \",c[0]*10000)\n",
    "print(\"C=\",c[1]*10000,\"    (4.20)\")\n",
    "print(\"  \",c[2]*10000)\n",
    "print(f'(%/day)\\N{SUPERSCRIPT TWO} units')\n",
    "print(\"  \")\n",
    "print(\"From\",data2017_final.index[0],\"to\",data2017_final.index[-1],\"(\",len(data2017_final),\"observations)\")"
   ]
  },
  {
   "cell_type": "code",
   "execution_count": 234,
   "metadata": {},
   "outputs": [
    {
     "name": "stdout",
     "output_type": "stream",
     "text": [
      "           [ 3.3591 -1.9539 -1.2402]\n",
      "C-inverse= [-1.9539  4.2071 -0.1474]     (4.21)\n",
      "           [-1.2402 -0.1474  3.0796]\n",
      "(days/%)² units\n"
     ]
    }
   ],
   "source": [
    "# compute inverse of C\n",
    "ci=np.linalg.inv(c)\n",
    "print(\"          \",ci[0]/10000)\n",
    "#Jupyter doesn't like this superscript\n",
    "#print(f'C\\N{SUPERSCRIPT MINUS}\\N{SUPERSCRIPT ONE}=',ci[1]/10000,\"    (4.21)\")\n",
    "print(f'C-inverse=',ci[1]/10000,\"    (4.21)\")\n",
    "print(\"          \",ci[2]/10000)\n",
    "print(f'(days/%)\\N{SUPERSCRIPT TWO} units')"
   ]
  },
  {
   "cell_type": "code",
   "execution_count": 235,
   "metadata": {},
   "outputs": [
    {
     "name": "stdout",
     "output_type": "stream",
     "text": [
      "u'(C-inverse)u = 3.9626538250355283 (days/%)²\n",
      "u'(C-inverse)m = 0.8471614302272523 days\n",
      "m'(C-inverse)m = 8.765622671007106 bps\n"
     ]
    }
   ],
   "source": [
    "#sum entries in ci\n",
    "uciu=np.sum(ci)\n",
    "#print(f'u\\'C\\N{SUPERSCRIPT MINUS}\\N{SUPERSCRIPT ONE}u =',uciu/10000, f'(days/%)\\N{SUPERSCRIPT TWO}')\n",
    "print(f'u\\'(C-inverse)u =',uciu/10000, f'(days/%)\\N{SUPERSCRIPT TWO}')\n",
    "\n",
    "ucim=np.sum(np.matmul(ci,m))\n",
    "print(f'u\\'(C-inverse)m =',ucim, 'days')\n",
    "mcim=np.matmul(m,np.matmul(ci,m))\n",
    "print(f'm\\'(C-inverse)m =',mcim*10000,'bps')"
   ]
  },
  {
   "cell_type": "code",
   "execution_count": 236,
   "metadata": {},
   "outputs": [],
   "source": [
    "# compute the weight for the minimum variance portfolio\n",
    "u_vec=[1]*3\n",
    "w_optimal=(np.matmul(ci,u_vec))/uciu\n",
    "\n",
    "# compute the minimum variance\n",
    "variance_minimize=1/uciu"
   ]
  },
  {
   "cell_type": "code",
   "execution_count": 237,
   "metadata": {},
   "outputs": [
    {
     "data": {
      "text/plain": [
       "(array([0.0416, 0.5314, 0.427 ]), 2.523561340842167e-05)"
      ]
     },
     "execution_count": 237,
     "metadata": {},
     "output_type": "execute_result"
    }
   ],
   "source": [
    "# Below is the optimal weight and variance of the portfolio\n",
    "w_optimal, variance_minimize"
   ]
  },
  {
   "cell_type": "code",
   "execution_count": 238,
   "metadata": {},
   "outputs": [
    {
     "data": {
      "text/plain": [
       "array([ 1.2635e-04, -4.8412e-05,  9.8001e-05])"
      ]
     },
     "execution_count": 238,
     "metadata": {},
     "output_type": "execute_result"
    }
   ],
   "source": [
    "# mean\n",
    "m"
   ]
  },
  {
   "cell_type": "code",
   "execution_count": 206,
   "metadata": {},
   "outputs": [
    {
     "data": {
      "text/plain": [
       "0.005023506087228488"
      ]
     },
     "execution_count": 206,
     "metadata": {},
     "output_type": "execute_result"
    }
   ],
   "source": [
    "np.sqrt(variance_minimize)"
   ]
  },
  {
   "cell_type": "markdown",
   "metadata": {},
   "source": [
    "### (2) Use only 2018 data"
   ]
  },
  {
   "cell_type": "code",
   "execution_count": 239,
   "metadata": {},
   "outputs": [],
   "source": [
    "cdates2018, ratematrix2018 = qf.GetFREDMatrix(seriesnames, startdate='2018-01-01', enddate='2018-12-31')\n",
    "\n",
    "nobs, t = len(cdates2018), 0\n",
    "while t < nobs:\n",
    "    if all(np.isnan(ratematrix2018[t])):\n",
    "        del ratematrix2018[t]\n",
    "        del cdates2018[t]\n",
    "        nobs -= 1\n",
    "    else:\n",
    "        t += 1"
   ]
  },
  {
   "cell_type": "code",
   "execution_count": 240,
   "metadata": {},
   "outputs": [],
   "source": [
    "data2018 = pd.DataFrame(ratematrix2018, index =cdates2018, columns = seriesnames)\n",
    "data2018 = data2018.set_index(pd.DatetimeIndex(data2018.index))"
   ]
  },
  {
   "cell_type": "code",
   "execution_count": 241,
   "metadata": {},
   "outputs": [],
   "source": [
    "data2018['DEXSZUS']=data2018['DEXSZUS'].apply(lambda x: 1/x)\n",
    "data2018['DEXJPUS']=data2018['DEXJPUS'].apply(lambda x: 1/x)"
   ]
  },
  {
   "cell_type": "code",
   "execution_count": 242,
   "metadata": {},
   "outputs": [
    {
     "data": {
      "text/html": [
       "<div>\n",
       "<style scoped>\n",
       "    .dataframe tbody tr th:only-of-type {\n",
       "        vertical-align: middle;\n",
       "    }\n",
       "\n",
       "    .dataframe tbody tr th {\n",
       "        vertical-align: top;\n",
       "    }\n",
       "\n",
       "    .dataframe thead th {\n",
       "        text-align: right;\n",
       "    }\n",
       "</style>\n",
       "<table border=\"1\" class=\"dataframe\">\n",
       "  <thead>\n",
       "    <tr style=\"text-align: right;\">\n",
       "      <th></th>\n",
       "      <th>DEXSZUS</th>\n",
       "      <th>DEXUSUK</th>\n",
       "      <th>DEXJPUS</th>\n",
       "    </tr>\n",
       "  </thead>\n",
       "  <tbody>\n",
       "    <tr>\n",
       "      <th>2018-01-02</th>\n",
       "      <td>1.029018</td>\n",
       "      <td>1.3596</td>\n",
       "      <td>0.008914</td>\n",
       "    </tr>\n",
       "    <tr>\n",
       "      <th>2018-01-03</th>\n",
       "      <td>1.024380</td>\n",
       "      <td>1.3522</td>\n",
       "      <td>0.008906</td>\n",
       "    </tr>\n",
       "    <tr>\n",
       "      <th>2018-01-04</th>\n",
       "      <td>1.025326</td>\n",
       "      <td>1.3539</td>\n",
       "      <td>0.008867</td>\n",
       "    </tr>\n",
       "    <tr>\n",
       "      <th>2018-01-05</th>\n",
       "      <td>1.025431</td>\n",
       "      <td>1.3562</td>\n",
       "      <td>0.008835</td>\n",
       "    </tr>\n",
       "    <tr>\n",
       "      <th>2018-01-08</th>\n",
       "      <td>1.024380</td>\n",
       "      <td>1.3566</td>\n",
       "      <td>0.008843</td>\n",
       "    </tr>\n",
       "  </tbody>\n",
       "</table>\n",
       "</div>"
      ],
      "text/plain": [
       "             DEXSZUS  DEXUSUK   DEXJPUS\n",
       "2018-01-02  1.029018   1.3596  0.008914\n",
       "2018-01-03  1.024380   1.3522  0.008906\n",
       "2018-01-04  1.025326   1.3539  0.008867\n",
       "2018-01-05  1.025431   1.3562  0.008835\n",
       "2018-01-08  1.024380   1.3566  0.008843"
      ]
     },
     "execution_count": 242,
     "metadata": {},
     "output_type": "execute_result"
    }
   ],
   "source": [
    "# check\n",
    "data2018.head()"
   ]
  },
  {
   "cell_type": "code",
   "execution_count": 243,
   "metadata": {},
   "outputs": [
    {
     "data": {
      "text/html": [
       "<div>\n",
       "<style scoped>\n",
       "    .dataframe tbody tr th:only-of-type {\n",
       "        vertical-align: middle;\n",
       "    }\n",
       "\n",
       "    .dataframe tbody tr th {\n",
       "        vertical-align: top;\n",
       "    }\n",
       "\n",
       "    .dataframe thead th {\n",
       "        text-align: right;\n",
       "    }\n",
       "</style>\n",
       "<table border=\"1\" class=\"dataframe\">\n",
       "  <thead>\n",
       "    <tr style=\"text-align: right;\">\n",
       "      <th></th>\n",
       "      <th>DEXSZUS</th>\n",
       "      <th>DEXUSUK</th>\n",
       "      <th>DEXJPUS</th>\n",
       "    </tr>\n",
       "  </thead>\n",
       "  <tbody>\n",
       "    <tr>\n",
       "      <th>2018-01-02</th>\n",
       "      <td>0.028605</td>\n",
       "      <td>0.307191</td>\n",
       "      <td>-4.720105</td>\n",
       "    </tr>\n",
       "    <tr>\n",
       "      <th>2018-01-03</th>\n",
       "      <td>0.024088</td>\n",
       "      <td>0.301733</td>\n",
       "      <td>-4.720996</td>\n",
       "    </tr>\n",
       "    <tr>\n",
       "      <th>2018-01-04</th>\n",
       "      <td>0.025010</td>\n",
       "      <td>0.302989</td>\n",
       "      <td>-4.725439</td>\n",
       "    </tr>\n",
       "    <tr>\n",
       "      <th>2018-01-05</th>\n",
       "      <td>0.025113</td>\n",
       "      <td>0.304687</td>\n",
       "      <td>-4.728979</td>\n",
       "    </tr>\n",
       "    <tr>\n",
       "      <th>2018-01-08</th>\n",
       "      <td>0.024088</td>\n",
       "      <td>0.304982</td>\n",
       "      <td>-4.728096</td>\n",
       "    </tr>\n",
       "  </tbody>\n",
       "</table>\n",
       "</div>"
      ],
      "text/plain": [
       "             DEXSZUS   DEXUSUK   DEXJPUS\n",
       "2018-01-02  0.028605  0.307191 -4.720105\n",
       "2018-01-03  0.024088  0.301733 -4.720996\n",
       "2018-01-04  0.025010  0.302989 -4.725439\n",
       "2018-01-05  0.025113  0.304687 -4.728979\n",
       "2018-01-08  0.024088  0.304982 -4.728096"
      ]
     },
     "execution_count": 243,
     "metadata": {},
     "output_type": "execute_result"
    }
   ],
   "source": [
    "# compute log to all the values in the dataset\n",
    "data2018=data2018.apply(lambda x: np.log(x))\n",
    "data2018.head()"
   ]
  },
  {
   "cell_type": "code",
   "execution_count": 244,
   "metadata": {},
   "outputs": [
    {
     "data": {
      "text/html": [
       "<div>\n",
       "<style scoped>\n",
       "    .dataframe tbody tr th:only-of-type {\n",
       "        vertical-align: middle;\n",
       "    }\n",
       "\n",
       "    .dataframe tbody tr th {\n",
       "        vertical-align: top;\n",
       "    }\n",
       "\n",
       "    .dataframe thead th {\n",
       "        text-align: right;\n",
       "    }\n",
       "</style>\n",
       "<table border=\"1\" class=\"dataframe\">\n",
       "  <thead>\n",
       "    <tr style=\"text-align: right;\">\n",
       "      <th></th>\n",
       "      <th>DEXSZUS</th>\n",
       "      <th>DEXUSUK</th>\n",
       "      <th>DEXJPUS</th>\n",
       "    </tr>\n",
       "  </thead>\n",
       "  <tbody>\n",
       "    <tr>\n",
       "      <th>2018-01-03</th>\n",
       "      <td>-0.004517</td>\n",
       "      <td>-0.005458</td>\n",
       "      <td>-0.000891</td>\n",
       "    </tr>\n",
       "    <tr>\n",
       "      <th>2018-01-04</th>\n",
       "      <td>0.000922</td>\n",
       "      <td>0.001256</td>\n",
       "      <td>-0.004443</td>\n",
       "    </tr>\n",
       "    <tr>\n",
       "      <th>2018-01-05</th>\n",
       "      <td>0.000103</td>\n",
       "      <td>0.001697</td>\n",
       "      <td>-0.003540</td>\n",
       "    </tr>\n",
       "    <tr>\n",
       "      <th>2018-01-08</th>\n",
       "      <td>-0.001025</td>\n",
       "      <td>0.000295</td>\n",
       "      <td>0.000884</td>\n",
       "    </tr>\n",
       "    <tr>\n",
       "      <th>2018-01-09</th>\n",
       "      <td>-0.007145</td>\n",
       "      <td>-0.003545</td>\n",
       "      <td>0.004520</td>\n",
       "    </tr>\n",
       "  </tbody>\n",
       "</table>\n",
       "</div>"
      ],
      "text/plain": [
       "             DEXSZUS   DEXUSUK   DEXJPUS\n",
       "2018-01-03 -0.004517 -0.005458 -0.000891\n",
       "2018-01-04  0.000922  0.001256 -0.004443\n",
       "2018-01-05  0.000103  0.001697 -0.003540\n",
       "2018-01-08 -0.001025  0.000295  0.000884\n",
       "2018-01-09 -0.007145 -0.003545  0.004520"
      ]
     },
     "execution_count": 244,
     "metadata": {},
     "output_type": "execute_result"
    }
   ],
   "source": [
    "# compute the first difference and drop NA\n",
    "data2018_final=data2018.diff()\n",
    "data2018_final.dropna(inplace=True)\n",
    "data2018_final.head()"
   ]
  },
  {
   "cell_type": "code",
   "execution_count": 245,
   "metadata": {},
   "outputs": [
    {
     "data": {
      "text/plain": [
       "248"
      ]
     },
     "execution_count": 245,
     "metadata": {},
     "output_type": "execute_result"
    }
   ],
   "source": [
    "# check length\n",
    "len(data2018_final)"
   ]
  },
  {
   "cell_type": "code",
   "execution_count": 246,
   "metadata": {},
   "outputs": [],
   "source": [
    "#Mean vector and covariance matrix are inputs to efficient frontier calculations\n",
    "d2018=np.array(data2018_final[seriesnames])\n",
    "m2018=np.mean(d2018,axis=0)\n",
    "c2018=np.cov(d2018.T)"
   ]
  },
  {
   "cell_type": "code",
   "execution_count": 247,
   "metadata": {},
   "outputs": [
    {
     "name": "stdout",
     "output_type": "stream",
     "text": [
      "Means: [ 1.2635 -0.4841  0.98  ] bps/day\n",
      "(CHF, GBP, JPY)\n",
      "\n",
      "   [0.1338 0.0892 0.0688]\n",
      "C= [0.0892 0.2402 0.0361]     (4.20)\n",
      "   [0.0688 0.0361 0.1579]\n",
      "(%/day)² units\n",
      "  \n",
      "From 2018-01-03 00:00:00 to 2018-12-31 00:00:00 ( 248 observations)\n"
     ]
    }
   ],
   "source": [
    "#display the output\n",
    "#vectors and matrices are in fractional units;\n",
    "#    fraction*100=percent\n",
    "#    fraction*10000=basis point\n",
    "#    (fraction^2)*10000=percent^2\n",
    "np.set_printoptions(precision=4)\n",
    "print(\"Means:\",m*10000,\"bps/day\")\n",
    "print(\"(CHF, GBP, JPY)\\n\")\n",
    "print(\"  \",c2018[0]*10000)\n",
    "print(\"C=\",c2018[1]*10000,\"    (4.20)\")\n",
    "print(\"  \",c2018[2]*10000)\n",
    "print(f'(%/day)\\N{SUPERSCRIPT TWO} units')\n",
    "print(\"  \")\n",
    "print(\"From\",data2018_final.index[0],\"to\",data2018_final.index[-1],\"(\",len(data2018_final),\"observations)\")"
   ]
  },
  {
   "cell_type": "code",
   "execution_count": 248,
   "metadata": {},
   "outputs": [
    {
     "name": "stdout",
     "output_type": "stream",
     "text": [
      "           [12.4156 -3.9317 -4.5111]\n",
      "C-inverse= [-3.9317  5.5573  0.4416]     (4.21)\n",
      "           [-4.5111  0.4416  8.1974]\n",
      "(days/%)² units\n"
     ]
    }
   ],
   "source": [
    "# compute inverse of C\n",
    "ci2018=np.linalg.inv(c2018)\n",
    "print(\"          \",ci2018[0]/10000)\n",
    "#Jupyter doesn't like this superscript\n",
    "#print(f'C\\N{SUPERSCRIPT MINUS}\\N{SUPERSCRIPT ONE}=',ci[1]/10000,\"    (4.21)\")\n",
    "print(f'C-inverse=',ci2018[1]/10000,\"    (4.21)\")\n",
    "print(\"          \",ci2018[2]/10000)\n",
    "print(f'(days/%)\\N{SUPERSCRIPT TWO} units')"
   ]
  },
  {
   "cell_type": "code",
   "execution_count": 249,
   "metadata": {},
   "outputs": [
    {
     "name": "stdout",
     "output_type": "stream",
     "text": [
      "u'(C-inverse)u = 10.168178978599139 (days/%)²\n",
      "u'(C-inverse)m = 8.06454635985747 days\n",
      "m'(C-inverse)m = 8.765622671007106 bps\n"
     ]
    }
   ],
   "source": [
    "#sum entries in ci\n",
    "uciu2018=np.sum(ci2018)\n",
    "#print(f'u\\'C\\N{SUPERSCRIPT MINUS}\\N{SUPERSCRIPT ONE}u =',uciu/10000, f'(days/%)\\N{SUPERSCRIPT TWO}')\n",
    "print(f'u\\'(C-inverse)u =',uciu2018/10000, f'(days/%)\\N{SUPERSCRIPT TWO}')\n",
    "\n",
    "ucim2018=np.sum(np.matmul(ci2018,m))\n",
    "print(f'u\\'(C-inverse)m =',ucim2018, 'days')\n",
    "mcim2018=np.matmul(m,np.matmul(ci,m))\n",
    "print(f'm\\'(C-inverse)m =',mcim*10000,'bps')"
   ]
  },
  {
   "cell_type": "code",
   "execution_count": 250,
   "metadata": {},
   "outputs": [],
   "source": [
    "# compute the weight for the minimum variance portfolio\n",
    "u_vec2018=[1]*3\n",
    "w_optimal2018=(np.matmul(ci2018,u_vec2018))/uciu2018\n",
    "\n",
    "# compute the minimum variance\n",
    "variance_minimize2018=1/uciu2018"
   ]
  },
  {
   "cell_type": "code",
   "execution_count": 251,
   "metadata": {},
   "outputs": [
    {
     "data": {
      "text/plain": [
       "(array([0.3907, 0.2033, 0.406 ]), 9.834602657021378e-06)"
      ]
     },
     "execution_count": 251,
     "metadata": {},
     "output_type": "execute_result"
    }
   ],
   "source": [
    "# Below is the optimal weight and variance of the portfolio\n",
    "w_optimal2018, variance_minimize2018"
   ]
  },
  {
   "cell_type": "code",
   "execution_count": 254,
   "metadata": {},
   "outputs": [
    {
     "data": {
      "text/plain": [
       "array([-4.7026e-05, -2.5494e-04,  9.0143e-05])"
      ]
     },
     "execution_count": 254,
     "metadata": {},
     "output_type": "execute_result"
    }
   ],
   "source": [
    "m2018"
   ]
  },
  {
   "cell_type": "code",
   "execution_count": 253,
   "metadata": {},
   "outputs": [
    {
     "data": {
      "text/plain": [
       "0.003136017005218782"
      ]
     },
     "execution_count": 253,
     "metadata": {},
     "output_type": "execute_result"
    }
   ],
   "source": [
    "np.sqrt(variance_minimize2018)"
   ]
  },
  {
   "cell_type": "markdown",
   "metadata": {},
   "source": [
    "Answer:\n",
    "\n",
    "Portfolio1 - 1971-01-05 to 2017-12-29: optimal weight and variance is (array([0.0416, 0.5314, 0.427 ]), 2.523561340842167e-05), \n",
    "mean is: array([ 1.2635e-04, -4.8412e-05,  9.8001e-05])\n",
    "\n",
    "\n",
    "Portfolio2 - 2018-01-01 to 2018-12-31: optimal weight and variance is: (array([0.3907, 0.2033, 0.406 ]), 9.834602657021356e-06), mean is: array([-4.7026e-05, -2.5494e-04,  9.0143e-05])\n",
    "\n",
    "Portfolio1 has used significantly more data points than Portfolio2, so we can see that the minimized variance is larger than Portfolio2 which only covers data in 2018. Also, the weight is different too. Portfolio2 has weighted significantly more on CHF while less weight on GBP compared to Portfolio1."
   ]
  },
  {
   "cell_type": "code",
   "execution_count": null,
   "metadata": {},
   "outputs": [],
   "source": []
  }
 ],
 "metadata": {
  "kernelspec": {
   "display_name": "Python 3",
   "language": "python",
   "name": "python3"
  },
  "language_info": {
   "codemirror_mode": {
    "name": "ipython",
    "version": 3
   },
   "file_extension": ".py",
   "mimetype": "text/x-python",
   "name": "python",
   "nbconvert_exporter": "python",
   "pygments_lexer": "ipython3",
   "version": "3.6.5"
  }
 },
 "nbformat": 4,
 "nbformat_minor": 2
}
