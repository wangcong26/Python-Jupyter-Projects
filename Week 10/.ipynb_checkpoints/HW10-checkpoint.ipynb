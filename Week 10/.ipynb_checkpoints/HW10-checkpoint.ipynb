{
 "cells": [
  {
   "cell_type": "code",
   "execution_count": 2,
   "metadata": {},
   "outputs": [],
   "source": [
    "# install arch from Github\n",
    "#!pip install git+https://github.com/bashtage/arch.git"
   ]
  },
  {
   "cell_type": "code",
   "execution_count": 3,
   "metadata": {},
   "outputs": [],
   "source": [
    "#!pip install --upgrade numpy"
   ]
  },
  {
   "cell_type": "code",
   "execution_count": 4,
   "metadata": {},
   "outputs": [],
   "source": [
    "#!pip install arch"
   ]
  },
  {
   "cell_type": "code",
   "execution_count": 5,
   "metadata": {},
   "outputs": [],
   "source": [
    "import scipy.stats as spst\n",
    "import scipy\n",
    "import numpy as np\n",
    "import pandas as pd\n",
    "import qrbook_funcs as qf\n",
    "from scipy import stats\n",
    "from tabulate import tabulate\n",
    "from arch import arch_model\n",
    "import math\n",
    "import statistics \n",
    "import matplotlib.pyplot as plt\n",
    "%matplotlib inline"
   ]
  },
  {
   "cell_type": "code",
   "execution_count": 6,
   "metadata": {},
   "outputs": [],
   "source": [
    "import warnings\n",
    "warnings.simplefilter('ignore')\n",
    "%matplotlib inline\n",
    "import seaborn\n",
    "seaborn.set_style('darkgrid')"
   ]
  },
  {
   "cell_type": "code",
   "execution_count": 7,
   "metadata": {},
   "outputs": [],
   "source": [
    "seaborn.mpl.rcParams['figure.figsize'] = (10.0, 6.0)\n",
    "seaborn.mpl.rcParams['savefig.dpi'] = 90\n",
    "seaborn.mpl.rcParams['font.family'] = 'sans-serif'\n",
    "seaborn.mpl.rcParams['font.size'] = 14"
   ]
  },
  {
   "cell_type": "code",
   "execution_count": 8,
   "metadata": {},
   "outputs": [],
   "source": [
    "import datetime as dt"
   ]
  },
  {
   "cell_type": "markdown",
   "metadata": {},
   "source": [
    "### Work with training dataset 2015 to 2017"
   ]
  },
  {
   "cell_type": "code",
   "execution_count": 9,
   "metadata": {},
   "outputs": [],
   "source": [
    "#Get 3 currencies until the end of #previous year. Form sample covariance matrix and do simple efficient frontier calculations\n",
    "\n",
    "#Swiss franc, pound sterling, Japanese Yen\n",
    "seriesnames=['DEXSZUS','DEXUSUK','DEXJPUS']\n",
    "cdates_train, ratematrix_train = qf.GetFREDMatrix(seriesnames, startdate='2014-12-31', enddate='2017-12-29')\n",
    "\n",
    "nobs, t = len(cdates_train), 0\n",
    "while t < nobs:\n",
    "    if all(np.isnan(ratematrix_train[t])):\n",
    "        del ratematrix_train[t]\n",
    "        del cdates_train[t]\n",
    "        nobs -= 1\n",
    "    else:\n",
    "        t += 1"
   ]
  },
  {
   "cell_type": "code",
   "execution_count": 10,
   "metadata": {},
   "outputs": [],
   "source": [
    "train=pd.DataFrame(ratematrix_train, index=cdates_train, columns=seriesnames)"
   ]
  },
  {
   "cell_type": "code",
   "execution_count": 11,
   "metadata": {},
   "outputs": [
    {
     "data": {
      "text/html": [
       "<div>\n",
       "<style scoped>\n",
       "    .dataframe tbody tr th:only-of-type {\n",
       "        vertical-align: middle;\n",
       "    }\n",
       "\n",
       "    .dataframe tbody tr th {\n",
       "        vertical-align: top;\n",
       "    }\n",
       "\n",
       "    .dataframe thead th {\n",
       "        text-align: right;\n",
       "    }\n",
       "</style>\n",
       "<table border=\"1\" class=\"dataframe\">\n",
       "  <thead>\n",
       "    <tr style=\"text-align: right;\">\n",
       "      <th></th>\n",
       "      <th>DEXSZUS</th>\n",
       "      <th>DEXUSUK</th>\n",
       "      <th>DEXJPUS</th>\n",
       "    </tr>\n",
       "  </thead>\n",
       "  <tbody>\n",
       "    <tr>\n",
       "      <th>2014-12-31</th>\n",
       "      <td>0.9934</td>\n",
       "      <td>1.5578</td>\n",
       "      <td>119.85</td>\n",
       "    </tr>\n",
       "    <tr>\n",
       "      <th>2015-01-02</th>\n",
       "      <td>1.0004</td>\n",
       "      <td>1.5361</td>\n",
       "      <td>120.20</td>\n",
       "    </tr>\n",
       "    <tr>\n",
       "      <th>2015-01-05</th>\n",
       "      <td>1.0079</td>\n",
       "      <td>1.5234</td>\n",
       "      <td>119.64</td>\n",
       "    </tr>\n",
       "    <tr>\n",
       "      <th>2015-01-06</th>\n",
       "      <td>1.0062</td>\n",
       "      <td>1.5174</td>\n",
       "      <td>118.26</td>\n",
       "    </tr>\n",
       "    <tr>\n",
       "      <th>2015-01-07</th>\n",
       "      <td>1.0160</td>\n",
       "      <td>1.5073</td>\n",
       "      <td>119.52</td>\n",
       "    </tr>\n",
       "  </tbody>\n",
       "</table>\n",
       "</div>"
      ],
      "text/plain": [
       "            DEXSZUS  DEXUSUK  DEXJPUS\n",
       "2014-12-31   0.9934   1.5578   119.85\n",
       "2015-01-02   1.0004   1.5361   120.20\n",
       "2015-01-05   1.0079   1.5234   119.64\n",
       "2015-01-06   1.0062   1.5174   118.26\n",
       "2015-01-07   1.0160   1.5073   119.52"
      ]
     },
     "execution_count": 11,
     "metadata": {},
     "output_type": "execute_result"
    }
   ],
   "source": [
    "train.head()"
   ]
  },
  {
   "cell_type": "code",
   "execution_count": 12,
   "metadata": {},
   "outputs": [],
   "source": [
    "train_pound=pd.DataFrame(train['DEXUSUK'], index=cdates_train)"
   ]
  },
  {
   "cell_type": "code",
   "execution_count": 13,
   "metadata": {},
   "outputs": [],
   "source": [
    "# check head and tail\n",
    "# train_pound.head()\n",
    "# train_pound.tail()"
   ]
  },
  {
   "cell_type": "code",
   "execution_count": 14,
   "metadata": {},
   "outputs": [],
   "source": [
    "# compute log for every record\n",
    "train_log=train_pound.apply(lambda x : np.log(x))\n",
    "\n",
    "# compute first difference\n",
    "train_final=train_log.diff()\n",
    "\n",
    "# drop NA\n",
    "train_final.dropna(inplace=True)"
   ]
  },
  {
   "cell_type": "code",
   "execution_count": 15,
   "metadata": {},
   "outputs": [],
   "source": [
    "# check log return\n",
    "# train_final.head()\n",
    "# train_final.tail()"
   ]
  },
  {
   "cell_type": "code",
   "execution_count": 16,
   "metadata": {},
   "outputs": [],
   "source": [
    "mydate=train_final.index"
   ]
  },
  {
   "cell_type": "code",
   "execution_count": 17,
   "metadata": {},
   "outputs": [
    {
     "data": {
      "image/png": "[encoded data removed]",
      "text/plain": [
       "<Figure size 720x432 with 1 Axes>"
      ]
     },
     "metadata": {},
     "output_type": "display_data"
    }
   ],
   "source": [
    "st = dt.datetime(2015, 1, 2)\n",
    "en = dt.datetime(2017, 12, 29)\n",
    "figure=train_final.plot()"
   ]
  },
  {
   "cell_type": "code",
   "execution_count": 18,
   "metadata": {},
   "outputs": [
    {
     "data": {
      "text/plain": [
       "-0.08169384482533137"
      ]
     },
     "execution_count": 18,
     "metadata": {},
     "output_type": "execute_result"
    }
   ],
   "source": [
    "min(train_final['DEXUSUK'])"
   ]
  },
  {
   "cell_type": "code",
   "execution_count": 19,
   "metadata": {},
   "outputs": [
    {
     "data": {
      "text/plain": [
       "DEXUSUK    2016-06-24\n",
       "dtype: object"
      ]
     },
     "execution_count": 19,
     "metadata": {},
     "output_type": "execute_result"
    }
   ],
   "source": [
    "train_final[['DEXUSUK']].idxmin()"
   ]
  },
  {
   "cell_type": "markdown",
   "metadata": {},
   "source": [
    "#### We saw that on 2016-06-24, the British pound fell more than 10 percent on Thursday night, reaching $1.34 per pound(our data is log return which is more than 8%), after midnight Eastern time, a stunning decline for a rich country's currency in a single day. The plunge came as United Kingdom  voted to leave the European Union, a historic event that shatters 40 years of efforts to foster economic integration on the continent."
   ]
  },
  {
   "cell_type": "code",
   "execution_count": 20,
   "metadata": {},
   "outputs": [],
   "source": [
    "# Multiply the return by 1000 before fitting the model. The arch_model package recommends this way for better fitting\n",
    "log_return=np.array(train_final)*1000"
   ]
  },
  {
   "cell_type": "code",
   "execution_count": 21,
   "metadata": {},
   "outputs": [
    {
     "name": "stdout",
     "output_type": "stream",
     "text": [
      "aa=0.130\n",
      "bb=0.809\n",
      "cc=2.975\n"
     ]
    }
   ],
   "source": [
    "# This is using professor's package to fit GARCH(1,1) model\n",
    "initparams=[.12,.85,.6]\n",
    "aa,bb,cc=qf.Garch11Fit(initparams,log_return)\n",
    "\n",
    "# #Display results\n",
    "# We saw that it produces the similar result as the arch_model below\n",
    "print(\"aa=%.3f\" % aa)\n",
    "print(\"bb=%.3f\" % bb)\n",
    "print(\"cc=%.3f\" % cc)"
   ]
  },
  {
   "cell_type": "code",
   "execution_count": 22,
   "metadata": {},
   "outputs": [
    {
     "name": "stdout",
     "output_type": "stream",
     "text": [
      "Iteration:      1,   Func. Count:      6,   Neg. LLF: 2438.2322919421513\n",
      "Iteration:      2,   Func. Count:     14,   Neg. LLF: 2436.1124752121086\n",
      "Iteration:      3,   Func. Count:     21,   Neg. LLF: 2435.7938703950276\n",
      "Iteration:      4,   Func. Count:     28,   Neg. LLF: 2435.4938201888203\n",
      "Iteration:      5,   Func. Count:     36,   Neg. LLF: 2435.445809423254\n",
      "Iteration:      6,   Func. Count:     44,   Neg. LLF: 2435.416607205715\n",
      "Iteration:      7,   Func. Count:     50,   Neg. LLF: 2435.361200733251\n",
      "Iteration:      8,   Func. Count:     56,   Neg. LLF: 2435.2545754843422\n",
      "Iteration:      9,   Func. Count:     62,   Neg. LLF: 2435.249841038235\n",
      "Iteration:     10,   Func. Count:     68,   Neg. LLF: 2435.2497071544003\n",
      "Optimization terminated successfully.    (Exit mode 0)\n",
      "            Current function value: 2435.2497062670373\n",
      "            Iterations: 10\n",
      "            Function evaluations: 69\n",
      "            Gradient evaluations: 10\n"
     ]
    }
   ],
   "source": [
    "# Fit GARCH model\n",
    "garch11=arch_model(log_return,p=1,q=1)\n",
    "res=garch11.fit()"
   ]
  },
  {
   "cell_type": "code",
   "execution_count": 23,
   "metadata": {},
   "outputs": [
    {
     "name": "stdout",
     "output_type": "stream",
     "text": [
      "                     Constant Mean - GARCH Model Results                      \n",
      "==============================================================================\n",
      "Dep. Variable:                      y   R-squared:                      -0.000\n",
      "Mean Model:             Constant Mean   Adj. R-squared:                 -0.000\n",
      "Vol Model:                      GARCH   Log-Likelihood:               -2435.25\n",
      "Distribution:                  Normal   AIC:                           4878.50\n",
      "Method:            Maximum Likelihood   BIC:                           4896.99\n",
      "                                        No. Observations:                  751\n",
      "Date:                Mon, Nov 25 2019   Df Residuals:                      747\n",
      "Time:                        22:08:08   Df Model:                            4\n",
      "                               Mean Model                               \n",
      "========================================================================\n",
      "                 coef    std err          t      P>|t|  95.0% Conf. Int.\n",
      "------------------------------------------------------------------------\n",
      "mu            -0.1348      0.240     -0.562      0.574 [ -0.605,  0.335]\n",
      "                             Volatility Model                             \n",
      "==========================================================================\n",
      "                 coef    std err          t      P>|t|    95.0% Conf. Int.\n",
      "--------------------------------------------------------------------------\n",
      "omega          2.8958      1.371      2.113  3.464e-02   [  0.209,  5.582]\n",
      "alpha[1]       0.1287  6.550e-02      1.965  4.937e-02 [3.569e-04,  0.257]\n",
      "beta[1]        0.8127  3.536e-02     22.986 6.370e-117   [  0.743,  0.882]\n",
      "==========================================================================\n",
      "\n",
      "Covariance estimator: robust\n"
     ]
    }
   ],
   "source": [
    "print(res.summary())"
   ]
  },
  {
   "cell_type": "code",
   "execution_count": 24,
   "metadata": {},
   "outputs": [
    {
     "data": {
      "image/png": "[encoded data removed]",
      "text/plain": [
       "<Figure size 720x432 with 2 Axes>"
      ]
     },
     "metadata": {},
     "output_type": "display_data"
    }
   ],
   "source": [
    "fig = res.plot(annualize='D')"
   ]
  },
  {
   "cell_type": "code",
   "execution_count": 25,
   "metadata": {},
   "outputs": [
    {
     "name": "stdout",
     "output_type": "stream",
     "text": [
      "The parameters fitted using arch_model is as below: \n",
      "a=0.129\n",
      "b=0.813\n",
      "c=2.896\n",
      "\n",
      "Stationary check (less than 1):  0.9414593760942198\n",
      "Long term standard deviation is:  24.364007180919803\n"
     ]
    }
   ],
   "source": [
    "c=res.params[1]\n",
    "a=res.params[2]\n",
    "b=res.params[3]\n",
    "\n",
    "print(\"The parameters fitted using arch_model is as below: \")\n",
    "print(\"a=%.3f\" % a)\n",
    "print(\"b=%.3f\" % b)\n",
    "print(\"c=%.3f\" % c)\n",
    "print(\"\")\n",
    "print( \"Stationary check (less than 1): \", a+b)\n",
    "long_term_std=np.sqrt(12*c/(1-a-b))\n",
    "print(\"Long term standard deviation is: \", long_term_std)"
   ]
  },
  {
   "cell_type": "markdown",
   "metadata": {},
   "source": [
    "### Working with holdout dataset 2018 249 records"
   ]
  },
  {
   "cell_type": "code",
   "execution_count": 26,
   "metadata": {},
   "outputs": [],
   "source": [
    "# Get the holdout dataset starting from 2017-12-29\n",
    "cdates_holdout, ratematrix_holdout = qf.GetFREDMatrix(seriesnames, startdate='2017-12-29', enddate='2018-12-31')\n",
    "\n",
    "nobs, t = len(cdates_holdout), 0\n",
    "while t < nobs:\n",
    "    if all(np.isnan(ratematrix_holdout[t])):\n",
    "        del ratematrix_holdout[t]\n",
    "        del cdates_holdout[t]\n",
    "        nobs -= 1\n",
    "    else:\n",
    "        t += 1"
   ]
  },
  {
   "cell_type": "code",
   "execution_count": 27,
   "metadata": {},
   "outputs": [],
   "source": [
    "# store holdout 2018 into dataframe\n",
    "holdout=pd.DataFrame(ratematrix_holdout, index=cdates_holdout, columns=seriesnames)"
   ]
  },
  {
   "cell_type": "code",
   "execution_count": 28,
   "metadata": {},
   "outputs": [
    {
     "data": {
      "text/plain": [
       "250"
      ]
     },
     "execution_count": 28,
     "metadata": {},
     "output_type": "execute_result"
    }
   ],
   "source": [
    "# check length=250 because I started from 2017 last day\n",
    "len(holdout['DEXUSUK'])"
   ]
  },
  {
   "cell_type": "code",
   "execution_count": 29,
   "metadata": {},
   "outputs": [],
   "source": [
    "# holdout 2018 dataframe Pound ONLY\n",
    "holdout_pound=pd.DataFrame(holdout['DEXUSUK'], index=cdates_holdout)\n",
    "\n",
    "# compute log for every record\n",
    "holdout_log=holdout_pound.apply(lambda x : np.log(x))\n",
    "\n",
    "# compute first difference. Now it became 249\n",
    "holdout_final=holdout_log.diff()\n",
    "\n",
    "# drop NA\n",
    "holdout_final.dropna(inplace=True)\n",
    "\n",
    "# convert the series to a list as holdout\n",
    "holdout_list=holdout_final['DEXUSUK'].tolist()"
   ]
  },
  {
   "cell_type": "code",
   "execution_count": 30,
   "metadata": {},
   "outputs": [
    {
     "data": {
      "text/plain": [
       "249"
      ]
     },
     "execution_count": 30,
     "metadata": {},
     "output_type": "execute_result"
    }
   ],
   "source": [
    "# check length 249 now\n",
    "len(holdout_final)"
   ]
  },
  {
   "cell_type": "code",
   "execution_count": 31,
   "metadata": {},
   "outputs": [],
   "source": [
    "# number of days in 2018\n",
    "t=249\n",
    "\n",
    "# 1. create a stdgarch to store the estimated std series for 2018 \n",
    "stdgarch=np.zeros(t)\n",
    "# std of train dataset is used as the starting point for 2018 var series\n",
    "stdgarch[0]=np.std(train_final)\n",
    "\n",
    "# 2. series to hold de-garched series y[t]/sigma[t]\n",
    "degarched=np.zeros(t)   \n",
    "degarched[0]=holdout_list[0]/stdgarch[0]"
   ]
  },
  {
   "cell_type": "code",
   "execution_count": 32,
   "metadata": {},
   "outputs": [],
   "source": [
    "# Compute GARCH(1,1) stddev's for 2018 using estimated parameters from training dataset 2015-2017\n",
    "for i in range(1,t):\n",
    "    #Note offset - i-1 observation of data is used for i estimate of std deviation\n",
    "    previous=stdgarch[i-1]**2\n",
    "    var=c+b*previous+a*(holdout_list[i-1])**2\n",
    "    stdgarch[i]=np.sqrt(var)\n",
    "    degarched[i]=(holdout_list[i])/stdgarch[i]"
   ]
  },
  {
   "cell_type": "code",
   "execution_count": 43,
   "metadata": {},
   "outputs": [
    {
     "name": "stdout",
     "output_type": "stream",
     "text": [
      "The variance of the y(t)/sigma(t) is:  0.002148868453534065\n",
      "The kurtosis of the y(t)/sigma(t) is:  243.63777759358322\n",
      "The variance of the 2018 std series is:  0.10639818313513613\n",
      "The excess kurtosis of the 2018 std series is:  87.83733640832375\n"
     ]
    }
   ],
   "source": [
    "print(\"The variance of the y(t)/sigma(t) is: \", np.var(degarched))\n",
    "print(\"The kurtosis of the y(t)/sigma(t) is: \", spst.kurtosis(degarched))\n",
    "print(\"The variance of the 2018 std series is: \", np.var(stdgarch))\n",
    "print(\"The excess kurtosis of the 2018 std series is: \", spst.kurtosis(stdgarch))"
   ]
  },
  {
   "cell_type": "markdown",
   "metadata": {},
   "source": [
    "### The variance of the y(t)/sigma(i) series is not close to 1 and kurtosis is not close to 0. The model doesn't seem to work"
   ]
  },
  {
   "cell_type": "markdown",
   "metadata": {},
   "source": [
    "### Below is what I used 2018 data to fit the parameters and computed the estimated  var series and y(i)/sigma(i) series. However, the variance is still not close to 1 and excess kurtosis is not 0   "
   ]
  },
  {
   "cell_type": "code",
   "execution_count": 34,
   "metadata": {
    "scrolled": true
   },
   "outputs": [
    {
     "name": "stdout",
     "output_type": "stream",
     "text": [
      "Iteration:      1,   Func. Count:      6,   Neg. LLF: 748.4557524440571\n",
      "Iteration:      2,   Func. Count:     15,   Neg. LLF: 748.4041050492252\n",
      "Iteration:      3,   Func. Count:     22,   Neg. LLF: 748.1933200485612\n",
      "Iteration:      4,   Func. Count:     29,   Neg. LLF: 748.1234923403448\n",
      "Iteration:      5,   Func. Count:     35,   Neg. LLF: 748.0725081129149\n",
      "Iteration:      6,   Func. Count:     42,   Neg. LLF: 748.061997443\n",
      "Iteration:      7,   Func. Count:     49,   Neg. LLF: 748.0579280440048\n",
      "Iteration:      8,   Func. Count:     55,   Neg. LLF: 748.0556199966006\n",
      "Iteration:      9,   Func. Count:     61,   Neg. LLF: 748.0555531019434\n",
      "Iteration:     10,   Func. Count:     67,   Neg. LLF: 748.0555500899949\n",
      "Optimization terminated successfully.    (Exit mode 0)\n",
      "            Current function value: 748.0555500924578\n",
      "            Iterations: 10\n",
      "            Function evaluations: 67\n",
      "            Gradient evaluations: 10\n"
     ]
    }
   ],
   "source": [
    "# Fit GARCH model\n",
    "garch11_2018=arch_model(holdout_final*1000,p=1,q=1)\n",
    "res2018=garch11_2018.fit()"
   ]
  },
  {
   "cell_type": "code",
   "execution_count": 35,
   "metadata": {},
   "outputs": [
    {
     "data": {
      "text/plain": [
       "                     Constant Mean - GARCH Model Results                      \n",
       "==============================================================================\n",
       "Dep. Variable:                DEXUSUK   R-squared:                      -0.000\n",
       "Mean Model:             Constant Mean   Adj. R-squared:                 -0.000\n",
       "Vol Model:                      GARCH   Log-Likelihood:               -748.056\n",
       "Distribution:                  Normal   AIC:                           1504.11\n",
       "Method:            Maximum Likelihood   BIC:                           1518.18\n",
       "                                        No. Observations:                  249\n",
       "Date:                Mon, Nov 25 2019   Df Residuals:                      245\n",
       "Time:                        22:08:11   Df Model:                            4\n",
       "                               Mean Model                               \n",
       "========================================================================\n",
       "                 coef    std err          t      P>|t|  95.0% Conf. Int.\n",
       "------------------------------------------------------------------------\n",
       "mu            -0.2666      0.333     -0.801      0.423 [ -0.919,  0.386]\n",
       "                               Volatility Model                              \n",
       "=============================================================================\n",
       "                 coef    std err          t      P>|t|       95.0% Conf. Int.\n",
       "-----------------------------------------------------------------------------\n",
       "omega          0.8334      0.448      1.862  6.261e-02   [-4.386e-02,  1.711]\n",
       "alpha[1]   1.0017e-03  2.325e-02  4.308e-02      0.966 [-4.457e-02,4.657e-02]\n",
       "beta[1]        0.9625  3.441e-02     27.970 3.751e-172      [  0.895,  1.030]\n",
       "=============================================================================\n",
       "\n",
       "Covariance estimator: robust\n",
       "ARCHModelResult, id: 0x26c1de45978"
      ]
     },
     "execution_count": 35,
     "metadata": {},
     "output_type": "execute_result"
    }
   ],
   "source": [
    "res2018"
   ]
  },
  {
   "cell_type": "code",
   "execution_count": 36,
   "metadata": {},
   "outputs": [
    {
     "name": "stdout",
     "output_type": "stream",
     "text": [
      "Stationary check (less than 1):  0.9634734911551831\n",
      "Long term standard deviation is:  30.844185739257572\n"
     ]
    }
   ],
   "source": [
    "c2018=res2018.params[1]\n",
    "a2018=res2018.params[2]\n",
    "b2018=res2018.params[3]\n",
    "print( \"Stationary check (less than 1): \", a2018+b2018)\n",
    "\n",
    "long_term_std2018=np.sqrt(12*c/(1-a2018-b2018))\n",
    "print(\"Long term standard deviation is: \", long_term_std2018)"
   ]
  },
  {
   "cell_type": "code",
   "execution_count": 37,
   "metadata": {},
   "outputs": [],
   "source": [
    "# number of days in 2018\n",
    "t=249\n",
    "\n",
    "# 1. create a stdgarch to store the estimated std series for 2018 \n",
    "stdgarch18=np.zeros(t)\n",
    "# std of train dataset as the starting point for 2018 var series\n",
    "stdgarch18[0]=np.std(train_final)\n",
    "\n",
    "# 2. series to hold de-garched series y[t]/sigma[t]\n",
    "degarched18=np.zeros(t)   \n",
    "degarched18[0]=holdout_list[0]/stdgarch[0]"
   ]
  },
  {
   "cell_type": "code",
   "execution_count": 38,
   "metadata": {},
   "outputs": [],
   "source": [
    "# Compute GARCH(1,1) stddev's for 2018 using estimated parameters from training dataset 2015-2017\n",
    "for i in range(1,t):\n",
    "    #Note offset - i-1 observation of data is used for i estimate of std deviation\n",
    "    previous=stdgarch18[i-1]**2\n",
    "    var=c2018+b2018*previous+a2018*(holdout_list[i-1])**2\n",
    "    stdgarch18[i]=np.sqrt(var)\n",
    "    degarched18[i]=(holdout_list[i])/stdgarch18[i]"
   ]
  },
  {
   "cell_type": "code",
   "execution_count": 45,
   "metadata": {},
   "outputs": [
    {
     "name": "stdout",
     "output_type": "stream",
     "text": [
      "The variance of the y(t)/sigma(t) 2018 is:  0.0021486560369776762\n",
      "The kurtosis of the y(t)/sigma(t) 2018 is:  243.658258232126\n",
      "The variance of the 2018 std series is:  0.4830135837851532\n",
      "The excess kurtosis of the 2018 std series is:  12.144404616848627\n"
     ]
    }
   ],
   "source": [
    "print(\"The variance of the y(t)/sigma(t) 2018 is: \", np.var(degarched18))\n",
    "print(\"The kurtosis of the y(t)/sigma(t) 2018 is: \", spst.kurtosis(degarched18))\n",
    "print(\"The variance of the 2018 std series is: \", np.var(stdgarch18))\n",
    "print(\"The excess kurtosis of the 2018 std series is: \", spst.kurtosis(stdgarch18))"
   ]
  }
 ],
 "metadata": {
  "kernelspec": {
   "display_name": "Python 3",
   "language": "python",
   "name": "python3"
  },
  "language_info": {
   "codemirror_mode": {
    "name": "ipython",
    "version": 3
   },
   "file_extension": ".py",
   "mimetype": "text/x-python",
   "name": "python",
   "nbconvert_exporter": "python",
   "pygments_lexer": "ipython3",
   "version": "3.6.5"
  }
 },
 "nbformat": 4,
 "nbformat_minor": 2
}
