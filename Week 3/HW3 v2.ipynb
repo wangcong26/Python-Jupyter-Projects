{
 "cells": [
  {
   "cell_type": "code",
   "execution_count": 1,
   "metadata": {},
   "outputs": [],
   "source": [
    "import numpy as np\n",
    "import scipy.stats as spst\n",
    "from scipy.stats import binom\n",
    "import matplotlib.pyplot as plt\n",
    "%matplotlib inline"
   ]
  },
  {
   "cell_type": "code",
   "execution_count": 2,
   "metadata": {},
   "outputs": [],
   "source": [
    "# n is number of trials, p is the probability of success, confidence is the confidence level\n",
    "# this function computes the VaR and cVaR\n",
    "def compute_cVaR(n, p, confidence):\n",
    "    \n",
    "    # import the binom package\n",
    "    from scipy.stats import binom\n",
    "    \n",
    "    # compute the mean of binominal distribution\n",
    "    mean = n * p\n",
    "    \n",
    "    # create a map to store k' and its PMF\n",
    "    bin_map = dict()\n",
    "    sample = np.arange(n + 1)\n",
    "    \n",
    "    # compute PMF for each k, and then save (k',pmf) to a dictionary, k'=k-mean\n",
    "    prob_list = []\n",
    "    for each in sample:\n",
    "        prob = binom.pmf(each, n, p)\n",
    "        bin_map[each - mean] = prob\n",
    "\n",
    "    # compute the VaR using binom.ppf function\n",
    "    VaRp = -(binom.ppf(1 - confidence, n, p) - mean)\n",
    "    print(binom.ppf(1 - confidence, n, p))\n",
    "    \n",
    "    # Only count keys that are less or equal to -VaRp, in order to compute the expected value, which is cVaRp\n",
    "    cVaRpExpected = 0\n",
    "#     for key in bin_map.keys():\n",
    "#         if key > (-VaRp):\n",
    "#             continue\n",
    "#         else:\n",
    "#             cVaRpExpected = cVaRpExpected + key * bin_map.get(key)\n",
    "    \n",
    "    for key in bin_map.keys():\n",
    "        if key <= (-VaRp):\n",
    "            cVaRpExpected = cVaRpExpected + key * bin_map.get(key)\n",
    "    \n",
    "    # normalized by dividing by (1-confidence level), conditional expected value\n",
    "    cVaRp = (-1) * cVaRpExpected / (1 - confidence) \n",
    "\n",
    "    confidence_100 = confidence * 100\n",
    "    p_string = \"%0.0f\" % confidence_100\n",
    "    \n",
    "    pv_string = p_string + \"% VaR is \"\n",
    "    print(pv_string, VaRp)\n",
    "    \n",
    "    pcv_string = p_string + \"% cVaR is \"\n",
    "    print(pcv_string, cVaRp)\n",
    "    \n",
    "    #print(bin_map)"
   ]
  },
  {
   "cell_type": "code",
   "execution_count": 3,
   "metadata": {
    "scrolled": true
   },
   "outputs": [
    {
     "name": "stdout",
     "output_type": "stream",
     "text": [
      "38.0\n",
      "99% VaR is  12.0\n",
      "99% cVaR is  13.865927926356635\n"
     ]
    }
   ],
   "source": [
    "compute_cVaR(100,0.5,0.99)"
   ]
  },
  {
   "cell_type": "code",
   "execution_count": 4,
   "metadata": {},
   "outputs": [
    {
     "data": {
      "text/plain": [
       "array([0, 1, 2, 3, 4, 5])"
      ]
     },
     "execution_count": 4,
     "metadata": {},
     "output_type": "execute_result"
    }
   ],
   "source": [
    "np.arange(5+1)"
   ]
  },
  {
   "cell_type": "code",
   "execution_count": null,
   "metadata": {},
   "outputs": [],
   "source": []
  }
 ],
 "metadata": {
  "kernelspec": {
   "display_name": "Python 3",
   "language": "python",
   "name": "python3"
  },
  "language_info": {
   "codemirror_mode": {
    "name": "ipython",
    "version": 3
   },
   "file_extension": ".py",
   "mimetype": "text/x-python",
   "name": "python",
   "nbconvert_exporter": "python",
   "pygments_lexer": "ipython3",
   "version": "3.6.5"
  }
 },
 "nbformat": 4,
 "nbformat_minor": 2
}
