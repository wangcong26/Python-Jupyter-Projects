{
 "cells": [
  {
   "cell_type": "code",
   "execution_count": 1,
   "metadata": {},
   "outputs": [],
   "source": [
    "#Compare 1000 coin tosses to a normal distribution\n",
    "import scipy.stats as spst\n",
    "import scipy\n",
    "import numpy as np\n",
    "import pandas as pd\n",
    "import qrbook_funcs as qf\n",
    "from scipy import stats\n",
    "from tabulate import tabulate\n",
    "import math\n",
    "import matplotlib.pyplot as plt\n",
    "%matplotlib inline"
   ]
  },
  {
   "cell_type": "code",
   "execution_count": 2,
   "metadata": {},
   "outputs": [],
   "source": [
    "#Get 3 currencies until the end of #previous year. Form sample covariance matrix and do simple efficient frontier calculations\n",
    "\n",
    "lastday=qf.LastYearEnd()\n",
    "#Swiss franc, pound sterling, Japanese Yen\n",
    "seriesnames=['DEXSZUS','DEXUSUK','DEXJPUS']\n",
    "cdates,ratematrix=qf.GetFREDMatrix(seriesnames,enddate=lastday)\n",
    "\n",
    "multipliers=[-1,1,-1]\n",
    "dlgs=[]\n",
    "for i in range(len(multipliers)):\n",
    "    lgrates=[]\n",
    "    previous=-1\n",
    "    for t in range(len(ratematrix)):\n",
    "        if pd.isna(ratematrix[t][i]) or ratematrix[t][i]<=0:\n",
    "            lgrates.append(np.nan)    #Append a nan\n",
    "        else:\n",
    "            if previous < 0:    #This is the first data point\n",
    "                lgrates.append(np.nan)\n",
    "            else:\n",
    "                lgrates.append(np.log(ratematrix[t][i]/previous)*multipliers[i])\n",
    "            previous=ratematrix[t][i]\n",
    "    dlgs.append(lgrates)\n",
    "\n",
    "#dlgs is the transpose of what we want - flip it\n",
    "dlgs=np.transpose(dlgs)\n",
    "\n",
    "#Delete any time periods that don't have data\n",
    "lgdates=[]\n",
    "difflgs=[]\n",
    "for t in range(len(dlgs)):\n",
    "    if all(pd.notna(dlgs[t])):\n",
    "        #include this time period\n",
    "        difflgs.append(dlgs[t])\n",
    "        lgdates.append(cdates[t])"
   ]
  },
  {
   "cell_type": "code",
   "execution_count": 3,
   "metadata": {},
   "outputs": [],
   "source": [
    "# Obtain the sample\n",
    "sample = pd.DataFrame(difflgs[-1000:], columns = seriesnames)"
   ]
  },
  {
   "cell_type": "code",
   "execution_count": 4,
   "metadata": {},
   "outputs": [],
   "source": [
    "# compute the equal weighted sample data\n",
    "sample['Portfolio']=1/3*sample['DEXSZUS']+1/3*sample['DEXUSUK']+1/3*sample['DEXJPUS']\n",
    "\n",
    "# compute mean, var, kurtosis\n",
    "portfolio=sample['Portfolio']\n",
    "sample_mean=scipy.mean(portfolio)\n",
    "sample_variance=scipy.var(portfolio)\n",
    "sample_kurtosis=spst.kurtosis(portfolio)"
   ]
  },
  {
   "cell_type": "markdown",
   "metadata": {},
   "source": [
    "#### Using the formula to compute r and sigma"
   ]
  },
  {
   "cell_type": "code",
   "execution_count": 5,
   "metadata": {},
   "outputs": [],
   "source": [
    "def var_ratio1(w1,k):\n",
    "    nominator=w1*(1-w1)*(k+3)+math.sqrt(3*k*w1*(1-w1))\n",
    "    denominator=3*w1-(k+3)*(w1**2)\n",
    "    r=nominator/denominator\n",
    "    return r"
   ]
  },
  {
   "cell_type": "code",
   "execution_count": 6,
   "metadata": {},
   "outputs": [],
   "source": [
    "def lower_sigma1(sigma_mix, k, w1):\n",
    "    r=var_ratio1(w1,k)\n",
    "    lower_sig = sigma_mix/(w1*r+1-w1)\n",
    "    return lower_sig"
   ]
  },
  {
   "cell_type": "code",
   "execution_count": 7,
   "metadata": {},
   "outputs": [],
   "source": [
    "w=[0.05,0.10,0.15,0.20]"
   ]
  },
  {
   "cell_type": "code",
   "execution_count": 8,
   "metadata": {},
   "outputs": [],
   "source": [
    "#var_ratio1(0.05,sample_kurtosis)\n",
    "#lower_sigma(sample_variance, sample_kurtosis,0.05)"
   ]
  },
  {
   "cell_type": "code",
   "execution_count": 9,
   "metadata": {
    "scrolled": true
   },
   "outputs": [],
   "source": [
    "result=[]\n",
    "for each in w:\n",
    "    r=var_ratio1(each,sample_kurtosis)\n",
    "    lower_sig = lower_sigma1(sample_variance, sample_kurtosis, each)\n",
    "    pair=[r,lower_sig]\n",
    "    result.append(pair)"
   ]
  },
  {
   "cell_type": "code",
   "execution_count": 10,
   "metadata": {},
   "outputs": [
    {
     "name": "stdout",
     "output_type": "stream",
     "text": [
      "╒═════════╤═════════════╕\n",
      "│       r │   lower_sig │\n",
      "╞═════════╪═════════════╡\n",
      "│ 13.2569 │ 1.31702e-05 │\n",
      "├─────────┼─────────────┤\n",
      "│ 13.3261 │ 9.51419e-06 │\n",
      "├─────────┼─────────────┤\n",
      "│ 16.2472 │ 6.46213e-06 │\n",
      "├─────────┼─────────────┤\n",
      "│ 25.0938 │ 3.65053e-06 │\n",
      "╘═════════╧═════════════╛\n"
     ]
    }
   ],
   "source": [
    "headers=['r','lower_sig']\n",
    "print(tabulate(result, headers,tablefmt='fancy_grid'))"
   ]
  },
  {
   "cell_type": "markdown",
   "metadata": {},
   "source": [
    "#### Below is testing the other formula for r because the solution for the quadratic equation may have two solution. But r must be positive. And we can see that r is negative. So we need to discard the following formulas"
   ]
  },
  {
   "cell_type": "code",
   "execution_count": 11,
   "metadata": {},
   "outputs": [],
   "source": [
    "def var_ratio2(w1,k):\n",
    "    nominator=w1*(1-w1)*(k+3)-math.sqrt(3*k*w1*(1-w1))\n",
    "    denominator=3*w1-(k+3)*(w1**2)\n",
    "    r=nominator/denominator\n",
    "    return r"
   ]
  },
  {
   "cell_type": "code",
   "execution_count": 12,
   "metadata": {},
   "outputs": [],
   "source": [
    "def lower_sigma2(sigma_mix, k, w1):\n",
    "    r=var_ratio2(w1,k)\n",
    "    lower_sig = sigma_mix/(w1*r+1-w1)\n",
    "    return lower_sig"
   ]
  },
  {
   "cell_type": "code",
   "execution_count": 13,
   "metadata": {},
   "outputs": [],
   "source": [
    "result2=[]\n",
    "for each in w:\n",
    "    r=var_ratio2(each,sample_kurtosis)\n",
    "    lower_sig = lower_sigma2(sample_variance, sample_kurtosis, each)\n",
    "    pair=[r,lower_sig]\n",
    "    result2.append(pair)"
   ]
  },
  {
   "cell_type": "code",
   "execution_count": 14,
   "metadata": {},
   "outputs": [
    {
     "name": "stdout",
     "output_type": "stream",
     "text": [
      "╒══════════╤═════════════╕\n",
      "│        r │   lower_sig │\n",
      "╞══════════╪═════════════╡\n",
      "│ -4.50701 │ 2.93128e-05 │\n",
      "├──────────┼─────────────┤\n",
      "│ -2.55709 │ 3.29688e-05 │\n",
      "├──────────┼─────────────┤\n",
      "│ -1.73534 │ 3.60209e-05 │\n",
      "├──────────┼─────────────┤\n",
      "│ -1.26498 │ 3.88325e-05 │\n",
      "╘══════════╧═════════════╛\n"
     ]
    }
   ],
   "source": [
    "headers=['r','lower_sig']\n",
    "print(tabulate(result2, headers,tablefmt='fancy_grid'))"
   ]
  },
  {
   "cell_type": "markdown",
   "metadata": {},
   "source": [
    "### Q4"
   ]
  },
  {
   "cell_type": "code",
   "execution_count": 15,
   "metadata": {},
   "outputs": [],
   "source": [
    "sample_t = np.random.standard_t(5, size=10000)"
   ]
  },
  {
   "cell_type": "code",
   "execution_count": 16,
   "metadata": {},
   "outputs": [
    {
     "data": {
      "text/plain": [
       "10000"
      ]
     },
     "execution_count": 16,
     "metadata": {},
     "output_type": "execute_result"
    }
   ],
   "source": [
    "len(sample_t)"
   ]
  },
  {
   "cell_type": "code",
   "execution_count": 17,
   "metadata": {
    "scrolled": false
   },
   "outputs": [
    {
     "data": {
      "text/plain": [
       "<function matplotlib.pyplot.show(*args, **kw)>"
      ]
     },
     "execution_count": 17,
     "metadata": {},
     "output_type": "execute_result"
    },
    {
     "data": {
      "image/png": "[encoded data removed]",
      "text/plain": [
       "<Figure size 432x288 with 1 Axes>"
      ]
     },
     "metadata": {},
     "output_type": "display_data"
    }
   ],
   "source": [
    "#Get block maxima (actually minima since looking for big losses) by grouping into 10-day blocks; using Swiss francs chf\n",
    "blocksize=10\n",
    "maxima=[]\n",
    "for i in range(0,len(sample_t),blocksize): \n",
    "    maxima.append(max(sample_t[i:i+10]))\n",
    "\n",
    "#Plot a histogram of block maxima the histogram of the data Long-tailed to the right so have a \"more\" category\n",
    "num_bins=int(np.sqrt(len(maxima))/2)\n",
    "lowest=np.min(maxima)\n",
    "highest=np.percentile(maxima,99)\n",
    "binsize=(highest-lowest)/num_bins\n",
    "binlist=np.arange(lowest,highest,binsize)\n",
    "n, bins, patches = plt.hist(maxima, bins=binlist, density=0)\n",
    "plt.title('Histogram of 1000 student T sample maximum, '+str(len(maxima))+' blocks')\n",
    "plt.ylabel('Count')\n",
    "plt.xlabel('Block max')\n",
    "plt.grid()\n",
    "plt.show"
   ]
  },
  {
   "cell_type": "markdown",
   "metadata": {},
   "source": [
    "#### -Which of the GEV distributions does this look like?\n",
    "#### This looks more like Frehet GEV distribution since it has positive skewness and less fatter tail than Gumbel GEV"
   ]
  }
 ],
 "metadata": {
  "kernelspec": {
   "display_name": "Python 3",
   "language": "python",
   "name": "python3"
  },
  "language_info": {
   "codemirror_mode": {
    "name": "ipython",
    "version": 3
   },
   "file_extension": ".py",
   "mimetype": "text/x-python",
   "name": "python",
   "nbconvert_exporter": "python",
   "pygments_lexer": "ipython3",
   "version": "3.6.5"
  }
 },
 "nbformat": 4,
 "nbformat_minor": 2
}
