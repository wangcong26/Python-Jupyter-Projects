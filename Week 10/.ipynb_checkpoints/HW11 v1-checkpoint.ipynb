{
 "cells": [
  {
   "cell_type": "code",
   "execution_count": 11,
   "metadata": {},
   "outputs": [],
   "source": [
    "# install arch from Github\n",
    "#!pip install git+https://github.com/bashtage/arch.git"
   ]
  },
  {
   "cell_type": "code",
   "execution_count": 12,
   "metadata": {},
   "outputs": [],
   "source": [
    "#!pip install --upgrade numpy"
   ]
  },
  {
   "cell_type": "code",
   "execution_count": 13,
   "metadata": {},
   "outputs": [],
   "source": [
    "#!pip install arch"
   ]
  },
  {
   "cell_type": "code",
   "execution_count": 14,
   "metadata": {},
   "outputs": [],
   "source": [
    "import scipy.stats as spst\n",
    "import scipy\n",
    "import numpy as np\n",
    "import pandas as pd\n",
    "import qrbook_funcs as qf\n",
    "from scipy import stats\n",
    "from tabulate import tabulate\n",
    "from arch import arch_model\n",
    "import math\n",
    "import statistics \n",
    "import matplotlib.pyplot as plt\n",
    "%matplotlib inline"
   ]
  },
  {
   "cell_type": "code",
   "execution_count": 15,
   "metadata": {},
   "outputs": [],
   "source": [
    "import warnings\n",
    "warnings.simplefilter('ignore')\n",
    "%matplotlib inline\n",
    "import seaborn\n",
    "seaborn.set_style('darkgrid')"
   ]
  },
  {
   "cell_type": "code",
   "execution_count": 16,
   "metadata": {},
   "outputs": [],
   "source": [
    "seaborn.mpl.rcParams['figure.figsize'] = (10.0, 6.0)\n",
    "seaborn.mpl.rcParams['savefig.dpi'] = 90\n",
    "seaborn.mpl.rcParams['font.family'] = 'sans-serif'\n",
    "seaborn.mpl.rcParams['font.size'] = 14"
   ]
  },
  {
   "cell_type": "code",
   "execution_count": 17,
   "metadata": {},
   "outputs": [],
   "source": [
    "import datetime as dt"
   ]
  },
  {
   "cell_type": "markdown",
   "metadata": {},
   "source": [
    "### Work with training dataset 2015 to 2017"
   ]
  },
  {
   "cell_type": "code",
   "execution_count": 49,
   "metadata": {},
   "outputs": [],
   "source": [
    "#Get 3 currencies until the end of #previous year. Form sample covariance matrix and do simple efficient frontier calculations\n",
    "\n",
    "#Swiss franc, pound sterling, Japanese Yen\n",
    "seriesnames=['DEXSZUS','DEXUSUK','DEXJPUS']\n",
    "cdates_train, ratematrix_train = qf.GetFREDMatrix(seriesnames, startdate='2014-12-31', enddate='2017-12-29')\n",
    "\n",
    "nobs, t = len(cdates_train), 0\n",
    "while t < nobs:\n",
    "    if all(np.isnan(ratematrix_train[t])):\n",
    "        del ratematrix_train[t]\n",
    "        del cdates_train[t]\n",
    "        nobs -= 1\n",
    "    else:\n",
    "        t += 1"
   ]
  },
  {
   "cell_type": "code",
   "execution_count": 50,
   "metadata": {},
   "outputs": [],
   "source": [
    "train=pd.DataFrame(ratematrix_train, index=cdates_train, columns=seriesnames)"
   ]
  },
  {
   "cell_type": "code",
   "execution_count": 51,
   "metadata": {},
   "outputs": [
    {
     "data": {
      "text/html": [
       "<div>\n",
       "<style scoped>\n",
       "    .dataframe tbody tr th:only-of-type {\n",
       "        vertical-align: middle;\n",
       "    }\n",
       "\n",
       "    .dataframe tbody tr th {\n",
       "        vertical-align: top;\n",
       "    }\n",
       "\n",
       "    .dataframe thead th {\n",
       "        text-align: right;\n",
       "    }\n",
       "</style>\n",
       "<table border=\"1\" class=\"dataframe\">\n",
       "  <thead>\n",
       "    <tr style=\"text-align: right;\">\n",
       "      <th></th>\n",
       "      <th>DEXSZUS</th>\n",
       "      <th>DEXUSUK</th>\n",
       "      <th>DEXJPUS</th>\n",
       "    </tr>\n",
       "  </thead>\n",
       "  <tbody>\n",
       "    <tr>\n",
       "      <th>2014-12-31</th>\n",
       "      <td>0.9934</td>\n",
       "      <td>1.5578</td>\n",
       "      <td>119.85</td>\n",
       "    </tr>\n",
       "    <tr>\n",
       "      <th>2015-01-02</th>\n",
       "      <td>1.0004</td>\n",
       "      <td>1.5361</td>\n",
       "      <td>120.20</td>\n",
       "    </tr>\n",
       "    <tr>\n",
       "      <th>2015-01-05</th>\n",
       "      <td>1.0079</td>\n",
       "      <td>1.5234</td>\n",
       "      <td>119.64</td>\n",
       "    </tr>\n",
       "    <tr>\n",
       "      <th>2015-01-06</th>\n",
       "      <td>1.0062</td>\n",
       "      <td>1.5174</td>\n",
       "      <td>118.26</td>\n",
       "    </tr>\n",
       "    <tr>\n",
       "      <th>2015-01-07</th>\n",
       "      <td>1.0160</td>\n",
       "      <td>1.5073</td>\n",
       "      <td>119.52</td>\n",
       "    </tr>\n",
       "  </tbody>\n",
       "</table>\n",
       "</div>"
      ],
      "text/plain": [
       "            DEXSZUS  DEXUSUK  DEXJPUS\n",
       "2014-12-31   0.9934   1.5578   119.85\n",
       "2015-01-02   1.0004   1.5361   120.20\n",
       "2015-01-05   1.0079   1.5234   119.64\n",
       "2015-01-06   1.0062   1.5174   118.26\n",
       "2015-01-07   1.0160   1.5073   119.52"
      ]
     },
     "execution_count": 51,
     "metadata": {},
     "output_type": "execute_result"
    }
   ],
   "source": [
    "train.head()"
   ]
  },
  {
   "cell_type": "code",
   "execution_count": 52,
   "metadata": {},
   "outputs": [],
   "source": [
    "train_pound=pd.DataFrame(train['DEXUSUK'], index=cdates_train)"
   ]
  },
  {
   "cell_type": "code",
   "execution_count": 53,
   "metadata": {},
   "outputs": [],
   "source": [
    "# check head and tail\n",
    "# train_pound.head()\n",
    "# train_pound.tail()"
   ]
  },
  {
   "cell_type": "code",
   "execution_count": 23,
   "metadata": {},
   "outputs": [],
   "source": [
    "# compute log for every record\n",
    "train_log=train_pound.apply(lambda x : np.log(x))\n",
    "\n",
    "# compute first difference\n",
    "train_final=train_log.diff()\n",
    "\n",
    "# drop NA\n",
    "train_final.dropna(inplace=True)"
   ]
  },
  {
   "cell_type": "code",
   "execution_count": 24,
   "metadata": {},
   "outputs": [],
   "source": [
    "# check log return\n",
    "# train_final.head()\n",
    "# train_final.tail()"
   ]
  },
  {
   "cell_type": "code",
   "execution_count": 25,
   "metadata": {},
   "outputs": [],
   "source": [
    "mydate=train_final.index"
   ]
  },
  {
   "cell_type": "code",
   "execution_count": 26,
   "metadata": {},
   "outputs": [
    {
     "data": {
      "image/png": "[encoded data removed]",
      "text/plain": [
       "<matplotlib.figure.Figure at 0x160262d4278>"
      ]
     },
     "metadata": {},
     "output_type": "display_data"
    }
   ],
   "source": [
    "st = dt.datetime(2015, 1, 2)\n",
    "en = dt.datetime(2017, 12, 29)\n",
    "figure=train_final.plot()"
   ]
  },
  {
   "cell_type": "code",
   "execution_count": 27,
   "metadata": {},
   "outputs": [
    {
     "data": {
      "text/plain": [
       "-0.08169384482533137"
      ]
     },
     "execution_count": 27,
     "metadata": {},
     "output_type": "execute_result"
    }
   ],
   "source": [
    "min(train_final['DEXUSUK'])"
   ]
  },
  {
   "cell_type": "code",
   "execution_count": 28,
   "metadata": {},
   "outputs": [
    {
     "data": {
      "text/plain": [
       "DEXUSUK    2016-06-24\n",
       "dtype: object"
      ]
     },
     "execution_count": 28,
     "metadata": {},
     "output_type": "execute_result"
    }
   ],
   "source": [
    "train_final[['DEXUSUK']].idxmin()"
   ]
  },
  {
   "cell_type": "markdown",
   "metadata": {},
   "source": [
    "#### We saw that on 2016-06-24, the British pound fell more than 10 percent on Thursday night, reaching $1.34 per pound(our data is log return which is more than 8%), after midnight Eastern time, a stunning decline for a rich country's currency in a single day. The plunge came as United Kingdom  voted to leave the European Union, a historic event that shatters 40 years of efforts to foster economic integration on the continent."
   ]
  },
  {
   "cell_type": "code",
   "execution_count": 104,
   "metadata": {},
   "outputs": [],
   "source": [
    "log_return=np.array(train_final)"
   ]
  },
  {
   "cell_type": "code",
   "execution_count": 105,
   "metadata": {},
   "outputs": [
    {
     "name": "stdout",
     "output_type": "stream",
     "text": [
      "aa=0.130\n",
      "bb=0.809\n",
      "cc=0.000\n",
      "Stationary check (a+b less than one):  0.9395314115234858\n"
     ]
    }
   ],
   "source": [
    "# Method 1 This is using professor's package to fit GARCH(1,1) model\n",
    "initparams=[.12,.85,.6]\n",
    "aa,bb,cc=qf.Garch11Fit(initparams,log_return)\n",
    "\n",
    "# #Display results\n",
    "# We saw that it produces the similar result as the arch_model below\n",
    "print(\"aa=%.3f\" % aa)\n",
    "print(\"bb=%.3f\" % bb)\n",
    "print(\"cc=%.3f\" % cc)\n",
    "print(\"Stationary check (a+b less than one): \",aa+bb)"
   ]
  },
  {
   "cell_type": "code",
   "execution_count": 106,
   "metadata": {},
   "outputs": [
    {
     "name": "stdout",
     "output_type": "stream",
     "text": [
      "Iteration:      1,   Func. Count:      6,   Neg. LLF: -2749.4919225734334\n",
      "Iteration:      2,   Func. Count:     20,   Neg. LLF: -2749.504742845992\n",
      "Iteration:      3,   Func. Count:     36,   Neg. LLF: -2749.5044504519446\n",
      "Iteration:      4,   Func. Count:     50,   Neg. LLF: -2749.5046777414454\n",
      "Iteration:      5,   Func. Count:     66,   Neg. LLF: -2749.504522596787\n",
      "Iteration:      6,   Func. Count:     80,   Neg. LLF: -2749.504620666346\n",
      "Optimization terminated successfully.    (Exit mode 0)\n",
      "            Current function value: -2749.5046291037315\n",
      "            Iterations: 8\n",
      "            Function evaluations: 91\n",
      "            Gradient evaluations: 6\n"
     ]
    }
   ],
   "source": [
    "# Method 2 Fit GARCH model\n",
    "garch11=arch_model(log_return,p=1,q=1)\n",
    "res=garch11.fit()"
   ]
  },
  {
   "cell_type": "code",
   "execution_count": 107,
   "metadata": {},
   "outputs": [
    {
     "name": "stdout",
     "output_type": "stream",
     "text": [
      "                     Constant Mean - GARCH Model Results                      \n",
      "==============================================================================\n",
      "Dep. Variable:                      y   R-squared:                      -0.000\n",
      "Mean Model:             Constant Mean   Adj. R-squared:                 -0.000\n",
      "Vol Model:                      GARCH   Log-Likelihood:                2749.50\n",
      "Distribution:                  Normal   AIC:                          -5491.01\n",
      "Method:            Maximum Likelihood   BIC:                          -5472.52\n",
      "                                        No. Observations:                  751\n",
      "Date:                Tue, Nov 26 2019   Df Residuals:                      747\n",
      "Time:                        13:06:19   Df Model:                            4\n",
      "                                   Mean Model                                  \n",
      "===============================================================================\n",
      "                  coef    std err          t      P>|t|        95.0% Conf. Int.\n",
      "-------------------------------------------------------------------------------\n",
      "mu         -1.5322e-04  3.160e-05     -4.848  1.246e-06 [-2.152e-04,-9.128e-05]\n",
      "                              Volatility Model                              \n",
      "============================================================================\n",
      "                 coef    std err          t      P>|t|      95.0% Conf. Int.\n",
      "----------------------------------------------------------------------------\n",
      "omega      4.5470e-06  4.490e-11  1.013e+05      0.000 [4.547e-06,4.547e-06]\n",
      "alpha[1]       0.1000  6.238e-02      1.603      0.109  [-2.227e-02,  0.222]\n",
      "beta[1]        0.8000  3.179e-02     25.167 9.130e-140     [  0.738,  0.862]\n",
      "============================================================================\n",
      "\n",
      "Covariance estimator: robust\n"
     ]
    }
   ],
   "source": [
    "print(res.summary())"
   ]
  },
  {
   "cell_type": "code",
   "execution_count": 108,
   "metadata": {},
   "outputs": [
    {
     "data": {
      "image/png": "[encoded data removed]",
      "text/plain": [
       "<matplotlib.figure.Figure at 0x1602860f978>"
      ]
     },
     "metadata": {},
     "output_type": "display_data"
    }
   ],
   "source": [
    "fig = res.plot(annualize='D')"
   ]
  },
  {
   "cell_type": "code",
   "execution_count": 109,
   "metadata": {},
   "outputs": [
    {
     "name": "stdout",
     "output_type": "stream",
     "text": [
      "The parameters fitted using arch_model is as below: \n",
      "a=0.100\n",
      "b=0.800\n",
      "c=0.000\n",
      "\n",
      "Stationary check (less than 1):  0.9000000160093242\n",
      "Long term standard deviation is:  0.02335884609607318\n"
     ]
    }
   ],
   "source": [
    "c=res.params[1]\n",
    "a=res.params[2]\n",
    "b=res.params[3]\n",
    "\n",
    "print(\"The parameters fitted using arch_model is as below: \")\n",
    "print(\"a=%.3f\" % a)\n",
    "print(\"b=%.3f\" % b)\n",
    "print(\"c=%.3f\" % c)\n",
    "print(\"\")\n",
    "print( \"Stationary check (less than 1): \", a+b)\n",
    "long_term_std=np.sqrt(12*c/(1-a-b))\n",
    "print(\"Long term standard deviation is: \", long_term_std)"
   ]
  },
  {
   "cell_type": "markdown",
   "metadata": {},
   "source": [
    "### Working with holdout dataset 2018 249 records"
   ]
  },
  {
   "cell_type": "code",
   "execution_count": 110,
   "metadata": {},
   "outputs": [],
   "source": [
    "# Get the holdout dataset starting from 2017-12-29\n",
    "cdates_holdout, ratematrix_holdout = qf.GetFREDMatrix(seriesnames, startdate='2017-12-29', enddate='2018-12-31')\n",
    "\n",
    "nobs, t = len(cdates_holdout), 0\n",
    "while t < nobs:\n",
    "    if all(np.isnan(ratematrix_holdout[t])):\n",
    "        del ratematrix_holdout[t]\n",
    "        del cdates_holdout[t]\n",
    "        nobs -= 1\n",
    "    else:\n",
    "        t += 1\n",
    "\n",
    "# store holdout 2018 into dataframe\n",
    "holdout=pd.DataFrame(ratematrix_holdout, index=cdates_holdout, columns=seriesnames)"
   ]
  },
  {
   "cell_type": "code",
   "execution_count": 111,
   "metadata": {},
   "outputs": [
    {
     "data": {
      "text/plain": [
       "250"
      ]
     },
     "execution_count": 111,
     "metadata": {},
     "output_type": "execute_result"
    }
   ],
   "source": [
    "# check length=250 because I started from 2017 last day\n",
    "len(holdout['DEXUSUK'])"
   ]
  },
  {
   "cell_type": "code",
   "execution_count": 114,
   "metadata": {},
   "outputs": [],
   "source": [
    "# holdout 2018 dataframe Pound ONLY\n",
    "holdout_pound=pd.DataFrame(holdout['DEXUSUK'], index=cdates_holdout)\n",
    "\n",
    "# compute log for every record\n",
    "holdout_log=holdout_pound.apply(lambda x : np.log(x))\n",
    "\n",
    "# compute first difference. Now it became 249\n",
    "holdout_final=holdout_log.diff()\n",
    "\n",
    "# drop NA\n",
    "holdout_final.dropna(inplace=True)\n",
    "\n",
    "# convert the series to a list as holdout\n",
    "holdout_list=holdout_final['DEXUSUK'].tolist()"
   ]
  },
  {
   "cell_type": "code",
   "execution_count": 115,
   "metadata": {},
   "outputs": [
    {
     "data": {
      "text/plain": [
       "249"
      ]
     },
     "execution_count": 115,
     "metadata": {},
     "output_type": "execute_result"
    }
   ],
   "source": [
    "# check length 249 now\n",
    "len(holdout_list)"
   ]
  },
  {
   "cell_type": "code",
   "execution_count": 116,
   "metadata": {},
   "outputs": [],
   "source": [
    "# number of days in 2018\n",
    "t=249\n",
    "\n",
    "# 1. create a stdgarch to store the estimated std series for 2018 \n",
    "stdgarch=np.zeros(t)\n",
    "# std of train dataset is used as the starting point for 2018 var series\n",
    "stdgarch[0]=np.std(train_final)\n",
    "\n",
    "# 2. series to hold de-garched series y[t]/sigma[t]\n",
    "degarched=np.zeros(t)   \n",
    "degarched[0]=holdout_list[0]/stdgarch[0]"
   ]
  },
  {
   "cell_type": "code",
   "execution_count": 121,
   "metadata": {},
   "outputs": [],
   "source": [
    "# Use the parameters from professor's package\n",
    "# Compute GARCH(1,1) stddev's for 2018 using estimated parameters from training dataset 2015-2017\n",
    "for i in range(1,t):\n",
    "    #Note offset - i-1 observation of data is used for i estimate of std deviation\n",
    "    previous=stdgarch[i-1]**2\n",
    "    var=cc+bb*previous+aa*(holdout_list[i-1])**2\n",
    "    stdgarch[i]=np.sqrt(var)\n",
    "    degarched[i]=(holdout_list[i])/stdgarch[i]"
   ]
  },
  {
   "cell_type": "code",
   "execution_count": 122,
   "metadata": {},
   "outputs": [
    {
     "name": "stdout",
     "output_type": "stream",
     "text": [
      "The variance of the y(t)/sigma(t) is:  0.7910318540484643\n",
      "The kurtosis of the y(t)/sigma(t) is:  1.1410897166133136\n"
     ]
    }
   ],
   "source": [
    "print(\"The variance of the y(t)/sigma(t) is: \", np.var(degarched))\n",
    "print(\"The kurtosis of the y(t)/sigma(t) is: \", spst.kurtosis(degarched))"
   ]
  },
  {
   "cell_type": "code",
   "execution_count": 119,
   "metadata": {},
   "outputs": [],
   "source": [
    "# Use the paramaters from arch_model\n",
    "# Compute GARCH(1,1) stddev's for 2018 using estimated parameters from training dataset 2015-2017\n",
    "for i in range(1,t):\n",
    "    #Note offset - i-1 observation of data is used for i estimate of std deviation\n",
    "    previous=stdgarch[i-1]**2\n",
    "    var=c+b*previous+a*(holdout_list[i-1])**2\n",
    "    stdgarch[i]=np.sqrt(var)\n",
    "    degarched[i]=(holdout_list[i])/stdgarch[i]"
   ]
  },
  {
   "cell_type": "code",
   "execution_count": 120,
   "metadata": {},
   "outputs": [
    {
     "name": "stdout",
     "output_type": "stream",
     "text": [
      "The variance of the y(t)/sigma(t) is:  0.7075593925156173\n",
      "The kurtosis of the y(t)/sigma(t) is:  1.169894167789506\n"
     ]
    }
   ],
   "source": [
    "print(\"The variance of the y(t)/sigma(t) is: \", np.var(degarched))\n",
    "print(\"The kurtosis of the y(t)/sigma(t) is: \", spst.kurtosis(degarched))"
   ]
  },
  {
   "cell_type": "markdown",
   "metadata": {},
   "source": [
    "### Using both method's parameters, the variance of the y(t)/sigma(i) series close to 1 but the kurtosis is not close to 0. "
   ]
  }
 ],
 "metadata": {
  "kernelspec": {
   "display_name": "Python 3",
   "language": "python",
   "name": "python3"
  },
  "language_info": {
   "codemirror_mode": {
    "name": "ipython",
    "version": 3
   },
   "file_extension": ".py",
   "mimetype": "text/x-python",
   "name": "python",
   "nbconvert_exporter": "python",
   "pygments_lexer": "ipython3",
   "version": "3.6.5"
  }
 },
 "nbformat": 4,
 "nbformat_minor": 2
}
