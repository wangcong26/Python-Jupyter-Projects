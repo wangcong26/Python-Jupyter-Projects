{
 "cells": [
  {
   "cell_type": "markdown",
   "metadata": {},
   "source": [
    "**Author: Binqian Zeng **\n",
    "\n",
    "**NetID: bz866 **"
   ]
  },
  {
   "cell_type": "code",
   "execution_count": 1,
   "metadata": {},
   "outputs": [],
   "source": [
    "import pandas as pd\n",
    "import qrbook_funcs as qf\n",
    "import numpy as np\n",
    "from scipy import optimize\n",
    "# Get 3 currencies until the end of Dec 29, 2017\n",
    "# From sample covariance matrix and do simple efficient frontier calculations"
   ]
  },
  {
   "cell_type": "markdown",
   "metadata": {},
   "source": [
    "# Utils"
   ]
  },
  {
   "cell_type": "code",
   "execution_count": 2,
   "metadata": {},
   "outputs": [],
   "source": [
    "def get_minimum_variance_portfolio(startday=None, lastday=None, display=True):\n",
    "    \"\"\"\n",
    "    @startday: optional, 'YYYY-MM-DD' dates\n",
    "    @lastday: optional, 'YYYY-MM-DD' dates\n",
    "    Return: \n",
    "        The mean of return of each instrument\n",
    "        The covariance matrix of return of instruments\n",
    "    \"\"\"\n",
    "    # Swiss Francs, pound sterling, Japanese Yen\n",
    "    seriesnames = ['DEXSZUS', 'DEXUSUK', 'DEXJPUS']\n",
    "    cdates, ratematrix = qf.GetFREDMatrix(seriesnames, startdate=startday, enddate=lastday)\n",
    "    \n",
    "    # Convert levels to log-returns\n",
    "    # First take logs of the currency levels\n",
    "    # Currency exchange rates are usually expressed in the direction\n",
    "    # that will make the rate > 1\n",
    "    # Swissie and yen are in currency/dollar, but\n",
    "    # pounds is in dollar/currency. Reverse signs\n",
    "    # so everything is in dollar/currency\n",
    "\n",
    "    # Do each currency separately to account for separate missing data patterns\n",
    "    # dlgs is a list of lists of length 3 corresponding to the 3 currencies\n",
    "    # The value in dlgs is nan if there is missing data for the present or previous day's observation\n",
    "    # Otherwise it is the log of today/yesterday\n",
    "\n",
    "    multipliers=[-1,1,-1]\n",
    "    dlgs=[]\n",
    "    for i in range(len(multipliers)):\n",
    "        lgrates=[]\n",
    "        previous=-1\n",
    "        for t in range(len(ratematrix)):\n",
    "            if pd.isna(ratematrix[t][i]) or ratematrix[t][i]<=0:\n",
    "                lgrates.append(np.nan)    # Append a nan\n",
    "            else:\n",
    "                if previous < 0:    # This is the first data point\n",
    "                    lgrates.append(np.nan)\n",
    "                else:\n",
    "                    lgrates.append(np.log(ratematrix[t][i]/previous)*multipliers[i])\n",
    "                previous=ratematrix[t][i]\n",
    "        dlgs.append(lgrates)\n",
    "\n",
    "    # dlgs is the transpose of what we want - flip it\n",
    "    dlgs=np.transpose(dlgs)\n",
    "\n",
    "    # Delete any time periods that don't have data\n",
    "    lgdates=[]\n",
    "    difflgs=[]\n",
    "    for t in range(len(dlgs)):\n",
    "        if all(pd.notna(dlgs[t])):\n",
    "            #include this time period\n",
    "            difflgs.append(dlgs[t])\n",
    "            lgdates.append(cdates[t])\n",
    "\n",
    "    # Mean vector and covariance matrix are inputs to efficient frontier calculations\n",
    "    d=np.array(difflgs)\n",
    "    m=np.mean(d,axis=0)\n",
    "    c=np.cov(d.T)\n",
    "\n",
    "    # display the output\n",
    "    # vectors and matrices are in fractional units;\n",
    "    #    fraction*100=percent\n",
    "    #    fraction*10000=basis point\n",
    "    #    (fraction^2)*10000=percent^2\n",
    "    if display:\n",
    "        np.set_printoptions(precision=4)\n",
    "        print(\"Means:\",m*10000,\"bps/day\")\n",
    "        print()\n",
    "        print(\"The minimum variance portfolio\")\n",
    "        print(\"(CHF, GBP, JPY)\\n\")\n",
    "        print(\"  \",c[0]*10000)\n",
    "        print(\"C=\",c[1]*10000,\"    (4.20)\")\n",
    "        print(\"  \",c[2]*10000)\n",
    "        print(f'(%/day)\\N{SUPERSCRIPT TWO} units')\n",
    "        print(\"  \")\n",
    "        print(\"From\",lgdates[0],\"to\",lgdates[-1],\"(\",len(lgdates),\"observations)\")\n",
    "        print('-------------------')\n",
    "        print()\n",
    "        \n",
    "    return m, c\n",
    "\n",
    "def portfolio_annualized_performance(weights, meanReturns, covReturnMtx):\n",
    "    \"\"\"\n",
    "    Calculate the standard deviation and returns of a portfolio\n",
    "    @weights: 1-d array\n",
    "    @meanReturns: 1-d array\n",
    "    @covReturnMtx: 2-d array\n",
    "    Return:\n",
    "        The standard deviation of the portfolio\n",
    "    \"\"\"\n",
    "    returns = np.sum(meanReturns*weights) * 252 # annualized return\n",
    "    std = np.sqrt(np.dot(weights.T, np.dot(covReturnMtx, weights))) * np.sqrt(252) # standard deviation\n",
    "    return std, returns\n",
    "\n",
    "def portfolio_volatility(weights, meanReturns, covReturnMtx):\n",
    "    \"\"\"\n",
    "    Calculate the standard deviation of the portfolio as the volatility\n",
    "    @weights: 1-d array\n",
    "    @meanReturns: 1-d array\n",
    "    @covReturnMtx: 2-d array\n",
    "    Return:\n",
    "        The standard deviation of the portfolio\n",
    "    \"\"\"\n",
    "    std, _ = portfolio_annualized_performance(weights, meanReturns, covReturnMtx)\n",
    "    return std\n",
    "\n",
    "def min_volatility(meanReturns, covReturnMtx):\n",
    "    \"\"\"\n",
    "    Calculate the possible minimum variance to achieve given means of return \n",
    "    and covariance matrix of returns\n",
    "    @meanReturns: 1-d array\n",
    "    @covReturnMtx: 2-d array\n",
    "    Return:\n",
    "        The set up to achieve the minimum variance\n",
    "    \"\"\"\n",
    "    numAssets = len(meanReturns)\n",
    "    args = (meanReturns, covReturnMtx)\n",
    "    constraints = ({'type': 'eq', 'fun': lambda x: np.sum(x) - 1})\n",
    "    bound = (0.0, 1.0)\n",
    "    bounds = tuple(bound for i in range(numAssets))\n",
    "    \n",
    "    weights0 = [1 / numAssets for i in range(numAssets)] # initalize weights as evenly distributed\n",
    "    # Optimize\n",
    "    minVolatilitySetUp = optimize.minimize(portfolio_volatility, weights0, args=args, \n",
    "                                   method='SLSQP', bounds=bounds, constraints=constraints)\n",
    "    return minVolatilitySetUp\n",
    "\n",
    "def calculate_efficient_frontier(seriesnames, meanReturns, covReturnMtx, numPortfolios=10000, display=True):\n",
    "    \"\"\"\n",
    "    Caculate the efficient frontier for the portfolio\n",
    "    @meanReturns: 1-d array\n",
    "    @covReturnMtx: 2-d array\n",
    "    @numPortfolios: default 10000\n",
    "    @display: boolean\n",
    "    Return:\n",
    "        display a table of return, volatility, and allocation\n",
    "    \"\"\"\n",
    "    minVolatilitySetUp = min_volatility(meanReturns, covReturnMtx)\n",
    "    stdMinPrtf, returnMin = portfolio_annualized_performance(minVolatilitySetUp['x'], meanReturns, covReturnMtx)\n",
    "    minVolatilityAlloc = pd.DataFrame(minVolatilitySetUp['x'], index=seriesnames, columns=['allocation percentage'])\n",
    "    minVolatilityAlloc['allocation percentage'] = [round(i * 100, 2) for i in minVolatilityAlloc['allocation percentage']]\n",
    "    minVolatilityAlloc = minVolatilityAlloc.T\n",
    "    \n",
    "    if display:\n",
    "        print (\"Minimum Volatility Portfolio Allocation Percentage\\n\")\n",
    "        print (\"Annualised Return:\", round(returnMin,2))\n",
    "        print (\"Annualised Volatility:\", round(stdMinPrtf,2))\n",
    "        print (\"\\n\")\n",
    "        print (minVolatilityAlloc)\n",
    "        print (\"--------------------------------\")\n",
    "    \n",
    "    \n",
    "def calculate_efficient_frontier_return(seriesnames, meanReturns, covReturnMtx, numPortfolios=10000, display=True):\n",
    "    \"\"\"\n",
    "    Caculate the efficient frontier for the portfolio\n",
    "    @meanReturns: 1-d array\n",
    "    @covReturnMtx: 2-d array\n",
    "    @numPortfolios: default 10000\n",
    "    @display: boolean\n",
    "    Return:\n",
    "        display a table of return, volatility, and allocation\n",
    "    \"\"\"\n",
    "    minVolatilitySetUp = min_volatility(meanReturns, covReturnMtx)\n",
    "    stdMinPrtf, returnMin = portfolio_annualized_performance(minVolatilitySetUp['x'], meanReturns, covReturnMtx)\n",
    "    minVolatilityAlloc = pd.DataFrame(minVolatilitySetUp['x'], index=seriesnames, columns=['allocation percentage'])\n",
    "    minVolatilityAlloc['allocation percentage'] = [round(i * 100, 2) for i in minVolatilityAlloc['allocation percentage']]\n",
    "    minVolatilityAlloc = minVolatilityAlloc.T\n",
    "    \n",
    "    if display:\n",
    "        print (\"Minimum Volatility Portfolio Allocation Percentage\\n\")\n",
    "        print (\"Annualised Return:\", round(returnMin,2))\n",
    "        print (\"Annualised Volatility:\", round(stdMinPrtf,2))\n",
    "        print (\"\\n\")\n",
    "        print (minVolatilityAlloc)\n",
    "        print (\"--------------------------------\")\n",
    "    \n",
    "    return np.ndarray.flatten(minVolatilityAlloc.values) / 100\n",
    "\n",
    "        "
   ]
  },
  {
   "cell_type": "markdown",
   "metadata": {},
   "source": [
    "# Q1"
   ]
  },
  {
   "cell_type": "code",
   "execution_count": 3,
   "metadata": {},
   "outputs": [],
   "source": [
    "def expected_prft_return(weights, returns):\n",
    "    \"\"\"\n",
    "    Calculate the expected return of given portfolio\n",
    "    @weights: 1-d array, floats\n",
    "    @returns: 1-d array, floats\n",
    "    Return:\n",
    "        float; the expected return of the portfolio\n",
    "    \"\"\"\n",
    "    return np.matmul( weights, returns.T )\n",
    "\n",
    "def variance_prtf( weights, C):\n",
    "    \"\"\"\n",
    "    Calculate the variance of the portfolio\n",
    "    @weights: 1-d array, floats\n",
    "    @C: 2-d array, covariance matrix\n",
    "    Return:\n",
    "        float; the variance of the portfolio\n",
    "    \"\"\"\n",
    "    return np.matmul( np.matmul( weights, C) , weights.T )\n",
    "\n",
    "def beta_vec(weights, C):\n",
    "    \"\"\"\n",
    "    Calculate the vector of betas \n",
    "    @weights: 1-d array, floats\n",
    "    @C: 2-d array, covariance matrix\n",
    "    Return:\n",
    "        1-d array; the vector of betas\n",
    "    \"\"\"\n",
    "    return np.matmul( C, weights ) / variance_prtf(weights, C)\n",
    "\n",
    "def muCAPM_calculation(weights, returns, C, RFRATE, RFVEC):\n",
    "    \"\"\"\n",
    "    Calculate the mu of the CAPM\n",
    "    @weights: 1-d array, floats\n",
    "    @returns: 1-d array, floats\n",
    "    @C: 2-d array, covariance matrix\n",
    "    @RFRATE: float, default \n",
    "    @RFVEC: 1-d array of [RFRATE] * DIM\n",
    "    Return:\n",
    "        1-d array; The expected return of the CAPM\n",
    "    \"\"\"\n",
    "#     return RFVEC + (expected_prft_return(weights, returns) * 10000 - RFRATE ) * beta_vec(weights, C)\n",
    "    return RFVEC + np.multiply(10000, RFVEC + ( expected_prft_return(weights, returns) - RFRATE ) * beta_vec(weights, C) )\n",
    "\n",
    "def calculate_termA(view, gamma, s, C, display=True):\n",
    "    \"\"\"\n",
    "    Calculate the First Black-Litterman term to calculate the mu \n",
    "    @view: 1-d array; opinion\n",
    "    @gamma: float\n",
    "    @C: 2-d array\n",
    "    Return:\n",
    "        2-d array; The first Black-Litterman Matrix\n",
    "    \"\"\"\n",
    "    termOne = np.linalg.inv(C) / s\n",
    "    v1 = np.matmul( np.matrix(view).T, np.linalg.inv(gamma) )\n",
    "    termTwo = np.matmul( v1 , \n",
    "                         np.matrix( view )\n",
    "                       )\n",
    "    termA = np.linalg.inv(termOne + termTwo) # \n",
    "    if display:\n",
    "        print('C-inverse/s = ', termOne)\n",
    "        print('V\\'(Gamma-inverse)V=', termTwo)\n",
    "        print('Sum=', termOne + termTwo)\n",
    "        print('Sum inverse (*10000)=', termA * 10000)\n",
    "    \n",
    "    return termA\n",
    "\n",
    "def calculate_termB(view, gamma, s, pview, weights, returns, C, RFRATE, RFVEC, display=True):\n",
    "    \"\"\"\n",
    "    Calculate the Second Black-Litterman term to calculate the mu\n",
    "    @view: 1-d array; opinion\n",
    "    @gamma: float\n",
    "    @C: 2-d array\n",
    "    @weights: 1-d array, floats\n",
    "    @returns: 1-d array, floats\n",
    "    @RFRATE: float, default \n",
    "    @RFVEC: 1-d array of [RFRATE] * DIM\n",
    "    \"\"\"\n",
    "    CInv = np.linalg.inv(C)\n",
    "    cimcs = np.matmul(CInv, muCAPM_calculation(weights, returns, C, RFRATE, RFVEC) / s) * 10 ** (-4)\n",
    "    m2 = cimcs + np.matmul( np.matrix(view).T, np.linalg.inv(gamma) ).T * pview\n",
    "    if display:\n",
    "        print('C-inverse*muCAPM/s=', cimcs)\n",
    "        print('V\\'(Gamma-Inverse)p=', np.matmul( np.matrix(view).T, np.linalg.inv(gamma) ) * pview)\n",
    "        print(\"Sum = \", m2)\n",
    "        \n",
    "    return m2\n",
    "\n",
    "def calculate_mufinal(view, gamma, s, pview, weights, returns, C, RFRATE, RFVEC, display=True):\n",
    "    \"\"\"\n",
    "    calculate the mufinal\n",
    "    \"\"\"\n",
    "    termA = calculate_termA(view, gamma, s, C, display=False)\n",
    "    termB = calculate_termB(view, gamma, s, pview, weights, returns, C, RFRATE, RFVEC, display=False)\n",
    "    mufinal = np.matmul( termA, termB.T) * 10000\n",
    "    if display:\n",
    "        print(\"Black-Litterman mu: \", mufinal)\n",
    "    \n",
    "    return mufinal\n",
    "\n",
    "def loss_func(s, view, gamma, pview, weights, returns, C, RFRATE, RFVEC):\n",
    "    mufinal = calculate_mufinal(view, gamma, s, pview, weights, returns, C, RFRATE, RFVEC, display=False)\n",
    "    mufinalFlat = np.asarray(mufinal).reshape(-1)\n",
    "#     mufinalFlat = np.ndarray.tolist(mufinal)\n",
    "    print(type(mufinal))\n",
    "    print(np.asarray(mufinal).reshape(-1))\n",
    "    print(mufinalFlat[0])\n",
    "    return abs(mufinalFlat[1]**2 - mufinalFlat[2]**2) # GLS\n",
    "\n"
   ]
  },
  {
   "cell_type": "code",
   "execution_count": 4,
   "metadata": {},
   "outputs": [],
   "source": [
    "DIM = 3 # three currencies\n",
    "RFRATE = 10**(-5) # Same default RFRATE as text book\n",
    "RFVEC = [RFRATE] * DIM"
   ]
  },
  {
   "cell_type": "markdown",
   "metadata": {},
   "source": [
    "- Get the expected return for \"CHF\", \"GBP\", \"JPY\" in the history, from the begining of 1971 to the end of 2018. "
   ]
  },
  {
   "cell_type": "code",
   "execution_count": 5,
   "metadata": {
    "scrolled": false
   },
   "outputs": [
    {
     "name": "stdout",
     "output_type": "stream",
     "text": [
      "Means: [ 1.2138 -0.5389  0.9821] bps/day\n",
      "\n",
      "The minimum variance portfolio\n",
      "(CHF, GBP, JPY)\n",
      "\n",
      "   [0.5194 0.2494 0.2207]\n",
      "C= [0.2494 0.3568 0.1166]     (4.20)\n",
      "   [0.2207 0.1166 0.4155]\n",
      "(%/day)² units\n",
      "  \n",
      "From 1971-01-05 to 2018-12-31 ( 12036 observations)\n",
      "-------------------\n",
      "\n",
      "Market mu = 0.7655 bps/day\n",
      "Market sigma² = 0.3246 (%/day)²\n"
     ]
    }
   ],
   "source": [
    "# Historical market for the three currencies\n",
    "# The minimum variance portfolio\n",
    "# from Jan 01, 1971 to Dec 31, 2018\n",
    "means20181231, covReturnMtx20181231 = get_minimum_variance_portfolio(startday='1971-01-01', \n",
    "                                                                     lastday='2018-12-31')\n",
    "\n",
    "# The minimum variance portfolio ending on Dec 31, 2018\n",
    "# mktPrtf = calculate_efficient_frontier_return([\"CHF\", \"GBP\", \"JPY\"], means20181231, covReturnMtx20181231)\n",
    "mktPrtf = np.array([.05, .15, .8])\n",
    "\n",
    "muMkt = expected_prft_return(mktPrtf, means20181231)\n",
    "print('Market mu = {0:.4f} bps/day'.format(muMkt * 10000))\n",
    "varMkt = variance_prtf(mktPrtf, covReturnMtx20181231)\n",
    "print(\"Market sigma\\N{SUPERSCRIPT TWO} = {0:.4f} (%/day)\\N{SUPERSCRIPT TWO}\".format(varMkt * 10000))\n",
    "\n"
   ]
  },
  {
   "cell_type": "markdown",
   "metadata": {},
   "source": [
    "- Compute the vector of betas of the three currencies assets with the market, and form that the $\\mu_{CAPM}$ vector given by \n",
    "$$ \\mu_{CAPM} = r_{f}u + (m^{T}\\omega_{M} - r_{f} ) \\beta $$"
   ]
  },
  {
   "cell_type": "code",
   "execution_count": 6,
   "metadata": {
    "scrolled": true
   },
   "outputs": [
    {
     "name": "stdout",
     "output_type": "stream",
     "text": [
      "beta = [0.7391 0.4906 1.1118]\n",
      "mu-CAPM = [0.5919 0.4265 0.8399] bps/day\n"
     ]
    }
   ],
   "source": [
    "betaVec = beta_vec(mktPrtf, covReturnMtx20181231)\n",
    "print(\"beta = {}\".format(betaVec))\n",
    "\n",
    "muCAPM = muCAPM_calculation(mktPrtf, means20181231, covReturnMtx20181231, RFRATE, RFVEC)\n",
    "print(\"mu-CAPM = {} bps/day\".format(muCAPM))"
   ]
  },
  {
   "cell_type": "markdown",
   "metadata": {},
   "source": [
    "**Note:**\n",
    "\n",
    "Now we have an opinion that the expected return on pounds equal to the expected return on yen. Since both the pound and the yen have positive return, we can long both currencies to have \n",
    "\n",
    "$$ p = 0.0000 $$\n",
    "$$ V = ( 0 , 1, 1) $$"
   ]
  },
  {
   "cell_type": "markdown",
   "metadata": {},
   "source": [
    "- Let's assume the error of estimate matrix of our views is $\\Gamma = 0.0001 * I$, we initialize the market beliefs with $s = 0.5$.\n",
    "\n",
    "For the term a $$\\left(\\frac{1}{s}C^{-1}+V^{\\prime}\\Gamma^{-1}V\\right)^{-1}$$\n",
    "and term b $$ \\left(\\frac{1}{s}C^{-1}\\mu_{CAPM}+V^{\\prime}\\Gamma^{-1}V\\mu_{views}\\right)\\label{eq:black_litterman_overall_mu}\\tag{4.76}$$"
   ]
  },
  {
   "cell_type": "code",
   "execution_count": 7,
   "metadata": {},
   "outputs": [],
   "source": [
    "VIEW = np.array([0, 1, -1]) # The opinion\n",
    "PVIEW = 0.00002\n",
    "GAMMA = np.matrix([.0001])\n",
    "s0 = 1.0"
   ]
  },
  {
   "cell_type": "code",
   "execution_count": 8,
   "metadata": {},
   "outputs": [],
   "source": [
    "def minimizer(view, gamma, s0, pview, weights, returns, C, RFRATE, RFVEC, DIM):\n",
    "    numAssets = DIM\n",
    "    args = (view, gamma, pview, weights, returns, C, RFRATE, RFVEC)\n",
    "    constraints = ({'type': 'eq', 'fun': lambda x: np.sum(x) - 1})\n",
    "    bound = (0.0, np.inf)\n",
    "    bounds = tuple(bound for i in range(numAssets))\n",
    "    \n",
    "    # Optimize\n",
    "    minDiffReturn = optimize.minimize(loss_func, s0, args=args, \n",
    "                                   method='nelder-mead', \n",
    "                                      options={'xtol': 1e-8, \n",
    "                                                                 'disp': True, \n",
    "                                                                 'maxiter': 500})\n",
    "    \n",
    "    return minDiffReturn"
   ]
  },
  {
   "cell_type": "code",
   "execution_count": 9,
   "metadata": {},
   "outputs": [
    {
     "name": "stdout",
     "output_type": "stream",
     "text": [
      "<class 'numpy.matrix'>\n",
      "[0.6034 0.5222 0.7208]\n",
      "0.603390015504496\n",
      "<class 'numpy.matrix'>\n",
      "[0.6038 0.5253 0.717 ]\n",
      "0.6037560631642307\n",
      "<class 'numpy.matrix'>\n",
      "[0.6041 0.5283 0.7133]\n",
      "0.6041097236495401\n",
      "<class 'numpy.matrix'>\n",
      "[0.6045 0.5311 0.7098]\n",
      "0.6044516152775432\n",
      "<class 'numpy.matrix'>\n",
      "[0.6051 0.5365 0.703 ]\n",
      "0.6051023660976058\n",
      "<class 'numpy.matrix'>\n",
      "[0.6057 0.5416 0.6967]\n",
      "0.605712509122908\n",
      "<class 'numpy.matrix'>\n",
      "[0.6068 0.5509 0.6851]\n",
      "0.6068252826805127\n",
      "<class 'numpy.matrix'>\n",
      "[0.6078 0.5592 0.6748]\n",
      "0.6078145880580212\n",
      "<class 'numpy.matrix'>\n",
      "[0.6095 0.5732 0.6574]\n",
      "0.6094967817027066\n",
      "<class 'numpy.matrix'>\n",
      "[0.6109 0.5847 0.6431]\n",
      "0.6108734728498948\n",
      "<class 'numpy.matrix'>\n",
      "[0.613  0.6024 0.621 ]\n",
      "0.612992076153427\n",
      "<class 'numpy.matrix'>\n",
      "[0.6145 0.6154 0.6049]\n",
      "0.6145461940353878\n",
      "<class 'numpy.matrix'>\n",
      "[0.6167 0.6332 0.5828]\n",
      "0.6166735339240865\n",
      "<class 'numpy.matrix'>\n",
      "[0.6157 0.6253 0.5925]\n",
      "0.6157349086875958\n",
      "<class 'numpy.matrix'>\n",
      "[0.613  0.6024 0.621 ]\n",
      "0.612992076153427\n",
      "<class 'numpy.matrix'>\n",
      "[0.6138 0.6094 0.6124]\n",
      "0.6138245892597792\n",
      "<class 'numpy.matrix'>\n",
      "[0.613  0.6024 0.621 ]\n",
      "0.6129920761534271\n",
      "<class 'numpy.matrix'>\n",
      "[0.6142 0.6125 0.6085]\n",
      "0.6141978222780193\n",
      "<class 'numpy.matrix'>\n",
      "[0.6134 0.606  0.6166]\n",
      "0.6134237352011593\n",
      "<class 'numpy.matrix'>\n",
      "[0.614  0.611  0.6104]\n",
      "0.6140144768425471\n",
      "<class 'numpy.matrix'>\n",
      "[0.6142 0.6125 0.6085]\n",
      "0.6141978222780193\n",
      "<class 'numpy.matrix'>\n",
      "[0.6139 0.6102 0.6114]\n",
      "0.6139203725108388\n",
      "<class 'numpy.matrix'>\n",
      "[0.6141 0.6117 0.6095]\n",
      "0.6141069460143396\n",
      "<class 'numpy.matrix'>\n",
      "[0.614  0.6106 0.6109]\n",
      "0.6139676317705342\n",
      "<class 'numpy.matrix'>\n",
      "[0.6139 0.6102 0.6114]\n",
      "0.6139203725108389\n",
      "<class 'numpy.matrix'>\n",
      "[0.614  0.6108 0.6107]\n",
      "0.6139911057389403\n",
      "<class 'numpy.matrix'>\n",
      "[0.614  0.611  0.6104]\n",
      "0.6140144768425471\n",
      "<class 'numpy.matrix'>\n",
      "[0.614  0.6107 0.6108]\n",
      "0.6139793816552358\n",
      "<class 'numpy.matrix'>\n",
      "[0.614  0.6109 0.6105]\n",
      "0.6140028041065384\n",
      "<class 'numpy.matrix'>\n",
      "[0.614  0.6107 0.6107]\n",
      "0.6139852469168984\n",
      "<class 'numpy.matrix'>\n",
      "[0.614  0.6107 0.6108]\n",
      "0.6139793816552358\n",
      "<class 'numpy.matrix'>\n",
      "[0.614  0.6107 0.6107]\n",
      "0.6139881771322092\n",
      "<class 'numpy.matrix'>\n",
      "[0.614  0.6107 0.6108]\n",
      "0.6139823150916829\n",
      "<class 'numpy.matrix'>\n",
      "[0.614  0.6107 0.6107]\n",
      "0.6139867122257089\n",
      "<class 'numpy.matrix'>\n",
      "[0.614  0.6107 0.6107]\n",
      "0.6139837812056117\n",
      "<class 'numpy.matrix'>\n",
      "[0.614  0.6107 0.6107]\n",
      "0.6139859796216031\n",
      "<class 'numpy.matrix'>\n",
      "[0.614  0.6107 0.6107]\n",
      "0.6139867122257089\n",
      "<class 'numpy.matrix'>\n",
      "[0.614  0.6107 0.6107]\n",
      "0.6139856132818269\n",
      "<class 'numpy.matrix'>\n",
      "[0.614  0.6107 0.6107]\n",
      "0.6139852469168984\n",
      "<class 'numpy.matrix'>\n",
      "[0.614  0.6107 0.6107]\n",
      "0.6139857964548584\n",
      "<class 'numpy.matrix'>\n",
      "[0.614  0.6107 0.6107]\n",
      "0.6139859796216025\n",
      "<class 'numpy.matrix'>\n",
      "[0.614  0.6107 0.6107]\n",
      "0.6139857048691285\n",
      "<class 'numpy.matrix'>\n",
      "[0.614  0.6107 0.6107]\n",
      "0.6139856132818269\n",
      "<class 'numpy.matrix'>\n",
      "[0.614  0.6107 0.6107]\n",
      "0.6139857506621902\n",
      "<class 'numpy.matrix'>\n",
      "[0.614  0.6107 0.6107]\n",
      "0.6139856590756742\n",
      "<class 'numpy.matrix'>\n",
      "[0.614  0.6107 0.6107]\n",
      "0.6139857277657083\n",
      "<class 'numpy.matrix'>\n",
      "[0.614  0.6107 0.6107]\n",
      "0.6139856819724502\n",
      "<class 'numpy.matrix'>\n",
      "[0.614  0.6107 0.6107]\n",
      "0.6139857163174312\n",
      "<class 'numpy.matrix'>\n",
      "[0.614  0.6107 0.6107]\n",
      "0.6139856934208019\n",
      "<class 'numpy.matrix'>\n",
      "[0.614  0.6107 0.6107]\n",
      "0.6139857105932828\n",
      "<class 'numpy.matrix'>\n",
      "[0.614  0.6107 0.6107]\n",
      "0.6139857163174309\n",
      "<class 'numpy.matrix'>\n",
      "[0.614  0.6107 0.6107]\n",
      "0.6139857077312068\n",
      "<class 'numpy.matrix'>\n",
      "[0.614  0.6107 0.6107]\n",
      "0.6139857134553574\n",
      "<class 'numpy.matrix'>\n",
      "[0.614  0.6107 0.6107]\n",
      "0.6139857091622448\n",
      "<class 'numpy.matrix'>\n",
      "[0.614  0.6107 0.6107]\n",
      "0.6139857077312063\n",
      "<class 'numpy.matrix'>\n",
      "[0.614  0.6107 0.6107]\n",
      "0.6139857098777637\n",
      "<class 'numpy.matrix'>\n",
      "[0.614  0.6107 0.6107]\n",
      "0.6139857084467255\n",
      "<class 'numpy.matrix'>\n",
      "[0.614  0.6107 0.6107]\n",
      "0.6139857095200044\n",
      "<class 'numpy.matrix'>\n",
      "[0.614  0.6107 0.6107]\n",
      "0.6139857098777635\n",
      "<class 'numpy.matrix'>\n",
      "[0.614  0.6107 0.6107]\n",
      "0.6139857093411247\n",
      "<class 'numpy.matrix'>\n",
      "[0.614  0.6107 0.6107]\n",
      "0.6139857096988844\n",
      "<class 'numpy.matrix'>\n",
      "[0.614  0.6107 0.6107]\n",
      "0.6139857094305645\n",
      "<class 'numpy.matrix'>\n",
      "[0.614  0.6107 0.6107]\n",
      "0.6139857096094443\n",
      "<class 'numpy.matrix'>\n",
      "[0.614  0.6107 0.6107]\n",
      "0.6139857094752844\n",
      "<class 'numpy.matrix'>\n",
      "[0.614  0.6107 0.6107]\n",
      "0.6139857095647244\n",
      "<class 'numpy.matrix'>\n",
      "[0.614  0.6107 0.6107]\n",
      "0.6139857094976444\n",
      "<class 'numpy.matrix'>\n",
      "[0.614  0.6107 0.6107]\n",
      "0.6139857094752844\n",
      "<class 'numpy.matrix'>\n",
      "[0.614  0.6107 0.6107]\n",
      "0.6139857095088246\n",
      "Optimization terminated successfully.\n",
      "         Current function value: 0.000000\n",
      "         Iterations: 34\n",
      "         Function evaluations: 68\n"
     ]
    },
    {
     "data": {
      "text/plain": [
       " final_simplex: (array([[3.8346],\n",
       "       [3.8346]]), array([9.6666e-11, 1.5925e-10]))\n",
       "           fun: 9.666550893072667e-11\n",
       "       message: 'Optimization terminated successfully.'\n",
       "          nfev: 68\n",
       "           nit: 34\n",
       "        status: 0\n",
       "       success: True\n",
       "             x: array([3.8346])"
      ]
     },
     "execution_count": 9,
     "metadata": {},
     "output_type": "execute_result"
    }
   ],
   "source": [
    "# Optimize\n",
    "minimizer(VIEW, GAMMA, s0, PVIEW, mktPrtf, means20181231,\n",
    "          covReturnMtx20181231, RFRATE, RFVEC, DIM)\n"
   ]
  },
  {
   "cell_type": "markdown",
   "metadata": {},
   "source": [
    "**Note:**\n",
    "\n",
    "The following is the new estimated mean return vector with the optimal s = 3.8346"
   ]
  },
  {
   "cell_type": "code",
   "execution_count": 10,
   "metadata": {},
   "outputs": [
    {
     "data": {
      "text/plain": [
       "matrix([[0.614 ],\n",
       "        [0.6107],\n",
       "        [0.6107]])"
      ]
     },
     "execution_count": 10,
     "metadata": {},
     "output_type": "execute_result"
    }
   ],
   "source": [
    "# The value of the first term\n",
    "calculate_mufinal(VIEW, GAMMA, 3.8346, PVIEW, mktPrtf, means20181231, covReturnMtx20181231, RFRATE, RFVEC, display=False)\n"
   ]
  },
  {
   "cell_type": "markdown",
   "metadata": {},
   "source": [
    "**Note:**\n",
    "\n",
    "The following of the first matrix \n",
    "$$\\left(\\frac{1}{s}C^{-1}+V^{\\prime}\\Gamma^{-1}V\\right)$$"
   ]
  },
  {
   "cell_type": "code",
   "execution_count": 11,
   "metadata": {
    "scrolled": true
   },
   "outputs": [
    {
     "data": {
      "text/plain": [
       "matrix([[  8879.1972,  -5137.9581,  -3274.4752],\n",
       "        [ -5137.9581,  21020.6461, -10363.3218],\n",
       "        [ -3274.4752, -10363.3218,  18118.2625]])"
      ]
     },
     "execution_count": 11,
     "metadata": {},
     "output_type": "execute_result"
    }
   ],
   "source": [
    "np.linalg.inv(calculate_termA(VIEW, GAMMA, 3.8346, covReturnMtx20181231, display=False))"
   ]
  },
  {
   "cell_type": "markdown",
   "metadata": {},
   "source": [
    "**Note:**\n",
    "\n",
    "The following of the second matrix \n",
    "$$ \\left(\\frac{1}{s}C^{-1}\\mu_{CAPM}+V^{\\prime}\\Gamma^{-1}V\\mu_{views}\\right)\\label{eq:black_litterman_overall_mu}\\tag{4.76}$$"
   ]
  },
  {
   "cell_type": "code",
   "execution_count": 12,
   "metadata": {},
   "outputs": [
    {
     "data": {
      "text/plain": [
       "matrix([[0.0314, 0.3354, 0.2726]])"
      ]
     },
     "execution_count": 12,
     "metadata": {},
     "output_type": "execute_result"
    }
   ],
   "source": [
    "calculate_termB(VIEW, GAMMA, 3.8346, PVIEW, mktPrtf, means20181231, covReturnMtx20181231, RFRATE, RFVEC, display=False)"
   ]
  },
  {
   "cell_type": "code",
   "execution_count": null,
   "metadata": {},
   "outputs": [],
   "source": []
  },
  {
   "cell_type": "code",
   "execution_count": null,
   "metadata": {},
   "outputs": [],
   "source": []
  },
  {
   "cell_type": "markdown",
   "metadata": {},
   "source": [
    "# Q2"
   ]
  },
  {
   "cell_type": "code",
   "execution_count": 13,
   "metadata": {},
   "outputs": [
    {
     "name": "stdout",
     "output_type": "stream",
     "text": [
      "Means: [ 1.2476 -0.5009  0.98  ] bps/day\n",
      "\n",
      "The minimum variance portfolio\n",
      "(CHF, GBP, JPY)\n",
      "\n",
      "   [0.5276 0.2528 0.2239]\n",
      "C= [0.2528 0.3592 0.1183]     (4.20)\n",
      "   [0.2239 0.1183 0.4209]\n",
      "(%/day)² units\n",
      "  \n",
      "From 1971-01-05 to 2017-12-29 ( 11787 observations)\n",
      "-------------------\n",
      "\n"
     ]
    }
   ],
   "source": [
    "# The minimum variance portfolio\n",
    "# from Jan 01, 1971 to Dec 31, 2017\n",
    "means20171231, covReturnMtx20171231 = get_minimum_variance_portfolio(startday='1971-01-01', \n",
    "                                                                     lastday='2017-12-31')"
   ]
  },
  {
   "cell_type": "code",
   "execution_count": 14,
   "metadata": {},
   "outputs": [
    {
     "name": "stdout",
     "output_type": "stream",
     "text": [
      "Minimum Volatility Portfolio Allocation Percentage\n",
      "\n",
      "Annualised Return: 0.01\n",
      "Annualised Volatility: 0.08\n",
      "\n",
      "\n",
      "                        CHF    GBP    JPY\n",
      "allocation percentage  4.22  53.12  42.66\n",
      "--------------------------------\n"
     ]
    }
   ],
   "source": [
    "# The minimum variance portfolio ending on Dec 31, 2017\n",
    "calculate_efficient_frontier([\"CHF\", \"GBP\", \"JPY\"], means20171231, covReturnMtx20171231)"
   ]
  },
  {
   "cell_type": "markdown",
   "metadata": {},
   "source": [
    "**Note:**\n",
    "\n",
    "The following approach is using the Ledoit-Wolf heuristic covariance estimator as \n",
    "\n",
    "$$C_{\\rho} = S( I + \\rho_{\\text{average}}( J - I ) ) S $$"
   ]
  },
  {
   "cell_type": "code",
   "execution_count": 15,
   "metadata": {},
   "outputs": [],
   "source": [
    "def LedoitWolf_constant_corr_cov_shrinkage_estimator(s, covMtxCurr, covMtxPrev):\n",
    "    \"\"\"\n",
    "    @s: float, constant\n",
    "    @covMtxCurr: 2-d array; the CURRENT constant correlation covariance Matrix \n",
    "    @covMtxPrev: 2-d array; the PREVIOUS constant correlation covariance Matrix \n",
    "    Return:\n",
    "        2-array; the UPDATED constant correlation covariance Matrix \n",
    "    \"\"\"\n",
    "    return s * covMtxCurr + (1 - s) * covMtxPrev"
   ]
  },
  {
   "cell_type": "code",
   "execution_count": 16,
   "metadata": {},
   "outputs": [],
   "source": [
    "# The dimension of the portfolio and the covariance matrix\n",
    "DIM = 3 # 3 currencies example\n",
    "s = 1/3"
   ]
  },
  {
   "cell_type": "code",
   "execution_count": 17,
   "metadata": {},
   "outputs": [
    {
     "name": "stdout",
     "output_type": "stream",
     "text": [
      "The minimum variance portfolio from the Ledoit-Wolf w2 is: [0.1013 0.5014 0.3972]\n"
     ]
    }
   ],
   "source": [
    "# Ledoit-Wolf heuristic covariance estimator\n",
    "\n",
    "# Form the three-currency correlation matrix as of previous year \n",
    "prevSig = np.sqrt( np.diag( np.diag( covReturnMtx20171231 ) ) )\n",
    "prevSigInv = np.linalg.inv(prevSig)\n",
    "prevRmtx = np.matmul( np.matmul (prevSigInv, covReturnMtx20171231 ), prevSigInv )\n",
    "\n",
    "# Get average correlation (off-diagonal)\n",
    "prevAvgCorr = ( np.sum( prevRmtx ) - DIM ) / ( DIM**2 - DIM)\n",
    "# Get the constant correlation covariance matrix\n",
    "innerTerm = np.identity(DIM) + prevAvgCorr * ( np.ones( (3, 3) ) - np.identity(3) )\n",
    "constCorrCovMtxCurr = np.matmul( np.matmul( prevSig, innerTerm) , prevSig )\n",
    "\n",
    "# Ledoit-Wolf estimate\n",
    "Crho = LedoitWolf_constant_corr_cov_shrinkage_estimator(s, constCorrCovMtxCurr, covReturnMtx20171231)\n",
    "\n",
    "# Inverse the Crho to convert the unit to (day/pct)^2\n",
    "CrhoInv = np.linalg.inv(Crho)\n",
    "\n",
    "# Get the minimum variance portfolio \n",
    "lower = np.sum(CrhoInv)\n",
    "u = np.ones(DIM)\n",
    "upper = np.matmul(CrhoInv, u)\n",
    "\n",
    "wMinVar = upper / lower\n",
    "\n",
    "print(\"The minimum variance portfolio from the Ledoit-Wolf w2 is: {}\".format(wMinVar) )"
   ]
  },
  {
   "cell_type": "markdown",
   "metadata": {},
   "source": [
    "**Note:**\n",
    "\n",
    "The minimum variance portfolio $w_{1}$ is [0.0422, 0.5312, 0.4266] for CHF, GBP, and JPY.\n",
    "\n",
    "The minimum variance portfolio $w_{2}$ is [0.1013 0.5014 0.3972] for CHF, GBP, and JPY."
   ]
  },
  {
   "cell_type": "code",
   "execution_count": 18,
   "metadata": {},
   "outputs": [
    {
     "name": "stdout",
     "output_type": "stream",
     "text": [
      "Means: [-0.4703 -2.5494  0.9014] bps/day\n",
      "\n",
      "The minimum variance portfolio\n",
      "(CHF, GBP, JPY)\n",
      "\n",
      "   [0.1338 0.0892 0.0688]\n",
      "C= [0.0892 0.2402 0.0361]     (4.20)\n",
      "   [0.0688 0.0361 0.1579]\n",
      "(%/day)² units\n",
      "  \n",
      "From 2018-01-03 to 2018-12-31 ( 248 observations)\n",
      "-------------------\n",
      "\n"
     ]
    }
   ],
   "source": [
    "# from Jan 01 2018 to Dec 31, 2018\n",
    "means2018, covReturnMtx2018 = get_minimum_variance_portfolio(startday='2018-01-01', \n",
    "                                                                     lastday='2018-12-31')"
   ]
  },
  {
   "cell_type": "code",
   "execution_count": 19,
   "metadata": {},
   "outputs": [
    {
     "name": "stdout",
     "output_type": "stream",
     "text": [
      "The variance of w1 in 2018 is 0.1196006409\n",
      "The variance of w2 in 2018 is 0.1156774889\n"
     ]
    }
   ],
   "source": [
    "# The minimum variance portfolio ending on Dec 31, 2017\n",
    "prtfOne = calculate_efficient_frontier_return([\"CHF\", \"GBP\", \"JPY\"], means20171231, covReturnMtx20171231, display=False)\n",
    "\n",
    "# The minimum variance # The minimum variance portfolio ending on Dec 31, 2017 by Ledoit_Wolf\n",
    "prtfTwo = wMinVar\n",
    "\n",
    "# Convert percentage to bps\n",
    "covReturnMtx2018bps = covReturnMtx2018 * 10000\n",
    "\n",
    "# w1 variance in 2018\n",
    "varOne = np.matmul ( np.matmul( prtfOne, covReturnMtx2018bps ) , prtfOne.T )\n",
    "print(\"The variance of w1 in 2018 is {0:.10f}\".format(varOne) )\n",
    "\n",
    "# w2 variance in 2018\n",
    "varTwo = np.matmul ( np.matmul( prtfTwo, covReturnMtx2018bps ) , prtfTwo.T )\n",
    "print(\"The variance of w2 in 2018 is {0:.10f}\".format(varTwo) )\n"
   ]
  },
  {
   "cell_type": "markdown",
   "metadata": {},
   "source": [
    "**Note:**\n",
    "\n",
    "Obviously, the portfolio $w_{2}$ obtained from the Ledoit-Wolf shrinkage method is better than the one $w_{1}$ obtained from the historical covariance, which means the Ledoit-Wolf shrinkage method is a better estimator under the given circumstance."
   ]
  },
  {
   "cell_type": "code",
   "execution_count": null,
   "metadata": {},
   "outputs": [],
   "source": []
  },
  {
   "cell_type": "code",
   "execution_count": null,
   "metadata": {},
   "outputs": [],
   "source": []
  },
  {
   "cell_type": "markdown",
   "metadata": {},
   "source": [
    "# Q3"
   ]
  },
  {
   "cell_type": "markdown",
   "metadata": {},
   "source": [
    "From the question, we can have \n",
    "\n",
    "$$ P ( - | F ) = 95\\% $$\n",
    "$$ P ( + | S ) = 90\\% $$\n",
    "$$ P ( F ) = 15\\% $$\n",
    "\n",
    "From the previous, we can derive that \n",
    "\n",
    "$$ P ( - | S ) = 1 - P ( + | S ) = 10 \\% $$\n",
    "$$ P ( S ) = 1 - P ( F ) = 85\\% $$\n",
    "\n",
    "So that we have \n",
    "\n",
    "$$ P ( - ) = P ( - | F ) * P ( F ) + P ( - | S ) * P ( S ) $$\n",
    "$$ = 0.95 * 0.15 + 0.10 * 0.85 $$\n",
    "$$ = 0.2275 $$\n",
    "\n",
    "and \n",
    "\n",
    "$$ P ( F | - ) = \\frac{ P ( - | F ) P ( F ) }{ P ( - ) } $$\n",
    "$$ = \\frac{ 0.95 * 0.15 }{ 0.2275 } $$\n",
    "$$ = 0.6264 $$ \n",
    "\n",
    "$$ P ( S | - )  = \\frac{ P ( - | S ) P ( S ) }{ P ( - ) } $$\n",
    "$$ = \\frac { 0.10 * 0.85 } { 0.2275 } $$\n",
    "$$ = 0.3736 $$\n",
    "\n",
    "Thus, under the circumstance that the model predicts fail, the hedge has a probability of 0.6264 to fail and a probability of 0.3736 to success. \n",
    "\n",
    "Assume we have initial wealth $w$, $10\\%w$ in hedge fund and $90\\%w$ in cash.\n",
    "\n",
    "If money stays in the hedge fund, the expected utility will be \n",
    "\n",
    "$$ E[u(w)]_{stay} = P ( F | - ) * \\ln{( 0.1w * 0.5 + 0.9w )} + P ( S | - ) * \\ln{( 0.1w * 1.85 + 0.9w )} $$ \n",
    "$$ = 0.6264 * \\ln{ 0.95w } + 0.3736 * \\ln{ 1.085w } $$\n",
    "$$ = 0.6264 * \\ln{ 0.95 } + 0.3736 * \\ln{ 1.085 } + 0.6264\\ln{w} + 0.3736\\ln{w}$$\n",
    "$$ = \\ln{ w } - 0.0016518 $$\n",
    "\n",
    "If we pull out the money, the expected utility will be \n",
    "$$ E[u(w)]_{out} = \\ln{( 0.1w * 0.98 + 0.9w )} $$\n",
    "$$ = \\ln { 0.998w } $$\n",
    "$$ = \\ln { 0.998 } + \\ln{ w } $$\n",
    "$$ = \\ln{ w }  - 0.002002 $$"
   ]
  },
  {
   "cell_type": "markdown",
   "metadata": {},
   "source": [
    "Obviously, $ \\text{for all } w > 0, \\text{ we have } E[u(w)]_{stay} > E[u(w)]_{out}$ . \n",
    "\n",
    "We should stay the money with the hedge fund. "
   ]
  },
  {
   "cell_type": "code",
   "execution_count": null,
   "metadata": {},
   "outputs": [],
   "source": []
  },
  {
   "cell_type": "code",
   "execution_count": null,
   "metadata": {},
   "outputs": [],
   "source": []
  },
  {
   "cell_type": "code",
   "execution_count": null,
   "metadata": {},
   "outputs": [],
   "source": []
  },
  {
   "cell_type": "markdown",
   "metadata": {},
   "source": [
    "<div class=\"alert alert-block alert-warning\">\n",
    "<b>Warning:</b> Personal validation for Q3, no need to run.\n",
    "</div>"
   ]
  },
  {
   "cell_type": "code",
   "execution_count": 20,
   "metadata": {},
   "outputs": [],
   "source": [
    "import numpy as np\n",
    "import matplotlib.pyplot as plt\n",
    "%matplotlib inline"
   ]
  },
  {
   "cell_type": "code",
   "execution_count": 21,
   "metadata": {},
   "outputs": [],
   "source": [
    "def expected_utility_stay(w):\n",
    "    \"\"\"\n",
    "    Calculate the expected utility if stay with hedge fund given initial wealth\n",
    "    \"\"\"\n",
    "    return 0.6264 * np.log(0.95 * w) + 0.3736 * np.log(1.085 * w) \n",
    "\n",
    "def expected_utility_out(w):\n",
    "    \"\"\"\n",
    "    Calculate the expected utility if we take 10% money out and stay in cash \n",
    "    \"\"\"\n",
    "    return np.log(0.998 * w)\n"
   ]
  },
  {
   "cell_type": "code",
   "execution_count": 22,
   "metadata": {},
   "outputs": [],
   "source": [
    "w0 = np.linspace(1, 1000000, 1000) # initial wealth \n",
    "\n",
    "# final expected utilities given different initial wealth \n",
    "expUtilStay = [expected_utility_stay(w) for w in w0]\n",
    "expUtilOut = [expected_utility_out(w) for w in w0]\n"
   ]
  },
  {
   "cell_type": "code",
   "execution_count": 23,
   "metadata": {},
   "outputs": [
    {
     "data": {
      "text/plain": [
       "<matplotlib.legend.Legend at 0x11bd89518>"
      ]
     },
     "execution_count": 23,
     "metadata": {},
     "output_type": "execute_result"
    },
    {
     "data": {
      "image/png": "[encoded data removed]",
      "text/plain": [
       "<Figure size 1080x720 with 1 Axes>"
      ]
     },
     "metadata": {},
     "output_type": "display_data"
    }
   ],
   "source": [
    "# plot \n",
    "fig = plt.figure(figsize=(15, 10))\n",
    "plt.plot(w0, expUtilStay, '-g', label='Stay')\n",
    "plt.plot(w0, expUtilOut, ':b', label='Out')\n",
    "plt.ylabel(\"Utility\")\n",
    "plt.xlabel(\"\")\n",
    "plt.legend()"
   ]
  },
  {
   "cell_type": "markdown",
   "metadata": {},
   "source": [
    "From WolframAlpha, we always have expected_utility_stay > expected_utility_out . Should stay with the hedge fund."
   ]
  },
  {
   "cell_type": "code",
   "execution_count": null,
   "metadata": {},
   "outputs": [],
   "source": []
  }
 ],
 "metadata": {
  "kernelspec": {
   "display_name": "Python 3",
   "language": "python",
   "name": "python3"
  },
  "language_info": {
   "codemirror_mode": {
    "name": "ipython",
    "version": 3
   },
   "file_extension": ".py",
   "mimetype": "text/x-python",
   "name": "python",
   "nbconvert_exporter": "python",
   "pygments_lexer": "ipython3",
   "version": "3.6.5"
  }
 },
 "nbformat": 4,
 "nbformat_minor": 2
}
